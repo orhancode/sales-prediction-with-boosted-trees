{
 "cells": [
  {
   "cell_type": "markdown",
   "metadata": {
    "papermill": {
     "duration": 0.055377,
     "end_time": "2020-10-12T08:35:07.795829",
     "exception": false,
     "start_time": "2020-10-12T08:35:07.740452",
     "status": "completed"
    },
    "tags": []
   },
   "source": [
    "# Predict Future Sales\n",
    "\n",
    "Notes from the competition host:\n",
    "\n",
    "*This challenge serves as final project for the \"How to win a data science competition\" Coursera course.*\n",
    "\n",
    "*In this competition you will work with a challenging time-series dataset consisting of daily sales data, kindly provided by one of the largest Russian software firms - 1C Company.*\n",
    "\n",
    "*We are asking you to predict total sales for every product and store in the next month. By solving this competition you will be able to apply and enhance your data science skills.*\n",
    "\n",
    "*Submissions are evaluated by root mean squared error (RMSE). **True target values are clipped into [0,20] range**.*\n",
    "\n",
    "*For each id in the test set, you must predict a total number of sales.*"
   ]
  },
  {
   "cell_type": "markdown",
   "metadata": {
    "papermill": {
     "duration": 0.053519,
     "end_time": "2020-10-12T08:35:07.903726",
     "exception": false,
     "start_time": "2020-10-12T08:35:07.850207",
     "status": "completed"
    },
    "tags": []
   },
   "source": [
    "# Importing libraries"
   ]
  },
  {
   "cell_type": "code",
   "execution_count": 1,
   "metadata": {
    "execution": {
     "iopub.execute_input": "2020-10-12T08:35:08.029115Z",
     "iopub.status.busy": "2020-10-12T08:35:08.028358Z",
     "iopub.status.idle": "2020-10-12T08:35:12.086565Z",
     "shell.execute_reply": "2020-10-12T08:35:12.087858Z"
    },
    "papermill": {
     "duration": 4.129418,
     "end_time": "2020-10-12T08:35:12.088151",
     "exception": false,
     "start_time": "2020-10-12T08:35:07.958733",
     "status": "completed"
    },
    "tags": []
   },
   "outputs": [],
   "source": [
    "# This Python 3 environment comes with many helpful analytics libraries installed\n",
    "# It is defined by the kaggle/python Docker image: https://github.com/kaggle/docker-python\n",
    "# For example, here's several helpful packages to load\n",
    "\n",
    "import numpy as np  # linear algebra\n",
    "import pandas as pd\n",
    "\n",
    "pd.set_option(\"display.float_format\", lambda x: \"%.2f\" % x)\n",
    "pd.set_option(\"display.max_columns\", 500)\n",
    "pd.set_option(\"display.max_rows\", 1500)\n",
    "\n",
    "import warnings\n",
    "\n",
    "import sys\n",
    "import calendar\n",
    "import datetime\n",
    "import os\n",
    "\n",
    "# Input data files are available in the read-only '../input/' directory\n",
    "# For example, running this (by clicking run or pressing Shift+Enter) will list all files under the input directory\n",
    "from itertools import product\n",
    "import random\n",
    "import gc\n",
    "import matplotlib.pyplot as plt\n",
    "import matplotlib.ticker as mticker\n",
    "import plotly\n",
    "import plotly.express as px\n",
    "import plotly.graph_objects as go\n",
    "import seaborn as sns\n",
    "from xgboost import XGBRegressor\n",
    "from plotly.subplots import make_subplots\n",
    "from sklearn.feature_extraction.text import TfidfVectorizer\n",
    "from sklearn.metrics.pairwise import cosine_similarity\n",
    "from sklearn.preprocessing import KBinsDiscretizer\n",
    "from sklearn.preprocessing import StandardScaler\n",
    "from xgboost import plot_importance\n",
    "\n",
    "# You can write up to 5GB to the current directory (/kaggle/working/) that gets preserved as output when you create a version using 'Save & Run All'\n",
    "# You can also write temporary files to /kaggle/temp/, but they won't be saved outside of the current session\n",
    "%matplotlib inline"
   ]
  },
  {
   "cell_type": "code",
   "execution_count": 2,
   "metadata": {
    "_cell_guid": "79c7e3d0-c299-4dcb-8224-4455121ee9b0",
    "_kg_hide-input": true,
    "_uuid": "d629ff2d2480ee46fbb7e2d37f6b5fab8052498a",
    "execution": {
     "iopub.execute_input": "2020-10-12T08:35:12.249701Z",
     "iopub.status.busy": "2020-10-12T08:35:12.246829Z",
     "iopub.status.idle": "2020-10-12T08:35:12.263059Z",
     "shell.execute_reply": "2020-10-12T08:35:12.264111Z"
    },
    "papermill": {
     "duration": 0.102311,
     "end_time": "2020-10-12T08:35:12.264273",
     "exception": false,
     "start_time": "2020-10-12T08:35:12.161962",
     "status": "completed"
    },
    "tags": []
   },
   "outputs": [
    {
     "data": {
      "application/javascript": [
       "IPython.OutputArea.auto_scroll_threshold = 9999;\n"
      ],
      "text/plain": [
       "<IPython.core.display.Javascript object>"
      ]
     },
     "metadata": {},
     "output_type": "display_data"
    }
   ],
   "source": [
    "%%javascript\n",
    "IPython.OutputArea.auto_scroll_threshold = 9999;"
   ]
  },
  {
   "cell_type": "markdown",
   "metadata": {
    "papermill": {
     "duration": 0.074104,
     "end_time": "2020-10-12T08:35:12.401075",
     "exception": false,
     "start_time": "2020-10-12T08:35:12.326971",
     "status": "completed"
    },
    "tags": []
   },
   "source": [
    "Loading train and test sets. We have more input data than these two; however, due to high memory use of these files, I will import the rest of the data right when I need them.<br> In addition, to utilize the use of local variables and reduce memory footprint, I tried to wrap the code in functions."
   ]
  },
  {
   "cell_type": "code",
   "execution_count": 3,
   "metadata": {
    "_kg_hide-input": true,
    "execution": {
     "iopub.execute_input": "2020-10-12T08:35:12.555626Z",
     "iopub.status.busy": "2020-10-12T08:35:12.554848Z",
     "iopub.status.idle": "2020-10-12T08:35:14.408138Z",
     "shell.execute_reply": "2020-10-12T08:35:14.407447Z"
    },
    "papermill": {
     "duration": 1.93399,
     "end_time": "2020-10-12T08:35:14.408252",
     "exception": false,
     "start_time": "2020-10-12T08:35:12.474262",
     "status": "completed"
    },
    "tags": []
   },
   "outputs": [],
   "source": [
    "random.seed(35)\n",
    "  \n",
    "train = pd.read_csv('../input/competitive-data-science-predict-future-sales/sales_train.csv')\n",
    "test = pd.read_csv('../input/competitive-data-science-predict-future-sales/test.csv')"
   ]
  },
  {
   "cell_type": "markdown",
   "metadata": {
    "papermill": {
     "duration": 0.055771,
     "end_time": "2020-10-12T08:35:14.520937",
     "exception": false,
     "start_time": "2020-10-12T08:35:14.465166",
     "status": "completed"
    },
    "tags": []
   },
   "source": [
    "A small utility function to downcast df as we're working with large amounts of data."
   ]
  },
  {
   "cell_type": "code",
   "execution_count": 4,
   "metadata": {
    "execution": {
     "iopub.execute_input": "2020-10-12T08:35:14.654635Z",
     "iopub.status.busy": "2020-10-12T08:35:14.653652Z",
     "iopub.status.idle": "2020-10-12T08:35:15.573972Z",
     "shell.execute_reply": "2020-10-12T08:35:15.574616Z"
    },
    "papermill": {
     "duration": 0.997092,
     "end_time": "2020-10-12T08:35:15.574776",
     "exception": false,
     "start_time": "2020-10-12T08:35:14.577684",
     "status": "completed"
    },
    "tags": []
   },
   "outputs": [
    {
     "name": "stdout",
     "output_type": "stream",
     "text": [
      "Memory use: \n",
      "                  |before downcast|  |after downcast|  |reduction (%)|\n",
      "Index                         128               128             0.00\n",
      "date                     23486792          23486792             0.00\n",
      "date_block_num           23486792           2935849            87.50\n",
      "shop_id                  23486792           2935849            87.50\n",
      "item_id                  23486792           5871698            75.00\n",
      "item_price               23486792          11743396            50.00\n",
      "item_cnt_day             23486792          11743396            50.00\n",
      "\n",
      "\n",
      "Memory use: \n",
      "           |before downcast|  |after downcast|  |reduction (%)|\n",
      "Index                  128               128             0.00\n",
      "ID                 1713600            856800            50.00\n",
      "shop_id            1713600            214200            87.50\n",
      "item_id            1713600            428400            75.00\n",
      "\n",
      "\n"
     ]
    }
   ],
   "source": [
    "def downcast_df(df):\n",
    "\n",
    "    before = df.memory_usage()\n",
    "    # skip any columns with nan, otherwise program throws an error\n",
    "    cols_to_skip = df.isna().sum()[df.isna().sum() > 0].index\n",
    "    numcols = [\n",
    "        col for col in df.select_dtypes(\"number\").columns if col not in cols_to_skip\n",
    "    ]\n",
    "    ints = df.select_dtypes(int).columns\n",
    "    floats = df.select_dtypes(float).columns\n",
    "\n",
    "    for col in ints:\n",
    "        df[col] = pd.to_numeric(df[col].values, downcast=\"integer\")\n",
    "    for col in floats:\n",
    "        df[col] = pd.to_numeric(df[col].values, downcast=\"float\")\n",
    "\n",
    "    after = df.memory_usage()\n",
    "    reduction = (before - after) / before * 100\n",
    "\n",
    "    comparison = pd.concat([before, after, reduction], axis=1)\n",
    "    comparison.columns = [\n",
    "        \"|before downcast|\",\n",
    "        \"|after downcast|\",\n",
    "        \"|reduction (%)|\",\n",
    "    ]\n",
    "\n",
    "    print(f\"Memory use: \\n  {comparison}\\n\\n\")\n",
    "\n",
    "    return df\n",
    "\n",
    "\n",
    "df = downcast_df(train)\n",
    "df = downcast_df(test)\n"
   ]
  },
  {
   "cell_type": "code",
   "execution_count": 5,
   "metadata": {
    "_kg_hide-input": true,
    "execution": {
     "iopub.execute_input": "2020-10-12T08:35:15.697866Z",
     "iopub.status.busy": "2020-10-12T08:35:15.697209Z",
     "iopub.status.idle": "2020-10-12T08:35:15.706643Z",
     "shell.execute_reply": "2020-10-12T08:35:15.707328Z"
    },
    "papermill": {
     "duration": 0.07296,
     "end_time": "2020-10-12T08:35:15.707497",
     "exception": false,
     "start_time": "2020-10-12T08:35:15.634537",
     "status": "completed"
    },
    "tags": []
   },
   "outputs": [
    {
     "name": "stdout",
     "output_type": "stream",
     "text": [
      "Train set contains 2935849 rows,6 columns. \n",
      "Test set contains 214200 rows, 3 columns.\n",
      "\n",
      "These are the features in TRAIN and NOT in TEST ->{'item_cnt_day', 'date', 'item_price', 'date_block_num'}.\n",
      "These are the features in TEST and NOT in TRAIN -> {'ID'}\n"
     ]
    }
   ],
   "source": [
    "print(f'Train set contains {train.shape[0]} rows,{train.shape[1]} columns. \\nTest set contains {test.shape[0]} rows, {test.shape[1]} columns.\\n')\n",
    "print(f'These are the features in TRAIN and NOT in TEST ->{set(train.columns) - set(test.columns)}.\\nThese are the features in TEST and NOT in TRAIN -> {set(test.columns) - set(train.columns)}')"
   ]
  },
  {
   "cell_type": "markdown",
   "metadata": {
    "papermill": {
     "duration": 0.059838,
     "end_time": "2020-10-12T08:35:15.832499",
     "exception": false,
     "start_time": "2020-10-12T08:35:15.772661",
     "status": "completed"
    },
    "tags": []
   },
   "source": [
    "Checking the data types and missing value counts in train and test sets"
   ]
  },
  {
   "cell_type": "code",
   "execution_count": 6,
   "metadata": {
    "execution": {
     "iopub.execute_input": "2020-10-12T08:35:15.958364Z",
     "iopub.status.busy": "2020-10-12T08:35:15.956504Z",
     "iopub.status.idle": "2020-10-12T08:35:16.279440Z",
     "shell.execute_reply": "2020-10-12T08:35:16.280148Z"
    },
    "papermill": {
     "duration": 0.388923,
     "end_time": "2020-10-12T08:35:16.280367",
     "exception": false,
     "start_time": "2020-10-12T08:35:15.891444",
     "status": "completed"
    },
    "tags": []
   },
   "outputs": [
    {
     "name": "stdout",
     "output_type": "stream",
     "text": [
      "<class 'pandas.core.frame.DataFrame'>\n",
      "RangeIndex: 2935849 entries, 0 to 2935848\n",
      "Data columns (total 6 columns):\n",
      " #   Column          Non-Null Count    Dtype  \n",
      "---  ------          --------------    -----  \n",
      " 0   date            2935849 non-null  object \n",
      " 1   date_block_num  2935849 non-null  int8   \n",
      " 2   shop_id         2935849 non-null  int8   \n",
      " 3   item_id         2935849 non-null  int16  \n",
      " 4   item_price      2935849 non-null  float32\n",
      " 5   item_cnt_day    2935849 non-null  float32\n",
      "dtypes: float32(2), int16(1), int8(2), object(1)\n",
      "memory usage: 56.0+ MB\n"
     ]
    }
   ],
   "source": [
    "train.info(verbose=True, null_counts=True)"
   ]
  },
  {
   "cell_type": "code",
   "execution_count": 7,
   "metadata": {
    "execution": {
     "iopub.execute_input": "2020-10-12T08:35:16.406896Z",
     "iopub.status.busy": "2020-10-12T08:35:16.406038Z",
     "iopub.status.idle": "2020-10-12T08:35:16.415915Z",
     "shell.execute_reply": "2020-10-12T08:35:16.415312Z"
    },
    "papermill": {
     "duration": 0.073974,
     "end_time": "2020-10-12T08:35:16.416012",
     "exception": false,
     "start_time": "2020-10-12T08:35:16.342038",
     "status": "completed"
    },
    "tags": []
   },
   "outputs": [
    {
     "name": "stdout",
     "output_type": "stream",
     "text": [
      "<class 'pandas.core.frame.DataFrame'>\n",
      "RangeIndex: 214200 entries, 0 to 214199\n",
      "Data columns (total 3 columns):\n",
      " #   Column   Non-Null Count   Dtype\n",
      "---  ------   --------------   -----\n",
      " 0   ID       214200 non-null  int32\n",
      " 1   shop_id  214200 non-null  int8 \n",
      " 2   item_id  214200 non-null  int16\n",
      "dtypes: int16(1), int32(1), int8(1)\n",
      "memory usage: 1.4 MB\n"
     ]
    }
   ],
   "source": [
    "test.info(verbose=True, null_counts=True)"
   ]
  },
  {
   "cell_type": "markdown",
   "metadata": {
    "papermill": {
     "duration": 0.05954,
     "end_time": "2020-10-12T08:35:16.538018",
     "exception": false,
     "start_time": "2020-10-12T08:35:16.478478",
     "status": "completed"
    },
    "tags": []
   },
   "source": [
    "Looking at a sample of records from train and test sets"
   ]
  },
  {
   "cell_type": "code",
   "execution_count": 8,
   "metadata": {
    "execution": {
     "iopub.execute_input": "2020-10-12T08:35:16.663049Z",
     "iopub.status.busy": "2020-10-12T08:35:16.662022Z",
     "iopub.status.idle": "2020-10-12T08:35:16.761385Z",
     "shell.execute_reply": "2020-10-12T08:35:16.761893Z"
    },
    "papermill": {
     "duration": 0.16358,
     "end_time": "2020-10-12T08:35:16.762030",
     "exception": false,
     "start_time": "2020-10-12T08:35:16.598450",
     "status": "completed"
    },
    "tags": []
   },
   "outputs": [
    {
     "data": {
      "text/html": [
       "<div>\n",
       "<style scoped>\n",
       "    .dataframe tbody tr th:only-of-type {\n",
       "        vertical-align: middle;\n",
       "    }\n",
       "\n",
       "    .dataframe tbody tr th {\n",
       "        vertical-align: top;\n",
       "    }\n",
       "\n",
       "    .dataframe thead th {\n",
       "        text-align: right;\n",
       "    }\n",
       "</style>\n",
       "<table border=\"1\" class=\"dataframe\">\n",
       "  <thead>\n",
       "    <tr style=\"text-align: right;\">\n",
       "      <th></th>\n",
       "      <th>date</th>\n",
       "      <th>date_block_num</th>\n",
       "      <th>shop_id</th>\n",
       "      <th>item_id</th>\n",
       "      <th>item_price</th>\n",
       "      <th>item_cnt_day</th>\n",
       "    </tr>\n",
       "  </thead>\n",
       "  <tbody>\n",
       "    <tr>\n",
       "      <th>1154874</th>\n",
       "      <td>08.12.2013</td>\n",
       "      <td>11</td>\n",
       "      <td>27</td>\n",
       "      <td>12632</td>\n",
       "      <td>149.00</td>\n",
       "      <td>1.00</td>\n",
       "    </tr>\n",
       "    <tr>\n",
       "      <th>547476</th>\n",
       "      <td>26.06.2013</td>\n",
       "      <td>5</td>\n",
       "      <td>38</td>\n",
       "      <td>6488</td>\n",
       "      <td>699.00</td>\n",
       "      <td>1.00</td>\n",
       "    </tr>\n",
       "    <tr>\n",
       "      <th>772049</th>\n",
       "      <td>09.08.2013</td>\n",
       "      <td>7</td>\n",
       "      <td>57</td>\n",
       "      <td>6490</td>\n",
       "      <td>699.00</td>\n",
       "      <td>1.00</td>\n",
       "    </tr>\n",
       "    <tr>\n",
       "      <th>459289</th>\n",
       "      <td>12.05.2013</td>\n",
       "      <td>4</td>\n",
       "      <td>25</td>\n",
       "      <td>20239</td>\n",
       "      <td>299.00</td>\n",
       "      <td>1.00</td>\n",
       "    </tr>\n",
       "    <tr>\n",
       "      <th>2565476</th>\n",
       "      <td>17.04.2015</td>\n",
       "      <td>27</td>\n",
       "      <td>25</td>\n",
       "      <td>486</td>\n",
       "      <td>300.00</td>\n",
       "      <td>1.00</td>\n",
       "    </tr>\n",
       "  </tbody>\n",
       "</table>\n",
       "</div>"
      ],
      "text/plain": [
       "               date  date_block_num  shop_id  item_id  item_price  \\\n",
       "1154874  08.12.2013              11       27    12632      149.00   \n",
       "547476   26.06.2013               5       38     6488      699.00   \n",
       "772049   09.08.2013               7       57     6490      699.00   \n",
       "459289   12.05.2013               4       25    20239      299.00   \n",
       "2565476  17.04.2015              27       25      486      300.00   \n",
       "\n",
       "         item_cnt_day  \n",
       "1154874          1.00  \n",
       "547476           1.00  \n",
       "772049           1.00  \n",
       "459289           1.00  \n",
       "2565476          1.00  "
      ]
     },
     "execution_count": 8,
     "metadata": {},
     "output_type": "execute_result"
    }
   ],
   "source": [
    "train.sample(5)"
   ]
  },
  {
   "cell_type": "code",
   "execution_count": 9,
   "metadata": {
    "execution": {
     "iopub.execute_input": "2020-10-12T08:35:16.888808Z",
     "iopub.status.busy": "2020-10-12T08:35:16.888059Z",
     "iopub.status.idle": "2020-10-12T08:35:16.901489Z",
     "shell.execute_reply": "2020-10-12T08:35:16.902019Z"
    },
    "papermill": {
     "duration": 0.078217,
     "end_time": "2020-10-12T08:35:16.902175",
     "exception": false,
     "start_time": "2020-10-12T08:35:16.823958",
     "status": "completed"
    },
    "tags": []
   },
   "outputs": [
    {
     "data": {
      "text/html": [
       "<div>\n",
       "<style scoped>\n",
       "    .dataframe tbody tr th:only-of-type {\n",
       "        vertical-align: middle;\n",
       "    }\n",
       "\n",
       "    .dataframe tbody tr th {\n",
       "        vertical-align: top;\n",
       "    }\n",
       "\n",
       "    .dataframe thead th {\n",
       "        text-align: right;\n",
       "    }\n",
       "</style>\n",
       "<table border=\"1\" class=\"dataframe\">\n",
       "  <thead>\n",
       "    <tr style=\"text-align: right;\">\n",
       "      <th></th>\n",
       "      <th>ID</th>\n",
       "      <th>shop_id</th>\n",
       "      <th>item_id</th>\n",
       "    </tr>\n",
       "  </thead>\n",
       "  <tbody>\n",
       "    <tr>\n",
       "      <th>56832</th>\n",
       "      <td>56832</td>\n",
       "      <td>25</td>\n",
       "      <td>13159</td>\n",
       "    </tr>\n",
       "    <tr>\n",
       "      <th>63725</th>\n",
       "      <td>63725</td>\n",
       "      <td>22</td>\n",
       "      <td>4067</td>\n",
       "    </tr>\n",
       "    <tr>\n",
       "      <th>174243</th>\n",
       "      <td>174243</td>\n",
       "      <td>35</td>\n",
       "      <td>16051</td>\n",
       "    </tr>\n",
       "    <tr>\n",
       "      <th>109443</th>\n",
       "      <td>109443</td>\n",
       "      <td>50</td>\n",
       "      <td>8029</td>\n",
       "    </tr>\n",
       "    <tr>\n",
       "      <th>96467</th>\n",
       "      <td>96467</td>\n",
       "      <td>14</td>\n",
       "      <td>4179</td>\n",
       "    </tr>\n",
       "  </tbody>\n",
       "</table>\n",
       "</div>"
      ],
      "text/plain": [
       "            ID  shop_id  item_id\n",
       "56832    56832       25    13159\n",
       "63725    63725       22     4067\n",
       "174243  174243       35    16051\n",
       "109443  109443       50     8029\n",
       "96467    96467       14     4179"
      ]
     },
     "execution_count": 9,
     "metadata": {},
     "output_type": "execute_result"
    }
   ],
   "source": [
    "test.sample(5)"
   ]
  },
  {
   "cell_type": "code",
   "execution_count": 10,
   "metadata": {
    "execution": {
     "iopub.execute_input": "2020-10-12T08:35:17.032253Z",
     "iopub.status.busy": "2020-10-12T08:35:17.030807Z",
     "iopub.status.idle": "2020-10-12T08:35:17.269476Z",
     "shell.execute_reply": "2020-10-12T08:35:17.269969Z"
    },
    "papermill": {
     "duration": 0.30704,
     "end_time": "2020-10-12T08:35:17.270105",
     "exception": false,
     "start_time": "2020-10-12T08:35:16.963065",
     "status": "completed"
    },
    "tags": []
   },
   "outputs": [
    {
     "data": {
      "text/html": [
       "<div>\n",
       "<style scoped>\n",
       "    .dataframe tbody tr th:only-of-type {\n",
       "        vertical-align: middle;\n",
       "    }\n",
       "\n",
       "    .dataframe tbody tr th {\n",
       "        vertical-align: top;\n",
       "    }\n",
       "\n",
       "    .dataframe thead th {\n",
       "        text-align: right;\n",
       "    }\n",
       "</style>\n",
       "<table border=\"1\" class=\"dataframe\">\n",
       "  <thead>\n",
       "    <tr style=\"text-align: right;\">\n",
       "      <th></th>\n",
       "      <th>date_block_num</th>\n",
       "      <th>item_price</th>\n",
       "      <th>item_cnt_day</th>\n",
       "    </tr>\n",
       "  </thead>\n",
       "  <tbody>\n",
       "    <tr>\n",
       "      <th>count</th>\n",
       "      <td>2935849.00</td>\n",
       "      <td>2935849.00</td>\n",
       "      <td>2935849.00</td>\n",
       "    </tr>\n",
       "    <tr>\n",
       "      <th>mean</th>\n",
       "      <td>14.57</td>\n",
       "      <td>890.62</td>\n",
       "      <td>1.24</td>\n",
       "    </tr>\n",
       "    <tr>\n",
       "      <th>std</th>\n",
       "      <td>9.42</td>\n",
       "      <td>1726.44</td>\n",
       "      <td>2.61</td>\n",
       "    </tr>\n",
       "    <tr>\n",
       "      <th>min</th>\n",
       "      <td>0.00</td>\n",
       "      <td>-1.00</td>\n",
       "      <td>-22.00</td>\n",
       "    </tr>\n",
       "    <tr>\n",
       "      <th>25%</th>\n",
       "      <td>7.00</td>\n",
       "      <td>249.00</td>\n",
       "      <td>1.00</td>\n",
       "    </tr>\n",
       "    <tr>\n",
       "      <th>50%</th>\n",
       "      <td>14.00</td>\n",
       "      <td>399.00</td>\n",
       "      <td>1.00</td>\n",
       "    </tr>\n",
       "    <tr>\n",
       "      <th>75%</th>\n",
       "      <td>23.00</td>\n",
       "      <td>999.00</td>\n",
       "      <td>1.00</td>\n",
       "    </tr>\n",
       "    <tr>\n",
       "      <th>max</th>\n",
       "      <td>33.00</td>\n",
       "      <td>307980.00</td>\n",
       "      <td>2169.00</td>\n",
       "    </tr>\n",
       "  </tbody>\n",
       "</table>\n",
       "</div>"
      ],
      "text/plain": [
       "       date_block_num  item_price  item_cnt_day\n",
       "count      2935849.00  2935849.00    2935849.00\n",
       "mean            14.57      890.62          1.24\n",
       "std              9.42     1726.44          2.61\n",
       "min              0.00       -1.00        -22.00\n",
       "25%              7.00      249.00          1.00\n",
       "50%             14.00      399.00          1.00\n",
       "75%             23.00      999.00          1.00\n",
       "max             33.00   307980.00       2169.00"
      ]
     },
     "execution_count": 10,
     "metadata": {},
     "output_type": "execute_result"
    }
   ],
   "source": [
    "train.drop(columns=['item_id','shop_id']).describe()"
   ]
  },
  {
   "cell_type": "markdown",
   "metadata": {
    "papermill": {
     "duration": 0.061553,
     "end_time": "2020-10-12T08:35:17.393525",
     "exception": false,
     "start_time": "2020-10-12T08:35:17.331972",
     "status": "completed"
    },
    "tags": []
   },
   "source": [
    "A few things to note:\n",
    "* There are negative values under the sales quantity column (item_cnt_day). I assume they indicate returns..\n",
    "* There is also negative item price. I assume this is an error and needs to be corrected."
   ]
  },
  {
   "cell_type": "markdown",
   "metadata": {
    "papermill": {
     "duration": 0.06176,
     "end_time": "2020-10-12T08:35:17.516398",
     "exception": false,
     "start_time": "2020-10-12T08:35:17.454638",
     "status": "completed"
    },
    "tags": []
   },
   "source": [
    "Adding columns to the test dataframe to align it with the train df."
   ]
  },
  {
   "cell_type": "code",
   "execution_count": 11,
   "metadata": {
    "execution": {
     "iopub.execute_input": "2020-10-12T08:35:17.648766Z",
     "iopub.status.busy": "2020-10-12T08:35:17.647939Z",
     "iopub.status.idle": "2020-10-12T08:35:17.655234Z",
     "shell.execute_reply": "2020-10-12T08:35:17.654730Z"
    },
    "papermill": {
     "duration": 0.076969,
     "end_time": "2020-10-12T08:35:17.655331",
     "exception": false,
     "start_time": "2020-10-12T08:35:17.578362",
     "status": "completed"
    },
    "tags": []
   },
   "outputs": [],
   "source": [
    "test = test.drop('ID', axis=1)\n",
    "\n",
    "test['date'] = '01.11.2015'\n",
    "test['date_block_num'] = 34\n",
    "test['item_cnt_day'] = np.nan\n",
    "test['item_price'] = np.nan"
   ]
  },
  {
   "cell_type": "markdown",
   "metadata": {
    "papermill": {
     "duration": 0.061799,
     "end_time": "2020-10-12T08:35:17.778461",
     "exception": false,
     "start_time": "2020-10-12T08:35:17.716662",
     "status": "completed"
    },
    "tags": []
   },
   "source": [
    "Taking a closer look at the record(s) with the negative price."
   ]
  },
  {
   "cell_type": "code",
   "execution_count": 12,
   "metadata": {
    "execution": {
     "iopub.execute_input": "2020-10-12T08:35:17.910983Z",
     "iopub.status.busy": "2020-10-12T08:35:17.910010Z",
     "iopub.status.idle": "2020-10-12T08:35:17.920994Z",
     "shell.execute_reply": "2020-10-12T08:35:17.921560Z"
    },
    "papermill": {
     "duration": 0.077513,
     "end_time": "2020-10-12T08:35:17.921672",
     "exception": false,
     "start_time": "2020-10-12T08:35:17.844159",
     "status": "completed"
    },
    "tags": []
   },
   "outputs": [
    {
     "data": {
      "text/html": [
       "<div>\n",
       "<style scoped>\n",
       "    .dataframe tbody tr th:only-of-type {\n",
       "        vertical-align: middle;\n",
       "    }\n",
       "\n",
       "    .dataframe tbody tr th {\n",
       "        vertical-align: top;\n",
       "    }\n",
       "\n",
       "    .dataframe thead th {\n",
       "        text-align: right;\n",
       "    }\n",
       "</style>\n",
       "<table border=\"1\" class=\"dataframe\">\n",
       "  <thead>\n",
       "    <tr style=\"text-align: right;\">\n",
       "      <th></th>\n",
       "      <th>date</th>\n",
       "      <th>date_block_num</th>\n",
       "      <th>shop_id</th>\n",
       "      <th>item_id</th>\n",
       "      <th>item_price</th>\n",
       "      <th>item_cnt_day</th>\n",
       "    </tr>\n",
       "  </thead>\n",
       "  <tbody>\n",
       "    <tr>\n",
       "      <th>484683</th>\n",
       "      <td>15.05.2013</td>\n",
       "      <td>4</td>\n",
       "      <td>32</td>\n",
       "      <td>2973</td>\n",
       "      <td>-1.00</td>\n",
       "      <td>1.00</td>\n",
       "    </tr>\n",
       "  </tbody>\n",
       "</table>\n",
       "</div>"
      ],
      "text/plain": [
       "              date  date_block_num  shop_id  item_id  item_price  item_cnt_day\n",
       "484683  15.05.2013               4       32     2973       -1.00          1.00"
      ]
     },
     "execution_count": 12,
     "metadata": {},
     "output_type": "execute_result"
    }
   ],
   "source": [
    "train[train['item_price']<0]"
   ]
  },
  {
   "cell_type": "markdown",
   "metadata": {
    "papermill": {
     "duration": 0.062558,
     "end_time": "2020-10-12T08:35:18.049402",
     "exception": false,
     "start_time": "2020-10-12T08:35:17.986844",
     "status": "completed"
    },
    "tags": []
   },
   "source": [
    "Only one record. Checking other records for the same item and shop."
   ]
  },
  {
   "cell_type": "code",
   "execution_count": 13,
   "metadata": {
    "execution": {
     "iopub.execute_input": "2020-10-12T08:35:18.181221Z",
     "iopub.status.busy": "2020-10-12T08:35:18.179796Z",
     "iopub.status.idle": "2020-10-12T08:35:18.196819Z",
     "shell.execute_reply": "2020-10-12T08:35:18.196348Z"
    },
    "papermill": {
     "duration": 0.084945,
     "end_time": "2020-10-12T08:35:18.196941",
     "exception": false,
     "start_time": "2020-10-12T08:35:18.111996",
     "status": "completed"
    },
    "tags": []
   },
   "outputs": [
    {
     "data": {
      "text/html": [
       "<div>\n",
       "<style scoped>\n",
       "    .dataframe tbody tr th:only-of-type {\n",
       "        vertical-align: middle;\n",
       "    }\n",
       "\n",
       "    .dataframe tbody tr th {\n",
       "        vertical-align: top;\n",
       "    }\n",
       "\n",
       "    .dataframe thead th {\n",
       "        text-align: right;\n",
       "    }\n",
       "</style>\n",
       "<table border=\"1\" class=\"dataframe\">\n",
       "  <thead>\n",
       "    <tr style=\"text-align: right;\">\n",
       "      <th></th>\n",
       "      <th>date</th>\n",
       "      <th>date_block_num</th>\n",
       "      <th>shop_id</th>\n",
       "      <th>item_id</th>\n",
       "      <th>item_price</th>\n",
       "      <th>item_cnt_day</th>\n",
       "    </tr>\n",
       "  </thead>\n",
       "  <tbody>\n",
       "    <tr>\n",
       "      <th>67427</th>\n",
       "      <td>29.01.2013</td>\n",
       "      <td>0</td>\n",
       "      <td>32</td>\n",
       "      <td>2973</td>\n",
       "      <td>2499.00</td>\n",
       "      <td>1.00</td>\n",
       "    </tr>\n",
       "    <tr>\n",
       "      <th>67428</th>\n",
       "      <td>25.01.2013</td>\n",
       "      <td>0</td>\n",
       "      <td>32</td>\n",
       "      <td>2973</td>\n",
       "      <td>2499.00</td>\n",
       "      <td>1.00</td>\n",
       "    </tr>\n",
       "    <tr>\n",
       "      <th>67429</th>\n",
       "      <td>22.01.2013</td>\n",
       "      <td>0</td>\n",
       "      <td>32</td>\n",
       "      <td>2973</td>\n",
       "      <td>2499.00</td>\n",
       "      <td>1.00</td>\n",
       "    </tr>\n",
       "    <tr>\n",
       "      <th>67430</th>\n",
       "      <td>21.01.2013</td>\n",
       "      <td>0</td>\n",
       "      <td>32</td>\n",
       "      <td>2973</td>\n",
       "      <td>2499.00</td>\n",
       "      <td>1.00</td>\n",
       "    </tr>\n",
       "    <tr>\n",
       "      <th>67431</th>\n",
       "      <td>18.01.2013</td>\n",
       "      <td>0</td>\n",
       "      <td>32</td>\n",
       "      <td>2973</td>\n",
       "      <td>2499.00</td>\n",
       "      <td>1.00</td>\n",
       "    </tr>\n",
       "    <tr>\n",
       "      <th>67432</th>\n",
       "      <td>17.01.2013</td>\n",
       "      <td>0</td>\n",
       "      <td>32</td>\n",
       "      <td>2973</td>\n",
       "      <td>2499.00</td>\n",
       "      <td>1.00</td>\n",
       "    </tr>\n",
       "    <tr>\n",
       "      <th>67433</th>\n",
       "      <td>15.01.2013</td>\n",
       "      <td>0</td>\n",
       "      <td>32</td>\n",
       "      <td>2973</td>\n",
       "      <td>2499.00</td>\n",
       "      <td>3.00</td>\n",
       "    </tr>\n",
       "    <tr>\n",
       "      <th>187844</th>\n",
       "      <td>05.02.2013</td>\n",
       "      <td>1</td>\n",
       "      <td>32</td>\n",
       "      <td>2973</td>\n",
       "      <td>2499.00</td>\n",
       "      <td>1.00</td>\n",
       "    </tr>\n",
       "    <tr>\n",
       "      <th>187845</th>\n",
       "      <td>14.02.2013</td>\n",
       "      <td>1</td>\n",
       "      <td>32</td>\n",
       "      <td>2973</td>\n",
       "      <td>2499.00</td>\n",
       "      <td>1.00</td>\n",
       "    </tr>\n",
       "    <tr>\n",
       "      <th>484682</th>\n",
       "      <td>23.05.2013</td>\n",
       "      <td>4</td>\n",
       "      <td>32</td>\n",
       "      <td>2973</td>\n",
       "      <td>1249.00</td>\n",
       "      <td>1.00</td>\n",
       "    </tr>\n",
       "    <tr>\n",
       "      <th>484683</th>\n",
       "      <td>15.05.2013</td>\n",
       "      <td>4</td>\n",
       "      <td>32</td>\n",
       "      <td>2973</td>\n",
       "      <td>-1.00</td>\n",
       "      <td>1.00</td>\n",
       "    </tr>\n",
       "    <tr>\n",
       "      <th>484684</th>\n",
       "      <td>06.05.2013</td>\n",
       "      <td>4</td>\n",
       "      <td>32</td>\n",
       "      <td>2973</td>\n",
       "      <td>2499.00</td>\n",
       "      <td>1.00</td>\n",
       "    </tr>\n",
       "    <tr>\n",
       "      <th>555026</th>\n",
       "      <td>05.06.2013</td>\n",
       "      <td>5</td>\n",
       "      <td>32</td>\n",
       "      <td>2973</td>\n",
       "      <td>1249.50</td>\n",
       "      <td>1.00</td>\n",
       "    </tr>\n",
       "  </tbody>\n",
       "</table>\n",
       "</div>"
      ],
      "text/plain": [
       "              date  date_block_num  shop_id  item_id  item_price  item_cnt_day\n",
       "67427   29.01.2013               0       32     2973     2499.00          1.00\n",
       "67428   25.01.2013               0       32     2973     2499.00          1.00\n",
       "67429   22.01.2013               0       32     2973     2499.00          1.00\n",
       "67430   21.01.2013               0       32     2973     2499.00          1.00\n",
       "67431   18.01.2013               0       32     2973     2499.00          1.00\n",
       "67432   17.01.2013               0       32     2973     2499.00          1.00\n",
       "67433   15.01.2013               0       32     2973     2499.00          3.00\n",
       "187844  05.02.2013               1       32     2973     2499.00          1.00\n",
       "187845  14.02.2013               1       32     2973     2499.00          1.00\n",
       "484682  23.05.2013               4       32     2973     1249.00          1.00\n",
       "484683  15.05.2013               4       32     2973       -1.00          1.00\n",
       "484684  06.05.2013               4       32     2973     2499.00          1.00\n",
       "555026  05.06.2013               5       32     2973     1249.50          1.00"
      ]
     },
     "execution_count": 13,
     "metadata": {},
     "output_type": "execute_result"
    }
   ],
   "source": [
    "train[(train['item_id']==2973)&(train['shop_id']==32)]"
   ]
  },
  {
   "cell_type": "markdown",
   "metadata": {
    "papermill": {
     "duration": 0.063756,
     "end_time": "2020-10-12T08:35:18.323674",
     "exception": false,
     "start_time": "2020-10-12T08:35:18.259918",
     "status": "completed"
    },
    "tags": []
   },
   "source": [
    "Imputing the negative item price with the most common occurrance -> 2499"
   ]
  },
  {
   "cell_type": "code",
   "execution_count": 14,
   "metadata": {
    "execution": {
     "iopub.execute_input": "2020-10-12T08:35:18.455250Z",
     "iopub.status.busy": "2020-10-12T08:35:18.454343Z",
     "iopub.status.idle": "2020-10-12T08:35:18.466911Z",
     "shell.execute_reply": "2020-10-12T08:35:18.466403Z"
    },
    "papermill": {
     "duration": 0.080185,
     "end_time": "2020-10-12T08:35:18.467020",
     "exception": false,
     "start_time": "2020-10-12T08:35:18.386835",
     "status": "completed"
    },
    "tags": []
   },
   "outputs": [],
   "source": [
    "train.loc[train['item_price']<0,'item_price'] = 2499"
   ]
  },
  {
   "cell_type": "markdown",
   "metadata": {
    "papermill": {
     "duration": 0.06326,
     "end_time": "2020-10-12T08:35:18.594494",
     "exception": false,
     "start_time": "2020-10-12T08:35:18.531234",
     "status": "completed"
    },
    "tags": []
   },
   "source": [
    "Applying grouping to train and test dataframes so that they show monthly sales qty instead of daily.<br> This is because we're asked to provide the forecast at a monthly level. I am also resetting **daily** negative sales qty to 0, and clipping the **monthly** target value between 0 and 20 per the instructions.<br>"
   ]
  },
  {
   "cell_type": "code",
   "execution_count": 15,
   "metadata": {
    "execution": {
     "iopub.execute_input": "2020-10-12T08:35:18.729894Z",
     "iopub.status.busy": "2020-10-12T08:35:18.728984Z",
     "iopub.status.idle": "2020-10-12T08:35:19.889007Z",
     "shell.execute_reply": "2020-10-12T08:35:19.888270Z"
    },
    "papermill": {
     "duration": 1.230776,
     "end_time": "2020-10-12T08:35:19.889121",
     "exception": false,
     "start_time": "2020-10-12T08:35:18.658345",
     "status": "completed"
    },
    "tags": []
   },
   "outputs": [],
   "source": [
    "# if item_cnt_day is negative, set it to 0\n",
    "train.loc[train[\"item_cnt_day\"] < 0, \"item_cnt_day\"] = 0\n",
    "\n",
    "# group the df to show monthly sales qty\n",
    "train = train.groupby(by=[\"date_block_num\", \"shop_id\", \"item_id\"], as_index=False).agg(\n",
    "    {\"item_cnt_day\": \"sum\", \"item_price\": \"mean\", \"date\": \"first\"}\n",
    ")\n",
    "\n",
    "# rename columns\n",
    "train = train.rename(columns={\"item_cnt_day\": \"item_cnt_month\"})\n",
    "test = test.rename(columns={\"item_cnt_day\": \"item_cnt_month\"})\n",
    "\n",
    "# clip target between 0 and 20\n",
    "train[\"item_cnt_month\"] = train[\"item_cnt_month\"].clip(0, 20)"
   ]
  },
  {
   "cell_type": "markdown",
   "metadata": {
    "papermill": {
     "duration": 0.065368,
     "end_time": "2020-10-12T08:35:20.019345",
     "exception": false,
     "start_time": "2020-10-12T08:35:19.953977",
     "status": "completed"
    },
    "tags": []
   },
   "source": [
    "# Outlier Detection\n",
    "\n",
    "Checking the item price for outliers"
   ]
  },
  {
   "cell_type": "code",
   "execution_count": 16,
   "metadata": {
    "_kg_hide-input": true,
    "execution": {
     "iopub.execute_input": "2020-10-12T08:35:20.163145Z",
     "iopub.status.busy": "2020-10-12T08:35:20.162342Z",
     "iopub.status.idle": "2020-10-12T08:35:20.622682Z",
     "shell.execute_reply": "2020-10-12T08:35:20.622038Z"
    },
    "papermill": {
     "duration": 0.536251,
     "end_time": "2020-10-12T08:35:20.622825",
     "exception": false,
     "start_time": "2020-10-12T08:35:20.086574",
     "status": "completed"
    },
    "tags": []
   },
   "outputs": [
    {
     "data": {
      "image/png": "[encoded data removed]",
      "text/plain": [
       "<Figure size 1152x504 with 1 Axes>"
      ]
     },
     "metadata": {},
     "output_type": "display_data"
    }
   ],
   "source": [
    "def plot_for_outlier(ft, name):\n",
    "    plt.style.use(\"ggplot\")\n",
    "    params = {\n",
    "        \"axes.labelsize\": 20,\n",
    "        \"xtick.labelsize\": 14,\n",
    "    }\n",
    "    plt.rcParams.update(params)\n",
    "\n",
    "    fig, ax = plt.subplots(figsize=(16, 7))\n",
    "\n",
    "    plot1 = sns.boxplot(x=train[ft])\n",
    "\n",
    "    plot1.set_xlabel(name)\n",
    "\n",
    "    return fig.show()\n",
    "\n",
    "\n",
    "plot_for_outlier(\"item_price\", \"Item Price\")\n"
   ]
  },
  {
   "cell_type": "code",
   "execution_count": 17,
   "metadata": {
    "execution": {
     "iopub.execute_input": "2020-10-12T08:35:20.759214Z",
     "iopub.status.busy": "2020-10-12T08:35:20.758319Z",
     "iopub.status.idle": "2020-10-12T08:35:20.786581Z",
     "shell.execute_reply": "2020-10-12T08:35:20.786030Z"
    },
    "papermill": {
     "duration": 0.097321,
     "end_time": "2020-10-12T08:35:20.786683",
     "exception": false,
     "start_time": "2020-10-12T08:35:20.689362",
     "status": "completed"
    },
    "tags": []
   },
   "outputs": [
    {
     "data": {
      "text/html": [
       "<div>\n",
       "<style scoped>\n",
       "    .dataframe tbody tr th:only-of-type {\n",
       "        vertical-align: middle;\n",
       "    }\n",
       "\n",
       "    .dataframe tbody tr th {\n",
       "        vertical-align: top;\n",
       "    }\n",
       "\n",
       "    .dataframe thead th {\n",
       "        text-align: right;\n",
       "    }\n",
       "</style>\n",
       "<table border=\"1\" class=\"dataframe\">\n",
       "  <thead>\n",
       "    <tr style=\"text-align: right;\">\n",
       "      <th></th>\n",
       "      <th>date_block_num</th>\n",
       "      <th>shop_id</th>\n",
       "      <th>item_id</th>\n",
       "      <th>item_cnt_month</th>\n",
       "      <th>item_price</th>\n",
       "      <th>date</th>\n",
       "    </tr>\n",
       "  </thead>\n",
       "  <tbody>\n",
       "    <tr>\n",
       "      <th>629348</th>\n",
       "      <td>11</td>\n",
       "      <td>12</td>\n",
       "      <td>6066</td>\n",
       "      <td>1.00</td>\n",
       "      <td>307980.00</td>\n",
       "      <td>13.12.2013</td>\n",
       "    </tr>\n",
       "  </tbody>\n",
       "</table>\n",
       "</div>"
      ],
      "text/plain": [
       "        date_block_num  shop_id  item_id  item_cnt_month  item_price  \\\n",
       "629348              11       12     6066            1.00   307980.00   \n",
       "\n",
       "              date  \n",
       "629348  13.12.2013  "
      ]
     },
     "execution_count": 17,
     "metadata": {},
     "output_type": "execute_result"
    }
   ],
   "source": [
    "# look at the record with item price more than 100k\n",
    "train[train[\"item_price\"] > 100000]"
   ]
  },
  {
   "cell_type": "markdown",
   "metadata": {
    "papermill": {
     "duration": 0.065154,
     "end_time": "2020-10-12T08:35:20.918639",
     "exception": false,
     "start_time": "2020-10-12T08:35:20.853485",
     "status": "completed"
    },
    "tags": []
   },
   "source": [
    "Removing one big outlier from the equation."
   ]
  },
  {
   "cell_type": "code",
   "execution_count": 18,
   "metadata": {
    "execution": {
     "iopub.execute_input": "2020-10-12T08:35:21.055961Z",
     "iopub.status.busy": "2020-10-12T08:35:21.055067Z",
     "iopub.status.idle": "2020-10-12T08:35:21.107407Z",
     "shell.execute_reply": "2020-10-12T08:35:21.106799Z"
    },
    "papermill": {
     "duration": 0.122247,
     "end_time": "2020-10-12T08:35:21.107539",
     "exception": false,
     "start_time": "2020-10-12T08:35:20.985292",
     "status": "completed"
    },
    "tags": []
   },
   "outputs": [],
   "source": [
    "train = train[train[\"item_price\"] < 100000]"
   ]
  },
  {
   "cell_type": "markdown",
   "metadata": {
    "papermill": {
     "duration": 0.065445,
     "end_time": "2020-10-12T08:35:21.239649",
     "exception": false,
     "start_time": "2020-10-12T08:35:21.174204",
     "status": "completed"
    },
    "tags": []
   },
   "source": [
    "Visualizing the item price again to see the changes"
   ]
  },
  {
   "cell_type": "code",
   "execution_count": 19,
   "metadata": {
    "_kg_hide-input": true,
    "execution": {
     "iopub.execute_input": "2020-10-12T08:35:21.383751Z",
     "iopub.status.busy": "2020-10-12T08:35:21.382138Z",
     "iopub.status.idle": "2020-10-12T08:35:21.769634Z",
     "shell.execute_reply": "2020-10-12T08:35:21.770130Z"
    },
    "papermill": {
     "duration": 0.463961,
     "end_time": "2020-10-12T08:35:21.770272",
     "exception": false,
     "start_time": "2020-10-12T08:35:21.306311",
     "status": "completed"
    },
    "tags": []
   },
   "outputs": [
    {
     "data": {
      "image/png": "[encoded data removed]",
      "text/plain": [
       "<Figure size 1152x504 with 1 Axes>"
      ]
     },
     "metadata": {},
     "output_type": "display_data"
    }
   ],
   "source": [
    "plot_for_outlier('item_price','Item Price')"
   ]
  },
  {
   "cell_type": "markdown",
   "metadata": {
    "papermill": {
     "duration": 0.070777,
     "end_time": "2020-10-12T08:35:21.913192",
     "exception": false,
     "start_time": "2020-10-12T08:35:21.842415",
     "status": "completed"
    },
    "tags": []
   },
   "source": [
    "Looks a bit better.<br>\n",
    "\n",
    "Visualizing item sales quantity value counts"
   ]
  },
  {
   "cell_type": "code",
   "execution_count": 20,
   "metadata": {
    "_kg_hide-input": true,
    "execution": {
     "iopub.execute_input": "2020-10-12T08:35:22.099448Z",
     "iopub.status.busy": "2020-10-12T08:35:22.098549Z",
     "iopub.status.idle": "2020-10-12T08:35:23.326190Z",
     "shell.execute_reply": "2020-10-12T08:35:23.327147Z"
    },
    "papermill": {
     "duration": 1.308626,
     "end_time": "2020-10-12T08:35:23.327310",
     "exception": false,
     "start_time": "2020-10-12T08:35:22.018684",
     "status": "completed"
    },
    "tags": []
   },
   "outputs": [
    {
     "data": {
      "text/html": [
       "        <script type=\"text/javascript\">\n",
       "        window.PlotlyConfig = {MathJaxConfig: 'local'};\n",
       "        if (window.MathJax) {MathJax.Hub.Config({SVG: {font: \"STIX-Web\"}});}\n",
       "        if (typeof require !== 'undefined') {\n",
       "        require.undef(\"plotly\");\n",
       "        requirejs.config({\n",
       "            paths: {\n",
       "                'plotly': ['https://cdn.plot.ly/plotly-latest.min']\n",
       "            }\n",
       "        });\n",
       "        require(['plotly'], function(Plotly) {\n",
       "            window._Plotly = Plotly;\n",
       "        });\n",
       "        }\n",
       "        </script>\n",
       "        "
      ]
     },
     "metadata": {},
     "output_type": "display_data"
    },
    {
     "data": {
      "text/html": [
       "<div>                            <div id=\"c75d3697-8e18-4d88-bd55-d8d67ea6bda2\" class=\"plotly-graph-div\" style=\"height:500px; width:800px;\"></div>            <script type=\"text/javascript\">                require([\"plotly\"], function(Plotly) {                    window.PLOTLYENV=window.PLOTLYENV || {};                                    if (document.getElementById(\"c75d3697-8e18-4d88-bd55-d8d67ea6bda2\")) {                    Plotly.newPlot(                        \"c75d3697-8e18-4d88-bd55-d8d67ea6bda2\",                        [{\"marker\": {\"color\": \"darkblue\", \"line\": {\"color\": \"white\", \"width\": 2}}, \"opacity\": 0.6, \"text\": [1060053.0, 266171.0, 103482.0, 53491.0, 32037.0, 20804.0, 14087.0, 12512.0, 10464.0, 7546.0, 6045.0, 4486.0, 3711.0, 3066.0, 2457.0, 2075.0, 1751.0, 1576.0, 1305.0, 1106.0, 898.0], \"textfont\": {\"size\": 18}, \"textposition\": \"inside\", \"texttemplate\": \"%{text:.2s}\", \"type\": \"bar\", \"width\": 1.2, \"x\": [1.0, 2.0, 3.0, 4.0, 5.0, 6.0, 7.0, 20.0, 8.0, 9.0, 10.0, 11.0, 12.0, 13.0, 14.0, 15.0, 16.0, 17.0, 18.0, 19.0, 0.0], \"y\": [1060053, 266171, 103482, 53491, 32037, 20804, 14087, 12512, 10464, 7546, 6045, 4486, 3711, 3066, 2457, 2075, 1751, 1576, 1305, 1106, 898]}],                        {\"height\": 500, \"template\": {\"data\": {\"bar\": [{\"error_x\": {\"color\": \"rgb(51,51,51)\"}, \"error_y\": {\"color\": \"rgb(51,51,51)\"}, \"marker\": {\"line\": {\"color\": \"rgb(237,237,237)\", \"width\": 0.5}}, \"type\": \"bar\"}], \"barpolar\": [{\"marker\": {\"line\": {\"color\": \"rgb(237,237,237)\", \"width\": 0.5}}, \"type\": \"barpolar\"}], \"carpet\": [{\"aaxis\": {\"endlinecolor\": \"rgb(51,51,51)\", \"gridcolor\": \"white\", \"linecolor\": \"white\", \"minorgridcolor\": \"white\", \"startlinecolor\": \"rgb(51,51,51)\"}, \"baxis\": {\"endlinecolor\": \"rgb(51,51,51)\", \"gridcolor\": \"white\", \"linecolor\": \"white\", \"minorgridcolor\": \"white\", \"startlinecolor\": \"rgb(51,51,51)\"}, \"type\": \"carpet\"}], \"choropleth\": [{\"colorbar\": {\"outlinewidth\": 0, \"tickcolor\": \"rgb(237,237,237)\", \"ticklen\": 6, \"ticks\": \"inside\"}, \"type\": \"choropleth\"}], \"contour\": [{\"colorbar\": {\"outlinewidth\": 0, \"tickcolor\": \"rgb(237,237,237)\", \"ticklen\": 6, \"ticks\": \"inside\"}, \"colorscale\": [[0, \"rgb(20,44,66)\"], [1, \"rgb(90,179,244)\"]], \"type\": \"contour\"}], \"contourcarpet\": [{\"colorbar\": {\"outlinewidth\": 0, \"tickcolor\": \"rgb(237,237,237)\", \"ticklen\": 6, \"ticks\": \"inside\"}, \"type\": \"contourcarpet\"}], \"heatmap\": [{\"colorbar\": {\"outlinewidth\": 0, \"tickcolor\": \"rgb(237,237,237)\", \"ticklen\": 6, \"ticks\": \"inside\"}, \"colorscale\": [[0, \"rgb(20,44,66)\"], [1, \"rgb(90,179,244)\"]], \"type\": \"heatmap\"}], \"heatmapgl\": [{\"colorbar\": {\"outlinewidth\": 0, \"tickcolor\": \"rgb(237,237,237)\", \"ticklen\": 6, \"ticks\": \"inside\"}, \"colorscale\": [[0, \"rgb(20,44,66)\"], [1, \"rgb(90,179,244)\"]], \"type\": \"heatmapgl\"}], \"histogram\": [{\"marker\": {\"colorbar\": {\"outlinewidth\": 0, \"tickcolor\": \"rgb(237,237,237)\", \"ticklen\": 6, \"ticks\": \"inside\"}}, \"type\": \"histogram\"}], \"histogram2d\": [{\"colorbar\": {\"outlinewidth\": 0, \"tickcolor\": \"rgb(237,237,237)\", \"ticklen\": 6, \"ticks\": \"inside\"}, \"colorscale\": [[0, \"rgb(20,44,66)\"], [1, \"rgb(90,179,244)\"]], \"type\": \"histogram2d\"}], \"histogram2dcontour\": [{\"colorbar\": {\"outlinewidth\": 0, \"tickcolor\": \"rgb(237,237,237)\", \"ticklen\": 6, \"ticks\": \"inside\"}, \"colorscale\": [[0, \"rgb(20,44,66)\"], [1, \"rgb(90,179,244)\"]], \"type\": \"histogram2dcontour\"}], \"mesh3d\": [{\"colorbar\": {\"outlinewidth\": 0, \"tickcolor\": \"rgb(237,237,237)\", \"ticklen\": 6, \"ticks\": \"inside\"}, \"type\": \"mesh3d\"}], \"parcoords\": [{\"line\": {\"colorbar\": {\"outlinewidth\": 0, \"tickcolor\": \"rgb(237,237,237)\", \"ticklen\": 6, \"ticks\": \"inside\"}}, \"type\": \"parcoords\"}], \"pie\": [{\"automargin\": true, \"type\": \"pie\"}], \"scatter\": [{\"marker\": {\"colorbar\": {\"outlinewidth\": 0, \"tickcolor\": \"rgb(237,237,237)\", \"ticklen\": 6, \"ticks\": \"inside\"}}, \"type\": \"scatter\"}], \"scatter3d\": [{\"line\": {\"colorbar\": {\"outlinewidth\": 0, \"tickcolor\": \"rgb(237,237,237)\", \"ticklen\": 6, \"ticks\": \"inside\"}}, \"marker\": {\"colorbar\": {\"outlinewidth\": 0, \"tickcolor\": \"rgb(237,237,237)\", \"ticklen\": 6, \"ticks\": \"inside\"}}, \"type\": \"scatter3d\"}], \"scattercarpet\": [{\"marker\": {\"colorbar\": {\"outlinewidth\": 0, \"tickcolor\": \"rgb(237,237,237)\", \"ticklen\": 6, \"ticks\": \"inside\"}}, \"type\": \"scattercarpet\"}], \"scattergeo\": [{\"marker\": {\"colorbar\": {\"outlinewidth\": 0, \"tickcolor\": \"rgb(237,237,237)\", \"ticklen\": 6, \"ticks\": \"inside\"}}, \"type\": \"scattergeo\"}], \"scattergl\": [{\"marker\": {\"colorbar\": {\"outlinewidth\": 0, \"tickcolor\": \"rgb(237,237,237)\", \"ticklen\": 6, \"ticks\": \"inside\"}}, \"type\": \"scattergl\"}], \"scattermapbox\": [{\"marker\": {\"colorbar\": {\"outlinewidth\": 0, \"tickcolor\": \"rgb(237,237,237)\", \"ticklen\": 6, \"ticks\": \"inside\"}}, \"type\": \"scattermapbox\"}], \"scatterpolar\": [{\"marker\": {\"colorbar\": {\"outlinewidth\": 0, \"tickcolor\": \"rgb(237,237,237)\", \"ticklen\": 6, \"ticks\": \"inside\"}}, \"type\": \"scatterpolar\"}], \"scatterpolargl\": [{\"marker\": {\"colorbar\": {\"outlinewidth\": 0, \"tickcolor\": \"rgb(237,237,237)\", \"ticklen\": 6, \"ticks\": \"inside\"}}, \"type\": \"scatterpolargl\"}], \"scatterternary\": [{\"marker\": {\"colorbar\": {\"outlinewidth\": 0, \"tickcolor\": \"rgb(237,237,237)\", \"ticklen\": 6, \"ticks\": \"inside\"}}, \"type\": \"scatterternary\"}], \"surface\": [{\"colorbar\": {\"outlinewidth\": 0, \"tickcolor\": \"rgb(237,237,237)\", \"ticklen\": 6, \"ticks\": \"inside\"}, \"colorscale\": [[0, \"rgb(20,44,66)\"], [1, \"rgb(90,179,244)\"]], \"type\": \"surface\"}], \"table\": [{\"cells\": {\"fill\": {\"color\": \"rgb(237,237,237)\"}, \"line\": {\"color\": \"white\"}}, \"header\": {\"fill\": {\"color\": \"rgb(217,217,217)\"}, \"line\": {\"color\": \"white\"}}, \"type\": \"table\"}]}, \"layout\": {\"annotationdefaults\": {\"arrowhead\": 0, \"arrowwidth\": 1}, \"coloraxis\": {\"colorbar\": {\"outlinewidth\": 0, \"tickcolor\": \"rgb(237,237,237)\", \"ticklen\": 6, \"ticks\": \"inside\"}}, \"colorscale\": {\"sequential\": [[0, \"rgb(20,44,66)\"], [1, \"rgb(90,179,244)\"]], \"sequentialminus\": [[0, \"rgb(20,44,66)\"], [1, \"rgb(90,179,244)\"]]}, \"colorway\": [\"#F8766D\", \"#A3A500\", \"#00BF7D\", \"#00B0F6\", \"#E76BF3\"], \"font\": {\"color\": \"rgb(51,51,51)\"}, \"geo\": {\"bgcolor\": \"white\", \"lakecolor\": \"white\", \"landcolor\": \"rgb(237,237,237)\", \"showlakes\": true, \"showland\": true, \"subunitcolor\": \"white\"}, \"hoverlabel\": {\"align\": \"left\"}, \"hovermode\": \"closest\", \"paper_bgcolor\": \"white\", \"plot_bgcolor\": \"rgb(237,237,237)\", \"polar\": {\"angularaxis\": {\"gridcolor\": \"white\", \"linecolor\": \"white\", \"showgrid\": true, \"tickcolor\": \"rgb(51,51,51)\", \"ticks\": \"outside\"}, \"bgcolor\": \"rgb(237,237,237)\", \"radialaxis\": {\"gridcolor\": \"white\", \"linecolor\": \"white\", \"showgrid\": true, \"tickcolor\": \"rgb(51,51,51)\", \"ticks\": \"outside\"}}, \"scene\": {\"xaxis\": {\"backgroundcolor\": \"rgb(237,237,237)\", \"gridcolor\": \"white\", \"gridwidth\": 2, \"linecolor\": \"white\", \"showbackground\": true, \"showgrid\": true, \"tickcolor\": \"rgb(51,51,51)\", \"ticks\": \"outside\", \"zerolinecolor\": \"white\"}, \"yaxis\": {\"backgroundcolor\": \"rgb(237,237,237)\", \"gridcolor\": \"white\", \"gridwidth\": 2, \"linecolor\": \"white\", \"showbackground\": true, \"showgrid\": true, \"tickcolor\": \"rgb(51,51,51)\", \"ticks\": \"outside\", \"zerolinecolor\": \"white\"}, \"zaxis\": {\"backgroundcolor\": \"rgb(237,237,237)\", \"gridcolor\": \"white\", \"gridwidth\": 2, \"linecolor\": \"white\", \"showbackground\": true, \"showgrid\": true, \"tickcolor\": \"rgb(51,51,51)\", \"ticks\": \"outside\", \"zerolinecolor\": \"white\"}}, \"shapedefaults\": {\"fillcolor\": \"black\", \"line\": {\"width\": 0}, \"opacity\": 0.3}, \"ternary\": {\"aaxis\": {\"gridcolor\": \"white\", \"linecolor\": \"white\", \"showgrid\": true, \"tickcolor\": \"rgb(51,51,51)\", \"ticks\": \"outside\"}, \"baxis\": {\"gridcolor\": \"white\", \"linecolor\": \"white\", \"showgrid\": true, \"tickcolor\": \"rgb(51,51,51)\", \"ticks\": \"outside\"}, \"bgcolor\": \"rgb(237,237,237)\", \"caxis\": {\"gridcolor\": \"white\", \"linecolor\": \"white\", \"showgrid\": true, \"tickcolor\": \"rgb(51,51,51)\", \"ticks\": \"outside\"}}, \"xaxis\": {\"automargin\": true, \"gridcolor\": \"white\", \"linecolor\": \"white\", \"showgrid\": true, \"tickcolor\": \"rgb(51,51,51)\", \"ticks\": \"outside\", \"title\": {\"standoff\": 15}, \"zerolinecolor\": \"white\"}, \"yaxis\": {\"automargin\": true, \"gridcolor\": \"white\", \"linecolor\": \"white\", \"showgrid\": true, \"tickcolor\": \"rgb(51,51,51)\", \"ticks\": \"outside\", \"title\": {\"standoff\": 15}, \"zerolinecolor\": \"white\"}}}, \"title\": {\"font\": {\"color\": \"darkslateblue\", \"size\": 20}, \"text\": \"Item Cnt Month - Value Counts\"}, \"width\": 800, \"xaxis\": {\"nticks\": 20, \"tickfont\": {\"size\": 16}, \"title\": {\"font\": {\"size\": 18}, \"text\": \"Item Cnt Month\"}}, \"yaxis\": {\"tickfont\": {\"size\": 16}, \"title\": {\"font\": {\"size\": 18}, \"text\": \"Value Counts\"}}},                        {\"responsive\": true}                    ).then(function(){\n",
       "                            \n",
       "var gd = document.getElementById('c75d3697-8e18-4d88-bd55-d8d67ea6bda2');\n",
       "var x = new MutationObserver(function (mutations, observer) {{\n",
       "        var display = window.getComputedStyle(gd).display;\n",
       "        if (!display || display === 'none') {{\n",
       "            console.log([gd, 'removed!']);\n",
       "            Plotly.purge(gd);\n",
       "            observer.disconnect();\n",
       "        }}\n",
       "}});\n",
       "\n",
       "// Listen for the removal of the full notebook cells\n",
       "var notebookContainer = gd.closest('#notebook-container');\n",
       "if (notebookContainer) {{\n",
       "    x.observe(notebookContainer, {childList: true});\n",
       "}}\n",
       "\n",
       "// Listen for the clearing of the current output cell\n",
       "var outputEl = gd.closest('.output');\n",
       "if (outputEl) {{\n",
       "    x.observe(outputEl, {childList: true});\n",
       "}}\n",
       "\n",
       "                        })                };                });            </script>        </div>"
      ]
     },
     "metadata": {},
     "output_type": "display_data"
    }
   ],
   "source": [
    "def plot_value_counts(df, var, name):\n",
    "\n",
    "    x = df[var].value_counts().index\n",
    "    y = df[var].value_counts().values\n",
    "\n",
    "    fig = go.Figure(data=[go.Bar(x=x, y=y, text=y, textposition=\"outside\")])\n",
    "\n",
    "    fig.update_traces(\n",
    "        marker_color=\"darkblue\",\n",
    "        marker_line_color=\"white\",\n",
    "        texttemplate=\"%{text:.2s}\",\n",
    "        width=1.2,\n",
    "        textfont=dict(size=18),\n",
    "        textposition=\"inside\",\n",
    "        marker_line_width=2,\n",
    "        opacity=0.6,\n",
    "    )\n",
    "\n",
    "    fig.update_xaxes(\n",
    "        title_text=name, titlefont=dict(size=18), nticks=20, tickfont=dict(size=16)\n",
    "    )\n",
    "    fig.update_yaxes(\n",
    "        title_text=\"Value Counts\", titlefont=dict(size=18), tickfont=dict(size=16)\n",
    "    )\n",
    "\n",
    "    fig.update_layout(\n",
    "        height=500,\n",
    "        width=800,\n",
    "        template=\"ggplot2\",\n",
    "        title=go.layout.Title(\n",
    "            text=name + \" - Value Counts\", font=dict(size=20, color=\"darkslateblue\")\n",
    "        ),\n",
    "    )\n",
    "\n",
    "    return fig.show()\n",
    "\n",
    "\n",
    "plot_value_counts(train, \"item_cnt_month\", \"Item Cnt Month\")"
   ]
  },
  {
   "cell_type": "markdown",
   "metadata": {
    "papermill": {
     "duration": 0.095653,
     "end_time": "2020-10-12T08:35:23.513269",
     "exception": false,
     "start_time": "2020-10-12T08:35:23.417616",
     "status": "completed"
    },
    "tags": []
   },
   "source": [
    "A large majority of the monthly sales quantity are 1. We also have around 900 zero counts. The zeroes came to surface because we clipped the sales quantity in the previous steps. "
   ]
  },
  {
   "cell_type": "markdown",
   "metadata": {
    "papermill": {
     "duration": 0.070644,
     "end_time": "2020-10-12T08:35:23.689479",
     "exception": false,
     "start_time": "2020-10-12T08:35:23.618835",
     "status": "completed"
    },
    "tags": []
   },
   "source": [
    "Plotting unique item counts, unique shop counts, and unique item/shop combinations per date block. Blue bar represents the test set."
   ]
  },
  {
   "cell_type": "code",
   "execution_count": 21,
   "metadata": {
    "_kg_hide-input": true,
    "execution": {
     "iopub.execute_input": "2020-10-12T08:35:23.842102Z",
     "iopub.status.busy": "2020-10-12T08:35:23.840406Z",
     "iopub.status.idle": "2020-10-12T08:35:23.842822Z",
     "shell.execute_reply": "2020-10-12T08:35:23.843308Z"
    },
    "papermill": {
     "duration": 0.084671,
     "end_time": "2020-10-12T08:35:23.843424",
     "exception": false,
     "start_time": "2020-10-12T08:35:23.758753",
     "status": "completed"
    },
    "tags": []
   },
   "outputs": [],
   "source": [
    "def plot_counts(ft, name):\n",
    "    fig = plotly.graph_objects.Figure()\n",
    "\n",
    "    vizdata = (\n",
    "        train.append(test, ignore_index=True)\n",
    "        .groupby(by=[\"date_block_num\"], as_index=False)[ft]\n",
    "        .nunique()\n",
    "    )\n",
    "\n",
    "    colors = [\n",
    "        \"indianred\",\n",
    "    ] * vizdata.shape[0]\n",
    "    colors[-1] = \"blue\"\n",
    "\n",
    "    fig.add_trace(\n",
    "        go.Bar(\n",
    "            x=vizdata[\"date_block_num\"],\n",
    "            y=vizdata[ft],\n",
    "            width=0.9,\n",
    "            marker_color=colors,\n",
    "            name=\"Unique\" + name + \"Count\",\n",
    "        )\n",
    "    )\n",
    "\n",
    "    fig.update_xaxes(\n",
    "        title_text=\"Date Block\", titlefont=dict(size=20), tickfont=dict(size=16)\n",
    "    )\n",
    "    fig.update_yaxes(\n",
    "        title_text=\"Total Unique \" + name + \" Count\",\n",
    "        titlefont=dict(size=20),\n",
    "        nticks=8,\n",
    "        tickfont=dict(size=16),\n",
    "    )\n",
    "\n",
    "    fig.update_layout(\n",
    "        height=500,\n",
    "        width=750,\n",
    "        template=\"ggplot2\",\n",
    "        title=go.layout.Title(\n",
    "            text=\"Unique \" + name + \" Counts per Date Block (Incl. Test data)\",\n",
    "            font=dict(size=20, color=\"darkslateblue\"),\n",
    "        ),\n",
    "    )\n",
    "\n",
    "    return fig.show()\n"
   ]
  },
  {
   "cell_type": "code",
   "execution_count": 22,
   "metadata": {
    "_kg_hide-input": true,
    "execution": {
     "iopub.execute_input": "2020-10-12T08:35:23.985166Z",
     "iopub.status.busy": "2020-10-12T08:35:23.983772Z",
     "iopub.status.idle": "2020-10-12T08:35:24.430131Z",
     "shell.execute_reply": "2020-10-12T08:35:24.430611Z"
    },
    "papermill": {
     "duration": 0.520611,
     "end_time": "2020-10-12T08:35:24.430760",
     "exception": false,
     "start_time": "2020-10-12T08:35:23.910149",
     "status": "completed"
    },
    "tags": []
   },
   "outputs": [
    {
     "data": {
      "text/html": [
       "<div>                            <div id=\"20ca2bb0-7c87-4ba4-b0b5-c9c3e8520b26\" class=\"plotly-graph-div\" style=\"height:500px; width:750px;\"></div>            <script type=\"text/javascript\">                require([\"plotly\"], function(Plotly) {                    window.PLOTLYENV=window.PLOTLYENV || {};                                    if (document.getElementById(\"20ca2bb0-7c87-4ba4-b0b5-c9c3e8520b26\")) {                    Plotly.newPlot(                        \"20ca2bb0-7c87-4ba4-b0b5-c9c3e8520b26\",                        [{\"marker\": {\"color\": [\"indianred\", \"indianred\", \"indianred\", \"indianred\", \"indianred\", \"indianred\", \"indianred\", \"indianred\", \"indianred\", \"indianred\", \"indianred\", \"indianred\", \"indianred\", \"indianred\", \"indianred\", \"indianred\", \"indianred\", \"indianred\", \"indianred\", \"indianred\", \"indianred\", \"indianred\", \"indianred\", \"indianred\", \"indianred\", \"indianred\", \"indianred\", \"indianred\", \"indianred\", \"indianred\", \"indianred\", \"indianred\", \"indianred\", \"indianred\", \"blue\"]}, \"name\": \"UniqueItemCount\", \"type\": \"bar\", \"width\": 0.9, \"x\": [0, 1, 2, 3, 4, 5, 6, 7, 8, 9, 10, 11, 12, 13, 14, 15, 16, 17, 18, 19, 20, 21, 22, 23, 24, 25, 26, 27, 28, 29, 30, 31, 32, 33, 34], \"y\": [8115, 8168, 8302, 8145, 8339, 8478, 8405, 8031, 7876, 8039, 8089, 8473, 7551, 7134, 7142, 6774, 6685, 6681, 6611, 6363, 6071, 6334, 6322, 6605, 6139, 6053, 6082, 5476, 5283, 5216, 5323, 5108, 5085, 5413, 5100]}],                        {\"height\": 500, \"template\": {\"data\": {\"bar\": [{\"error_x\": {\"color\": \"rgb(51,51,51)\"}, \"error_y\": {\"color\": \"rgb(51,51,51)\"}, \"marker\": {\"line\": {\"color\": \"rgb(237,237,237)\", \"width\": 0.5}}, \"type\": \"bar\"}], \"barpolar\": [{\"marker\": {\"line\": {\"color\": \"rgb(237,237,237)\", \"width\": 0.5}}, \"type\": \"barpolar\"}], \"carpet\": [{\"aaxis\": {\"endlinecolor\": \"rgb(51,51,51)\", \"gridcolor\": \"white\", \"linecolor\": \"white\", \"minorgridcolor\": \"white\", \"startlinecolor\": \"rgb(51,51,51)\"}, \"baxis\": {\"endlinecolor\": \"rgb(51,51,51)\", \"gridcolor\": \"white\", \"linecolor\": \"white\", \"minorgridcolor\": \"white\", \"startlinecolor\": \"rgb(51,51,51)\"}, \"type\": \"carpet\"}], \"choropleth\": [{\"colorbar\": {\"outlinewidth\": 0, \"tickcolor\": \"rgb(237,237,237)\", \"ticklen\": 6, \"ticks\": \"inside\"}, \"type\": \"choropleth\"}], \"contour\": [{\"colorbar\": {\"outlinewidth\": 0, \"tickcolor\": \"rgb(237,237,237)\", \"ticklen\": 6, \"ticks\": \"inside\"}, \"colorscale\": [[0, \"rgb(20,44,66)\"], [1, \"rgb(90,179,244)\"]], \"type\": \"contour\"}], \"contourcarpet\": [{\"colorbar\": {\"outlinewidth\": 0, \"tickcolor\": \"rgb(237,237,237)\", \"ticklen\": 6, \"ticks\": \"inside\"}, \"type\": \"contourcarpet\"}], \"heatmap\": [{\"colorbar\": {\"outlinewidth\": 0, \"tickcolor\": \"rgb(237,237,237)\", \"ticklen\": 6, \"ticks\": \"inside\"}, \"colorscale\": [[0, \"rgb(20,44,66)\"], [1, \"rgb(90,179,244)\"]], \"type\": \"heatmap\"}], \"heatmapgl\": [{\"colorbar\": {\"outlinewidth\": 0, \"tickcolor\": \"rgb(237,237,237)\", \"ticklen\": 6, \"ticks\": \"inside\"}, \"colorscale\": [[0, \"rgb(20,44,66)\"], [1, \"rgb(90,179,244)\"]], \"type\": \"heatmapgl\"}], \"histogram\": [{\"marker\": {\"colorbar\": {\"outlinewidth\": 0, \"tickcolor\": \"rgb(237,237,237)\", \"ticklen\": 6, \"ticks\": \"inside\"}}, \"type\": \"histogram\"}], \"histogram2d\": [{\"colorbar\": {\"outlinewidth\": 0, \"tickcolor\": \"rgb(237,237,237)\", \"ticklen\": 6, \"ticks\": \"inside\"}, \"colorscale\": [[0, \"rgb(20,44,66)\"], [1, \"rgb(90,179,244)\"]], \"type\": \"histogram2d\"}], \"histogram2dcontour\": [{\"colorbar\": {\"outlinewidth\": 0, \"tickcolor\": \"rgb(237,237,237)\", \"ticklen\": 6, \"ticks\": \"inside\"}, \"colorscale\": [[0, \"rgb(20,44,66)\"], [1, \"rgb(90,179,244)\"]], \"type\": \"histogram2dcontour\"}], \"mesh3d\": [{\"colorbar\": {\"outlinewidth\": 0, \"tickcolor\": \"rgb(237,237,237)\", \"ticklen\": 6, \"ticks\": \"inside\"}, \"type\": \"mesh3d\"}], \"parcoords\": [{\"line\": {\"colorbar\": {\"outlinewidth\": 0, \"tickcolor\": \"rgb(237,237,237)\", \"ticklen\": 6, \"ticks\": \"inside\"}}, \"type\": \"parcoords\"}], \"pie\": [{\"automargin\": true, \"type\": \"pie\"}], \"scatter\": [{\"marker\": {\"colorbar\": {\"outlinewidth\": 0, \"tickcolor\": \"rgb(237,237,237)\", \"ticklen\": 6, \"ticks\": \"inside\"}}, \"type\": \"scatter\"}], \"scatter3d\": [{\"line\": {\"colorbar\": {\"outlinewidth\": 0, \"tickcolor\": \"rgb(237,237,237)\", \"ticklen\": 6, \"ticks\": \"inside\"}}, \"marker\": {\"colorbar\": {\"outlinewidth\": 0, \"tickcolor\": \"rgb(237,237,237)\", \"ticklen\": 6, \"ticks\": \"inside\"}}, \"type\": \"scatter3d\"}], \"scattercarpet\": [{\"marker\": {\"colorbar\": {\"outlinewidth\": 0, \"tickcolor\": \"rgb(237,237,237)\", \"ticklen\": 6, \"ticks\": \"inside\"}}, \"type\": \"scattercarpet\"}], \"scattergeo\": [{\"marker\": {\"colorbar\": {\"outlinewidth\": 0, \"tickcolor\": \"rgb(237,237,237)\", \"ticklen\": 6, \"ticks\": \"inside\"}}, \"type\": \"scattergeo\"}], \"scattergl\": [{\"marker\": {\"colorbar\": {\"outlinewidth\": 0, \"tickcolor\": \"rgb(237,237,237)\", \"ticklen\": 6, \"ticks\": \"inside\"}}, \"type\": \"scattergl\"}], \"scattermapbox\": [{\"marker\": {\"colorbar\": {\"outlinewidth\": 0, \"tickcolor\": \"rgb(237,237,237)\", \"ticklen\": 6, \"ticks\": \"inside\"}}, \"type\": \"scattermapbox\"}], \"scatterpolar\": [{\"marker\": {\"colorbar\": {\"outlinewidth\": 0, \"tickcolor\": \"rgb(237,237,237)\", \"ticklen\": 6, \"ticks\": \"inside\"}}, \"type\": \"scatterpolar\"}], \"scatterpolargl\": [{\"marker\": {\"colorbar\": {\"outlinewidth\": 0, \"tickcolor\": \"rgb(237,237,237)\", \"ticklen\": 6, \"ticks\": \"inside\"}}, \"type\": \"scatterpolargl\"}], \"scatterternary\": [{\"marker\": {\"colorbar\": {\"outlinewidth\": 0, \"tickcolor\": \"rgb(237,237,237)\", \"ticklen\": 6, \"ticks\": \"inside\"}}, \"type\": \"scatterternary\"}], \"surface\": [{\"colorbar\": {\"outlinewidth\": 0, \"tickcolor\": \"rgb(237,237,237)\", \"ticklen\": 6, \"ticks\": \"inside\"}, \"colorscale\": [[0, \"rgb(20,44,66)\"], [1, \"rgb(90,179,244)\"]], \"type\": \"surface\"}], \"table\": [{\"cells\": {\"fill\": {\"color\": \"rgb(237,237,237)\"}, \"line\": {\"color\": \"white\"}}, \"header\": {\"fill\": {\"color\": \"rgb(217,217,217)\"}, \"line\": {\"color\": \"white\"}}, \"type\": \"table\"}]}, \"layout\": {\"annotationdefaults\": {\"arrowhead\": 0, \"arrowwidth\": 1}, \"coloraxis\": {\"colorbar\": {\"outlinewidth\": 0, \"tickcolor\": \"rgb(237,237,237)\", \"ticklen\": 6, \"ticks\": \"inside\"}}, \"colorscale\": {\"sequential\": [[0, \"rgb(20,44,66)\"], [1, \"rgb(90,179,244)\"]], \"sequentialminus\": [[0, \"rgb(20,44,66)\"], [1, \"rgb(90,179,244)\"]]}, \"colorway\": [\"#F8766D\", \"#A3A500\", \"#00BF7D\", \"#00B0F6\", \"#E76BF3\"], \"font\": {\"color\": \"rgb(51,51,51)\"}, \"geo\": {\"bgcolor\": \"white\", \"lakecolor\": \"white\", \"landcolor\": \"rgb(237,237,237)\", \"showlakes\": true, \"showland\": true, \"subunitcolor\": \"white\"}, \"hoverlabel\": {\"align\": \"left\"}, \"hovermode\": \"closest\", \"paper_bgcolor\": \"white\", \"plot_bgcolor\": \"rgb(237,237,237)\", \"polar\": {\"angularaxis\": {\"gridcolor\": \"white\", \"linecolor\": \"white\", \"showgrid\": true, \"tickcolor\": \"rgb(51,51,51)\", \"ticks\": \"outside\"}, \"bgcolor\": \"rgb(237,237,237)\", \"radialaxis\": {\"gridcolor\": \"white\", \"linecolor\": \"white\", \"showgrid\": true, \"tickcolor\": \"rgb(51,51,51)\", \"ticks\": \"outside\"}}, \"scene\": {\"xaxis\": {\"backgroundcolor\": \"rgb(237,237,237)\", \"gridcolor\": \"white\", \"gridwidth\": 2, \"linecolor\": \"white\", \"showbackground\": true, \"showgrid\": true, \"tickcolor\": \"rgb(51,51,51)\", \"ticks\": \"outside\", \"zerolinecolor\": \"white\"}, \"yaxis\": {\"backgroundcolor\": \"rgb(237,237,237)\", \"gridcolor\": \"white\", \"gridwidth\": 2, \"linecolor\": \"white\", \"showbackground\": true, \"showgrid\": true, \"tickcolor\": \"rgb(51,51,51)\", \"ticks\": \"outside\", \"zerolinecolor\": \"white\"}, \"zaxis\": {\"backgroundcolor\": \"rgb(237,237,237)\", \"gridcolor\": \"white\", \"gridwidth\": 2, \"linecolor\": \"white\", \"showbackground\": true, \"showgrid\": true, \"tickcolor\": \"rgb(51,51,51)\", \"ticks\": \"outside\", \"zerolinecolor\": \"white\"}}, \"shapedefaults\": {\"fillcolor\": \"black\", \"line\": {\"width\": 0}, \"opacity\": 0.3}, \"ternary\": {\"aaxis\": {\"gridcolor\": \"white\", \"linecolor\": \"white\", \"showgrid\": true, \"tickcolor\": \"rgb(51,51,51)\", \"ticks\": \"outside\"}, \"baxis\": {\"gridcolor\": \"white\", \"linecolor\": \"white\", \"showgrid\": true, \"tickcolor\": \"rgb(51,51,51)\", \"ticks\": \"outside\"}, \"bgcolor\": \"rgb(237,237,237)\", \"caxis\": {\"gridcolor\": \"white\", \"linecolor\": \"white\", \"showgrid\": true, \"tickcolor\": \"rgb(51,51,51)\", \"ticks\": \"outside\"}}, \"xaxis\": {\"automargin\": true, \"gridcolor\": \"white\", \"linecolor\": \"white\", \"showgrid\": true, \"tickcolor\": \"rgb(51,51,51)\", \"ticks\": \"outside\", \"title\": {\"standoff\": 15}, \"zerolinecolor\": \"white\"}, \"yaxis\": {\"automargin\": true, \"gridcolor\": \"white\", \"linecolor\": \"white\", \"showgrid\": true, \"tickcolor\": \"rgb(51,51,51)\", \"ticks\": \"outside\", \"title\": {\"standoff\": 15}, \"zerolinecolor\": \"white\"}}}, \"title\": {\"font\": {\"color\": \"darkslateblue\", \"size\": 20}, \"text\": \"Unique Item Counts per Date Block (Incl. Test data)\"}, \"width\": 750, \"xaxis\": {\"tickfont\": {\"size\": 16}, \"title\": {\"font\": {\"size\": 20}, \"text\": \"Date Block\"}}, \"yaxis\": {\"nticks\": 8, \"tickfont\": {\"size\": 16}, \"title\": {\"font\": {\"size\": 20}, \"text\": \"Total Unique Item Count\"}}},                        {\"responsive\": true}                    ).then(function(){\n",
       "                            \n",
       "var gd = document.getElementById('20ca2bb0-7c87-4ba4-b0b5-c9c3e8520b26');\n",
       "var x = new MutationObserver(function (mutations, observer) {{\n",
       "        var display = window.getComputedStyle(gd).display;\n",
       "        if (!display || display === 'none') {{\n",
       "            console.log([gd, 'removed!']);\n",
       "            Plotly.purge(gd);\n",
       "            observer.disconnect();\n",
       "        }}\n",
       "}});\n",
       "\n",
       "// Listen for the removal of the full notebook cells\n",
       "var notebookContainer = gd.closest('#notebook-container');\n",
       "if (notebookContainer) {{\n",
       "    x.observe(notebookContainer, {childList: true});\n",
       "}}\n",
       "\n",
       "// Listen for the clearing of the current output cell\n",
       "var outputEl = gd.closest('.output');\n",
       "if (outputEl) {{\n",
       "    x.observe(outputEl, {childList: true});\n",
       "}}\n",
       "\n",
       "                        })                };                });            </script>        </div>"
      ]
     },
     "metadata": {},
     "output_type": "display_data"
    }
   ],
   "source": [
    "plot_counts(ft = 'item_id', name='Item')"
   ]
  },
  {
   "cell_type": "code",
   "execution_count": 23,
   "metadata": {
    "_kg_hide-input": true,
    "execution": {
     "iopub.execute_input": "2020-10-12T08:35:24.578638Z",
     "iopub.status.busy": "2020-10-12T08:35:24.577152Z",
     "iopub.status.idle": "2020-10-12T08:35:24.790732Z",
     "shell.execute_reply": "2020-10-12T08:35:24.791246Z"
    },
    "papermill": {
     "duration": 0.292212,
     "end_time": "2020-10-12T08:35:24.791383",
     "exception": false,
     "start_time": "2020-10-12T08:35:24.499171",
     "status": "completed"
    },
    "tags": []
   },
   "outputs": [
    {
     "data": {
      "text/html": [
       "<div>                            <div id=\"cb977c22-97d3-46ba-924a-291d6dd0aff2\" class=\"plotly-graph-div\" style=\"height:500px; width:750px;\"></div>            <script type=\"text/javascript\">                require([\"plotly\"], function(Plotly) {                    window.PLOTLYENV=window.PLOTLYENV || {};                                    if (document.getElementById(\"cb977c22-97d3-46ba-924a-291d6dd0aff2\")) {                    Plotly.newPlot(                        \"cb977c22-97d3-46ba-924a-291d6dd0aff2\",                        [{\"marker\": {\"color\": [\"indianred\", \"indianred\", \"indianred\", \"indianred\", \"indianred\", \"indianred\", \"indianred\", \"indianred\", \"indianred\", \"indianred\", \"indianred\", \"indianred\", \"indianred\", \"indianred\", \"indianred\", \"indianred\", \"indianred\", \"indianred\", \"indianred\", \"indianred\", \"indianred\", \"indianred\", \"indianred\", \"indianred\", \"indianred\", \"indianred\", \"indianred\", \"indianred\", \"indianred\", \"indianred\", \"indianred\", \"indianred\", \"indianred\", \"indianred\", \"blue\"]}, \"name\": \"UniqueShopCount\", \"type\": \"bar\", \"width\": 0.9, \"x\": [0, 1, 2, 3, 4, 5, 6, 7, 8, 9, 10, 11, 12, 13, 14, 15, 16, 17, 18, 19, 20, 21, 22, 23, 24, 25, 26, 27, 28, 29, 30, 31, 32, 33, 34], \"y\": [45, 46, 46, 46, 45, 46, 46, 45, 45, 46, 45, 46, 46, 46, 48, 49, 49, 49, 50, 51, 50, 52, 50, 50, 50, 47, 46, 47, 44, 43, 43, 42, 43, 44, 42]}],                        {\"height\": 500, \"template\": {\"data\": {\"bar\": [{\"error_x\": {\"color\": \"rgb(51,51,51)\"}, \"error_y\": {\"color\": \"rgb(51,51,51)\"}, \"marker\": {\"line\": {\"color\": \"rgb(237,237,237)\", \"width\": 0.5}}, \"type\": \"bar\"}], \"barpolar\": [{\"marker\": {\"line\": {\"color\": \"rgb(237,237,237)\", \"width\": 0.5}}, \"type\": \"barpolar\"}], \"carpet\": [{\"aaxis\": {\"endlinecolor\": \"rgb(51,51,51)\", \"gridcolor\": \"white\", \"linecolor\": \"white\", \"minorgridcolor\": \"white\", \"startlinecolor\": \"rgb(51,51,51)\"}, \"baxis\": {\"endlinecolor\": \"rgb(51,51,51)\", \"gridcolor\": \"white\", \"linecolor\": \"white\", \"minorgridcolor\": \"white\", \"startlinecolor\": \"rgb(51,51,51)\"}, \"type\": \"carpet\"}], \"choropleth\": [{\"colorbar\": {\"outlinewidth\": 0, \"tickcolor\": \"rgb(237,237,237)\", \"ticklen\": 6, \"ticks\": \"inside\"}, \"type\": \"choropleth\"}], \"contour\": [{\"colorbar\": {\"outlinewidth\": 0, \"tickcolor\": \"rgb(237,237,237)\", \"ticklen\": 6, \"ticks\": \"inside\"}, \"colorscale\": [[0, \"rgb(20,44,66)\"], [1, \"rgb(90,179,244)\"]], \"type\": \"contour\"}], \"contourcarpet\": [{\"colorbar\": {\"outlinewidth\": 0, \"tickcolor\": \"rgb(237,237,237)\", \"ticklen\": 6, \"ticks\": \"inside\"}, \"type\": \"contourcarpet\"}], \"heatmap\": [{\"colorbar\": {\"outlinewidth\": 0, \"tickcolor\": \"rgb(237,237,237)\", \"ticklen\": 6, \"ticks\": \"inside\"}, \"colorscale\": [[0, \"rgb(20,44,66)\"], [1, \"rgb(90,179,244)\"]], \"type\": \"heatmap\"}], \"heatmapgl\": [{\"colorbar\": {\"outlinewidth\": 0, \"tickcolor\": \"rgb(237,237,237)\", \"ticklen\": 6, \"ticks\": \"inside\"}, \"colorscale\": [[0, \"rgb(20,44,66)\"], [1, \"rgb(90,179,244)\"]], \"type\": \"heatmapgl\"}], \"histogram\": [{\"marker\": {\"colorbar\": {\"outlinewidth\": 0, \"tickcolor\": \"rgb(237,237,237)\", \"ticklen\": 6, \"ticks\": \"inside\"}}, \"type\": \"histogram\"}], \"histogram2d\": [{\"colorbar\": {\"outlinewidth\": 0, \"tickcolor\": \"rgb(237,237,237)\", \"ticklen\": 6, \"ticks\": \"inside\"}, \"colorscale\": [[0, \"rgb(20,44,66)\"], [1, \"rgb(90,179,244)\"]], \"type\": \"histogram2d\"}], \"histogram2dcontour\": [{\"colorbar\": {\"outlinewidth\": 0, \"tickcolor\": \"rgb(237,237,237)\", \"ticklen\": 6, \"ticks\": \"inside\"}, \"colorscale\": [[0, \"rgb(20,44,66)\"], [1, \"rgb(90,179,244)\"]], \"type\": \"histogram2dcontour\"}], \"mesh3d\": [{\"colorbar\": {\"outlinewidth\": 0, \"tickcolor\": \"rgb(237,237,237)\", \"ticklen\": 6, \"ticks\": \"inside\"}, \"type\": \"mesh3d\"}], \"parcoords\": [{\"line\": {\"colorbar\": {\"outlinewidth\": 0, \"tickcolor\": \"rgb(237,237,237)\", \"ticklen\": 6, \"ticks\": \"inside\"}}, \"type\": \"parcoords\"}], \"pie\": [{\"automargin\": true, \"type\": \"pie\"}], \"scatter\": [{\"marker\": {\"colorbar\": {\"outlinewidth\": 0, \"tickcolor\": \"rgb(237,237,237)\", \"ticklen\": 6, \"ticks\": \"inside\"}}, \"type\": \"scatter\"}], \"scatter3d\": [{\"line\": {\"colorbar\": {\"outlinewidth\": 0, \"tickcolor\": \"rgb(237,237,237)\", \"ticklen\": 6, \"ticks\": \"inside\"}}, \"marker\": {\"colorbar\": {\"outlinewidth\": 0, \"tickcolor\": \"rgb(237,237,237)\", \"ticklen\": 6, \"ticks\": \"inside\"}}, \"type\": \"scatter3d\"}], \"scattercarpet\": [{\"marker\": {\"colorbar\": {\"outlinewidth\": 0, \"tickcolor\": \"rgb(237,237,237)\", \"ticklen\": 6, \"ticks\": \"inside\"}}, \"type\": \"scattercarpet\"}], \"scattergeo\": [{\"marker\": {\"colorbar\": {\"outlinewidth\": 0, \"tickcolor\": \"rgb(237,237,237)\", \"ticklen\": 6, \"ticks\": \"inside\"}}, \"type\": \"scattergeo\"}], \"scattergl\": [{\"marker\": {\"colorbar\": {\"outlinewidth\": 0, \"tickcolor\": \"rgb(237,237,237)\", \"ticklen\": 6, \"ticks\": \"inside\"}}, \"type\": \"scattergl\"}], \"scattermapbox\": [{\"marker\": {\"colorbar\": {\"outlinewidth\": 0, \"tickcolor\": \"rgb(237,237,237)\", \"ticklen\": 6, \"ticks\": \"inside\"}}, \"type\": \"scattermapbox\"}], \"scatterpolar\": [{\"marker\": {\"colorbar\": {\"outlinewidth\": 0, \"tickcolor\": \"rgb(237,237,237)\", \"ticklen\": 6, \"ticks\": \"inside\"}}, \"type\": \"scatterpolar\"}], \"scatterpolargl\": [{\"marker\": {\"colorbar\": {\"outlinewidth\": 0, \"tickcolor\": \"rgb(237,237,237)\", \"ticklen\": 6, \"ticks\": \"inside\"}}, \"type\": \"scatterpolargl\"}], \"scatterternary\": [{\"marker\": {\"colorbar\": {\"outlinewidth\": 0, \"tickcolor\": \"rgb(237,237,237)\", \"ticklen\": 6, \"ticks\": \"inside\"}}, \"type\": \"scatterternary\"}], \"surface\": [{\"colorbar\": {\"outlinewidth\": 0, \"tickcolor\": \"rgb(237,237,237)\", \"ticklen\": 6, \"ticks\": \"inside\"}, \"colorscale\": [[0, \"rgb(20,44,66)\"], [1, \"rgb(90,179,244)\"]], \"type\": \"surface\"}], \"table\": [{\"cells\": {\"fill\": {\"color\": \"rgb(237,237,237)\"}, \"line\": {\"color\": \"white\"}}, \"header\": {\"fill\": {\"color\": \"rgb(217,217,217)\"}, \"line\": {\"color\": \"white\"}}, \"type\": \"table\"}]}, \"layout\": {\"annotationdefaults\": {\"arrowhead\": 0, \"arrowwidth\": 1}, \"coloraxis\": {\"colorbar\": {\"outlinewidth\": 0, \"tickcolor\": \"rgb(237,237,237)\", \"ticklen\": 6, \"ticks\": \"inside\"}}, \"colorscale\": {\"sequential\": [[0, \"rgb(20,44,66)\"], [1, \"rgb(90,179,244)\"]], \"sequentialminus\": [[0, \"rgb(20,44,66)\"], [1, \"rgb(90,179,244)\"]]}, \"colorway\": [\"#F8766D\", \"#A3A500\", \"#00BF7D\", \"#00B0F6\", \"#E76BF3\"], \"font\": {\"color\": \"rgb(51,51,51)\"}, \"geo\": {\"bgcolor\": \"white\", \"lakecolor\": \"white\", \"landcolor\": \"rgb(237,237,237)\", \"showlakes\": true, \"showland\": true, \"subunitcolor\": \"white\"}, \"hoverlabel\": {\"align\": \"left\"}, \"hovermode\": \"closest\", \"paper_bgcolor\": \"white\", \"plot_bgcolor\": \"rgb(237,237,237)\", \"polar\": {\"angularaxis\": {\"gridcolor\": \"white\", \"linecolor\": \"white\", \"showgrid\": true, \"tickcolor\": \"rgb(51,51,51)\", \"ticks\": \"outside\"}, \"bgcolor\": \"rgb(237,237,237)\", \"radialaxis\": {\"gridcolor\": \"white\", \"linecolor\": \"white\", \"showgrid\": true, \"tickcolor\": \"rgb(51,51,51)\", \"ticks\": \"outside\"}}, \"scene\": {\"xaxis\": {\"backgroundcolor\": \"rgb(237,237,237)\", \"gridcolor\": \"white\", \"gridwidth\": 2, \"linecolor\": \"white\", \"showbackground\": true, \"showgrid\": true, \"tickcolor\": \"rgb(51,51,51)\", \"ticks\": \"outside\", \"zerolinecolor\": \"white\"}, \"yaxis\": {\"backgroundcolor\": \"rgb(237,237,237)\", \"gridcolor\": \"white\", \"gridwidth\": 2, \"linecolor\": \"white\", \"showbackground\": true, \"showgrid\": true, \"tickcolor\": \"rgb(51,51,51)\", \"ticks\": \"outside\", \"zerolinecolor\": \"white\"}, \"zaxis\": {\"backgroundcolor\": \"rgb(237,237,237)\", \"gridcolor\": \"white\", \"gridwidth\": 2, \"linecolor\": \"white\", \"showbackground\": true, \"showgrid\": true, \"tickcolor\": \"rgb(51,51,51)\", \"ticks\": \"outside\", \"zerolinecolor\": \"white\"}}, \"shapedefaults\": {\"fillcolor\": \"black\", \"line\": {\"width\": 0}, \"opacity\": 0.3}, \"ternary\": {\"aaxis\": {\"gridcolor\": \"white\", \"linecolor\": \"white\", \"showgrid\": true, \"tickcolor\": \"rgb(51,51,51)\", \"ticks\": \"outside\"}, \"baxis\": {\"gridcolor\": \"white\", \"linecolor\": \"white\", \"showgrid\": true, \"tickcolor\": \"rgb(51,51,51)\", \"ticks\": \"outside\"}, \"bgcolor\": \"rgb(237,237,237)\", \"caxis\": {\"gridcolor\": \"white\", \"linecolor\": \"white\", \"showgrid\": true, \"tickcolor\": \"rgb(51,51,51)\", \"ticks\": \"outside\"}}, \"xaxis\": {\"automargin\": true, \"gridcolor\": \"white\", \"linecolor\": \"white\", \"showgrid\": true, \"tickcolor\": \"rgb(51,51,51)\", \"ticks\": \"outside\", \"title\": {\"standoff\": 15}, \"zerolinecolor\": \"white\"}, \"yaxis\": {\"automargin\": true, \"gridcolor\": \"white\", \"linecolor\": \"white\", \"showgrid\": true, \"tickcolor\": \"rgb(51,51,51)\", \"ticks\": \"outside\", \"title\": {\"standoff\": 15}, \"zerolinecolor\": \"white\"}}}, \"title\": {\"font\": {\"color\": \"darkslateblue\", \"size\": 20}, \"text\": \"Unique Shop Counts per Date Block (Incl. Test data)\"}, \"width\": 750, \"xaxis\": {\"tickfont\": {\"size\": 16}, \"title\": {\"font\": {\"size\": 20}, \"text\": \"Date Block\"}}, \"yaxis\": {\"nticks\": 8, \"tickfont\": {\"size\": 16}, \"title\": {\"font\": {\"size\": 20}, \"text\": \"Total Unique Shop Count\"}}},                        {\"responsive\": true}                    ).then(function(){\n",
       "                            \n",
       "var gd = document.getElementById('cb977c22-97d3-46ba-924a-291d6dd0aff2');\n",
       "var x = new MutationObserver(function (mutations, observer) {{\n",
       "        var display = window.getComputedStyle(gd).display;\n",
       "        if (!display || display === 'none') {{\n",
       "            console.log([gd, 'removed!']);\n",
       "            Plotly.purge(gd);\n",
       "            observer.disconnect();\n",
       "        }}\n",
       "}});\n",
       "\n",
       "// Listen for the removal of the full notebook cells\n",
       "var notebookContainer = gd.closest('#notebook-container');\n",
       "if (notebookContainer) {{\n",
       "    x.observe(notebookContainer, {childList: true});\n",
       "}}\n",
       "\n",
       "// Listen for the clearing of the current output cell\n",
       "var outputEl = gd.closest('.output');\n",
       "if (outputEl) {{\n",
       "    x.observe(outputEl, {childList: true});\n",
       "}}\n",
       "\n",
       "                        })                };                });            </script>        </div>"
      ]
     },
     "metadata": {},
     "output_type": "display_data"
    }
   ],
   "source": [
    "plot_counts(ft = 'shop_id', name='Shop')"
   ]
  },
  {
   "cell_type": "code",
   "execution_count": 24,
   "metadata": {
    "_kg_hide-input": true,
    "execution": {
     "iopub.execute_input": "2020-10-12T08:35:24.953136Z",
     "iopub.status.busy": "2020-10-12T08:35:24.951365Z",
     "iopub.status.idle": "2020-10-12T08:35:25.076252Z",
     "shell.execute_reply": "2020-10-12T08:35:25.076759Z"
    },
    "papermill": {
     "duration": 0.210465,
     "end_time": "2020-10-12T08:35:25.076925",
     "exception": false,
     "start_time": "2020-10-12T08:35:24.866460",
     "status": "completed"
    },
    "tags": []
   },
   "outputs": [
    {
     "data": {
      "text/html": [
       "<div>                            <div id=\"19d4531b-867f-4c73-b748-d88ca13fedb2\" class=\"plotly-graph-div\" style=\"height:500px; width:750px;\"></div>            <script type=\"text/javascript\">                require([\"plotly\"], function(Plotly) {                    window.PLOTLYENV=window.PLOTLYENV || {};                                    if (document.getElementById(\"19d4531b-867f-4c73-b748-d88ca13fedb2\")) {                    Plotly.newPlot(                        \"19d4531b-867f-4c73-b748-d88ca13fedb2\",                        [{\"marker\": {\"color\": [\"indianred\", \"indianred\", \"indianred\", \"indianred\", \"indianred\", \"indianred\", \"indianred\", \"indianred\", \"indianred\", \"indianred\", \"indianred\", \"indianred\", \"indianred\", \"indianred\", \"indianred\", \"indianred\", \"indianred\", \"indianred\", \"indianred\", \"indianred\", \"indianred\", \"indianred\", \"indianred\", \"indianred\", \"indianred\", \"indianred\", \"indianred\", \"indianred\", \"indianred\", \"indianred\", \"indianred\", \"indianred\", \"indianred\", \"indianred\", \"blue\"]}, \"name\": \"Unique Item Count\", \"type\": \"bar\", \"width\": 0.9, \"x\": [0, 1, 2, 3, 4, 5, 6, 7, 8, 9, 10, 11, 12, 13, 14, 15, 16, 17, 18, 19, 20, 21, 22, 23, 24, 25, 26, 27, 28, 29, 30, 31, 32, 33, 34], \"y\": [63224, 59935, 63977, 54638, 53296, 56196, 58035, 58022, 51575, 51090, 51460, 66275, 53320, 47704, 49291, 44740, 45766, 46481, 45756, 46439, 40423, 42595, 45755, 59275, 46775, 41390, 40464, 32875, 32220, 31909, 33527, 33486, 29678, 31531, 214200]}],                        {\"height\": 500, \"template\": {\"data\": {\"bar\": [{\"error_x\": {\"color\": \"rgb(51,51,51)\"}, \"error_y\": {\"color\": \"rgb(51,51,51)\"}, \"marker\": {\"line\": {\"color\": \"rgb(237,237,237)\", \"width\": 0.5}}, \"type\": \"bar\"}], \"barpolar\": [{\"marker\": {\"line\": {\"color\": \"rgb(237,237,237)\", \"width\": 0.5}}, \"type\": \"barpolar\"}], \"carpet\": [{\"aaxis\": {\"endlinecolor\": \"rgb(51,51,51)\", \"gridcolor\": \"white\", \"linecolor\": \"white\", \"minorgridcolor\": \"white\", \"startlinecolor\": \"rgb(51,51,51)\"}, \"baxis\": {\"endlinecolor\": \"rgb(51,51,51)\", \"gridcolor\": \"white\", \"linecolor\": \"white\", \"minorgridcolor\": \"white\", \"startlinecolor\": \"rgb(51,51,51)\"}, \"type\": \"carpet\"}], \"choropleth\": [{\"colorbar\": {\"outlinewidth\": 0, \"tickcolor\": \"rgb(237,237,237)\", \"ticklen\": 6, \"ticks\": \"inside\"}, \"type\": \"choropleth\"}], \"contour\": [{\"colorbar\": {\"outlinewidth\": 0, \"tickcolor\": \"rgb(237,237,237)\", \"ticklen\": 6, \"ticks\": \"inside\"}, \"colorscale\": [[0, \"rgb(20,44,66)\"], [1, \"rgb(90,179,244)\"]], \"type\": \"contour\"}], \"contourcarpet\": [{\"colorbar\": {\"outlinewidth\": 0, \"tickcolor\": \"rgb(237,237,237)\", \"ticklen\": 6, \"ticks\": \"inside\"}, \"type\": \"contourcarpet\"}], \"heatmap\": [{\"colorbar\": {\"outlinewidth\": 0, \"tickcolor\": \"rgb(237,237,237)\", \"ticklen\": 6, \"ticks\": \"inside\"}, \"colorscale\": [[0, \"rgb(20,44,66)\"], [1, \"rgb(90,179,244)\"]], \"type\": \"heatmap\"}], \"heatmapgl\": [{\"colorbar\": {\"outlinewidth\": 0, \"tickcolor\": \"rgb(237,237,237)\", \"ticklen\": 6, \"ticks\": \"inside\"}, \"colorscale\": [[0, \"rgb(20,44,66)\"], [1, \"rgb(90,179,244)\"]], \"type\": \"heatmapgl\"}], \"histogram\": [{\"marker\": {\"colorbar\": {\"outlinewidth\": 0, \"tickcolor\": \"rgb(237,237,237)\", \"ticklen\": 6, \"ticks\": \"inside\"}}, \"type\": \"histogram\"}], \"histogram2d\": [{\"colorbar\": {\"outlinewidth\": 0, \"tickcolor\": \"rgb(237,237,237)\", \"ticklen\": 6, \"ticks\": \"inside\"}, \"colorscale\": [[0, \"rgb(20,44,66)\"], [1, \"rgb(90,179,244)\"]], \"type\": \"histogram2d\"}], \"histogram2dcontour\": [{\"colorbar\": {\"outlinewidth\": 0, \"tickcolor\": \"rgb(237,237,237)\", \"ticklen\": 6, \"ticks\": \"inside\"}, \"colorscale\": [[0, \"rgb(20,44,66)\"], [1, \"rgb(90,179,244)\"]], \"type\": \"histogram2dcontour\"}], \"mesh3d\": [{\"colorbar\": {\"outlinewidth\": 0, \"tickcolor\": \"rgb(237,237,237)\", \"ticklen\": 6, \"ticks\": \"inside\"}, \"type\": \"mesh3d\"}], \"parcoords\": [{\"line\": {\"colorbar\": {\"outlinewidth\": 0, \"tickcolor\": \"rgb(237,237,237)\", \"ticklen\": 6, \"ticks\": \"inside\"}}, \"type\": \"parcoords\"}], \"pie\": [{\"automargin\": true, \"type\": \"pie\"}], \"scatter\": [{\"marker\": {\"colorbar\": {\"outlinewidth\": 0, \"tickcolor\": \"rgb(237,237,237)\", \"ticklen\": 6, \"ticks\": \"inside\"}}, \"type\": \"scatter\"}], \"scatter3d\": [{\"line\": {\"colorbar\": {\"outlinewidth\": 0, \"tickcolor\": \"rgb(237,237,237)\", \"ticklen\": 6, \"ticks\": \"inside\"}}, \"marker\": {\"colorbar\": {\"outlinewidth\": 0, \"tickcolor\": \"rgb(237,237,237)\", \"ticklen\": 6, \"ticks\": \"inside\"}}, \"type\": \"scatter3d\"}], \"scattercarpet\": [{\"marker\": {\"colorbar\": {\"outlinewidth\": 0, \"tickcolor\": \"rgb(237,237,237)\", \"ticklen\": 6, \"ticks\": \"inside\"}}, \"type\": \"scattercarpet\"}], \"scattergeo\": [{\"marker\": {\"colorbar\": {\"outlinewidth\": 0, \"tickcolor\": \"rgb(237,237,237)\", \"ticklen\": 6, \"ticks\": \"inside\"}}, \"type\": \"scattergeo\"}], \"scattergl\": [{\"marker\": {\"colorbar\": {\"outlinewidth\": 0, \"tickcolor\": \"rgb(237,237,237)\", \"ticklen\": 6, \"ticks\": \"inside\"}}, \"type\": \"scattergl\"}], \"scattermapbox\": [{\"marker\": {\"colorbar\": {\"outlinewidth\": 0, \"tickcolor\": \"rgb(237,237,237)\", \"ticklen\": 6, \"ticks\": \"inside\"}}, \"type\": \"scattermapbox\"}], \"scatterpolar\": [{\"marker\": {\"colorbar\": {\"outlinewidth\": 0, \"tickcolor\": \"rgb(237,237,237)\", \"ticklen\": 6, \"ticks\": \"inside\"}}, \"type\": \"scatterpolar\"}], \"scatterpolargl\": [{\"marker\": {\"colorbar\": {\"outlinewidth\": 0, \"tickcolor\": \"rgb(237,237,237)\", \"ticklen\": 6, \"ticks\": \"inside\"}}, \"type\": \"scatterpolargl\"}], \"scatterternary\": [{\"marker\": {\"colorbar\": {\"outlinewidth\": 0, \"tickcolor\": \"rgb(237,237,237)\", \"ticklen\": 6, \"ticks\": \"inside\"}}, \"type\": \"scatterternary\"}], \"surface\": [{\"colorbar\": {\"outlinewidth\": 0, \"tickcolor\": \"rgb(237,237,237)\", \"ticklen\": 6, \"ticks\": \"inside\"}, \"colorscale\": [[0, \"rgb(20,44,66)\"], [1, \"rgb(90,179,244)\"]], \"type\": \"surface\"}], \"table\": [{\"cells\": {\"fill\": {\"color\": \"rgb(237,237,237)\"}, \"line\": {\"color\": \"white\"}}, \"header\": {\"fill\": {\"color\": \"rgb(217,217,217)\"}, \"line\": {\"color\": \"white\"}}, \"type\": \"table\"}]}, \"layout\": {\"annotationdefaults\": {\"arrowhead\": 0, \"arrowwidth\": 1}, \"coloraxis\": {\"colorbar\": {\"outlinewidth\": 0, \"tickcolor\": \"rgb(237,237,237)\", \"ticklen\": 6, \"ticks\": \"inside\"}}, \"colorscale\": {\"sequential\": [[0, \"rgb(20,44,66)\"], [1, \"rgb(90,179,244)\"]], \"sequentialminus\": [[0, \"rgb(20,44,66)\"], [1, \"rgb(90,179,244)\"]]}, \"colorway\": [\"#F8766D\", \"#A3A500\", \"#00BF7D\", \"#00B0F6\", \"#E76BF3\"], \"font\": {\"color\": \"rgb(51,51,51)\"}, \"geo\": {\"bgcolor\": \"white\", \"lakecolor\": \"white\", \"landcolor\": \"rgb(237,237,237)\", \"showlakes\": true, \"showland\": true, \"subunitcolor\": \"white\"}, \"hoverlabel\": {\"align\": \"left\"}, \"hovermode\": \"closest\", \"paper_bgcolor\": \"white\", \"plot_bgcolor\": \"rgb(237,237,237)\", \"polar\": {\"angularaxis\": {\"gridcolor\": \"white\", \"linecolor\": \"white\", \"showgrid\": true, \"tickcolor\": \"rgb(51,51,51)\", \"ticks\": \"outside\"}, \"bgcolor\": \"rgb(237,237,237)\", \"radialaxis\": {\"gridcolor\": \"white\", \"linecolor\": \"white\", \"showgrid\": true, \"tickcolor\": \"rgb(51,51,51)\", \"ticks\": \"outside\"}}, \"scene\": {\"xaxis\": {\"backgroundcolor\": \"rgb(237,237,237)\", \"gridcolor\": \"white\", \"gridwidth\": 2, \"linecolor\": \"white\", \"showbackground\": true, \"showgrid\": true, \"tickcolor\": \"rgb(51,51,51)\", \"ticks\": \"outside\", \"zerolinecolor\": \"white\"}, \"yaxis\": {\"backgroundcolor\": \"rgb(237,237,237)\", \"gridcolor\": \"white\", \"gridwidth\": 2, \"linecolor\": \"white\", \"showbackground\": true, \"showgrid\": true, \"tickcolor\": \"rgb(51,51,51)\", \"ticks\": \"outside\", \"zerolinecolor\": \"white\"}, \"zaxis\": {\"backgroundcolor\": \"rgb(237,237,237)\", \"gridcolor\": \"white\", \"gridwidth\": 2, \"linecolor\": \"white\", \"showbackground\": true, \"showgrid\": true, \"tickcolor\": \"rgb(51,51,51)\", \"ticks\": \"outside\", \"zerolinecolor\": \"white\"}}, \"shapedefaults\": {\"fillcolor\": \"black\", \"line\": {\"width\": 0}, \"opacity\": 0.3}, \"ternary\": {\"aaxis\": {\"gridcolor\": \"white\", \"linecolor\": \"white\", \"showgrid\": true, \"tickcolor\": \"rgb(51,51,51)\", \"ticks\": \"outside\"}, \"baxis\": {\"gridcolor\": \"white\", \"linecolor\": \"white\", \"showgrid\": true, \"tickcolor\": \"rgb(51,51,51)\", \"ticks\": \"outside\"}, \"bgcolor\": \"rgb(237,237,237)\", \"caxis\": {\"gridcolor\": \"white\", \"linecolor\": \"white\", \"showgrid\": true, \"tickcolor\": \"rgb(51,51,51)\", \"ticks\": \"outside\"}}, \"xaxis\": {\"automargin\": true, \"gridcolor\": \"white\", \"linecolor\": \"white\", \"showgrid\": true, \"tickcolor\": \"rgb(51,51,51)\", \"ticks\": \"outside\", \"title\": {\"standoff\": 15}, \"zerolinecolor\": \"white\"}, \"yaxis\": {\"automargin\": true, \"gridcolor\": \"white\", \"linecolor\": \"white\", \"showgrid\": true, \"tickcolor\": \"rgb(51,51,51)\", \"ticks\": \"outside\", \"title\": {\"standoff\": 15}, \"zerolinecolor\": \"white\"}}}, \"title\": {\"font\": {\"color\": \"darkslateblue\", \"size\": 20}, \"text\": \"Item-Shop Combined Counts per Date Block (Incl. Test data)\"}, \"width\": 750, \"xaxis\": {\"tickfont\": {\"size\": 16}, \"title\": {\"font\": {\"size\": 20}, \"text\": \"Date Block\"}}, \"yaxis\": {\"nticks\": 8, \"tickfont\": {\"size\": 16}, \"title\": {\"font\": {\"size\": 20}, \"text\": \"Total Unique Item Count\"}}},                        {\"responsive\": true}                    ).then(function(){\n",
       "                            \n",
       "var gd = document.getElementById('19d4531b-867f-4c73-b748-d88ca13fedb2');\n",
       "var x = new MutationObserver(function (mutations, observer) {{\n",
       "        var display = window.getComputedStyle(gd).display;\n",
       "        if (!display || display === 'none') {{\n",
       "            console.log([gd, 'removed!']);\n",
       "            Plotly.purge(gd);\n",
       "            observer.disconnect();\n",
       "        }}\n",
       "}});\n",
       "\n",
       "// Listen for the removal of the full notebook cells\n",
       "var notebookContainer = gd.closest('#notebook-container');\n",
       "if (notebookContainer) {{\n",
       "    x.observe(notebookContainer, {childList: true});\n",
       "}}\n",
       "\n",
       "// Listen for the clearing of the current output cell\n",
       "var outputEl = gd.closest('.output');\n",
       "if (outputEl) {{\n",
       "    x.observe(outputEl, {childList: true});\n",
       "}}\n",
       "\n",
       "                        })                };                });            </script>        </div>"
      ]
     },
     "metadata": {},
     "output_type": "display_data"
    }
   ],
   "source": [
    "def plot_combined():\n",
    "    fig = plotly.graph_objects.Figure()\n",
    "\n",
    "    vizdata = (\n",
    "        train.append(test, ignore_index=True)\n",
    "        .groupby(by=[\"date_block_num\"], as_index=False)\n",
    "        .size()\n",
    "    )\n",
    "\n",
    "    colors = [\n",
    "        \"indianred\",\n",
    "    ] * vizdata.shape[0]\n",
    "    colors[-1] = \"blue\"\n",
    "\n",
    "    fig.add_trace(\n",
    "        go.Bar(\n",
    "            x=vizdata[\"date_block_num\"],\n",
    "            y=vizdata[\"size\"],\n",
    "            width=0.9,\n",
    "            marker_color=colors,\n",
    "            name=\"Unique Item Count\",\n",
    "        )\n",
    "    )\n",
    "\n",
    "    fig.update_xaxes(\n",
    "        title_text=\"Date Block\", titlefont=dict(size=20), tickfont=dict(size=16)\n",
    "    )\n",
    "    fig.update_yaxes(\n",
    "        title_text=\"Total Unique Item Count\",\n",
    "        titlefont=dict(size=20),\n",
    "        nticks=8,\n",
    "        tickfont=dict(size=16),\n",
    "    )\n",
    "\n",
    "    fig.update_layout(\n",
    "        height=500,\n",
    "        width=750,\n",
    "        template=\"ggplot2\",\n",
    "        title=go.layout.Title(\n",
    "            text=\"Item-Shop Combined Counts per Date Block (Incl. Test data)\",\n",
    "            font=dict(size=20, color=\"darkslateblue\"),\n",
    "        ),\n",
    "    )\n",
    "\n",
    "    return fig.show()\n",
    "\n",
    "\n",
    "plot_combined()\n"
   ]
  },
  {
   "cell_type": "markdown",
   "metadata": {
    "papermill": {
     "duration": 0.071515,
     "end_time": "2020-10-12T08:35:25.219137",
     "exception": false,
     "start_time": "2020-10-12T08:35:25.147622",
     "status": "completed"
    },
    "tags": []
   },
   "source": [
    "The last graph sure is a curveball.<br>\n",
    "Test set contains all item/shop combinations, unlike the train set where **only** item/shop combinations **with sales** are included.<br><br> Below I'll be extending the train dataframe to include all item/shop combinations just like the test set.<br> Applying cartesian multiplication to each unique item and shop set per date block."
   ]
  },
  {
   "cell_type": "code",
   "execution_count": 25,
   "metadata": {
    "execution": {
     "iopub.execute_input": "2020-10-12T08:35:25.367675Z",
     "iopub.status.busy": "2020-10-12T08:35:25.366763Z",
     "iopub.status.idle": "2020-10-12T08:36:17.854402Z",
     "shell.execute_reply": "2020-10-12T08:36:17.851123Z"
    },
    "papermill": {
     "duration": 52.565217,
     "end_time": "2020-10-12T08:36:17.854556",
     "exception": false,
     "start_time": "2020-10-12T08:35:25.289339",
     "status": "completed"
    },
    "tags": []
   },
   "outputs": [
    {
     "name": "stdout",
     "output_type": "stream",
     "text": [
      "CPU times: user 46.5 s, sys: 5.05 s, total: 51.6 s\n",
      "Wall time: 52.4 s\n"
     ]
    }
   ],
   "source": [
    "%%time\n",
    "\n",
    "def extend_train():\n",
    "    # Obtain set of date blocks\n",
    "    dblocklist = train[\"date_block_num\"].unique()\n",
    "\n",
    "    # date and price lookup to be used below\n",
    "    dblock_month = (\n",
    "        train[[\"date_block_num\", \"date\"]]\n",
    "        .drop_duplicates()\n",
    "        .set_index(\"date_block_num\")\n",
    "        .to_dict()[\"date\"]\n",
    "    )\n",
    "    item_price = train.groupby(by=[\"item_id\", \"date_block_num\"])[\"item_price\"].mean()\n",
    "\n",
    "    # Get artesian product of shop/item pairs and append them to train_extended_list\n",
    "    train_extended_list = []\n",
    "    for dblock in dblocklist:\n",
    "        shops_dblock = train.loc[train[\"date_block_num\"] == dblock, \"shop_id\"].unique()\n",
    "        items_dblock = train.loc[train[\"date_block_num\"] == dblock, \"item_id\"].unique()\n",
    "        cartesian_prod = list(product(*[items_dblock, shops_dblock, [dblock]]))\n",
    "        train_extended_list.append(np.array(cartesian_prod))\n",
    "\n",
    "    train_extended_list = np.vstack(train_extended_list)\n",
    "\n",
    "    # Lookup the existing information from train set to the extended train set.\n",
    "    # Item_cnt_month nan --> fill with zero\n",
    "    # Item price nan --> fill with avg. price for the date block (get the price from other shops' sales records)\n",
    "    # Sale date --> Lookup based on date block num\n",
    "    train_extended = pd.DataFrame(\n",
    "        train_extended_list, columns=[\"item_id\", \"shop_id\", \"date_block_num\"]\n",
    "    )\n",
    "    train_extended = train_extended.merge(\n",
    "        train, on=[\"item_id\", \"shop_id\", \"date_block_num\"], how=\"left\"\n",
    "    )\n",
    "    train_extended[\"item_cnt_month\"].fillna(0, inplace=True)\n",
    "\n",
    "    train_extended[\"date\"] = train_extended[\"date_block_num\"].map(dblock_month)\n",
    "    train_extended[\"item_price\"] = train_extended.set_index(\n",
    "        [\"item_id\", \"date_block_num\"]\n",
    "    ).index.map(item_price)\n",
    "\n",
    "    train_extended[\"train\"] = 1\n",
    "    test[\"train\"] = 0\n",
    "\n",
    "    return train_extended.append(test).reset_index(drop=True)\n",
    "\n",
    "\n",
    "df = extend_train()\n",
    "\n",
    "del train, test"
   ]
  },
  {
   "cell_type": "markdown",
   "metadata": {
    "papermill": {
     "duration": 0.10978,
     "end_time": "2020-10-12T08:36:18.081224",
     "exception": false,
     "start_time": "2020-10-12T08:36:17.971444",
     "status": "completed"
    },
    "tags": []
   },
   "source": [
    "Mapping relevant item and shop information from various files such as category id, category name, shop name to our dataframe.\n",
    "\n",
    "In addition, I am extracting month and year from date column. Month number --> name conversion is to help with upcoming data-viz interpretation."
   ]
  },
  {
   "cell_type": "code",
   "execution_count": 26,
   "metadata": {
    "execution": {
     "iopub.execute_input": "2020-10-12T08:36:18.337675Z",
     "iopub.status.busy": "2020-10-12T08:36:18.336840Z",
     "iopub.status.idle": "2020-10-12T08:36:41.133446Z",
     "shell.execute_reply": "2020-10-12T08:36:41.134697Z"
    },
    "papermill": {
     "duration": 22.951201,
     "end_time": "2020-10-12T08:36:41.134940",
     "exception": false,
     "start_time": "2020-10-12T08:36:18.183739",
     "status": "completed"
    },
    "tags": []
   },
   "outputs": [
    {
     "name": "stdout",
     "output_type": "stream",
     "text": [
      "CPU times: user 19.4 s, sys: 2.86 s, total: 22.3 s\n",
      "Wall time: 22.8 s\n"
     ]
    }
   ],
   "source": [
    "%%time\n",
    "\n",
    "def get_cat_shop_date_info(df):\n",
    "    itemsdf = pd.read_csv(\n",
    "        \"../input/competitive-data-science-predict-future-sales/items.csv\"\n",
    "    )\n",
    "    shopsdf = pd.read_csv(\"../input/filestranslated/shops-translated.csv\")\n",
    "    itemcatsdf = pd.read_csv(\"../input/filestranslated/categories_translated.csv\")\n",
    "\n",
    "    item_cat = dict(zip(itemsdf[\"item_id\"], itemsdf[\"item_category_id\"]))\n",
    "    item_cat_name = dict(\n",
    "        zip(itemcatsdf[\"item_category_id\"], itemcatsdf[\"item_category_name\"])\n",
    "    )\n",
    "    shop_name = dict(zip(shopsdf[\"shop_id\"], shopsdf[\"shop_name_translated\"]))\n",
    "\n",
    "    df[\"item_cat_id\"] = df[\"item_id\"].map(item_cat)\n",
    "    df[\"item_cat_name\"] = df[\"item_cat_id\"].map(item_cat_name)\n",
    "    df[\"shop_name\"] = df[\"shop_id\"].map(shop_name)\n",
    "\n",
    "    df[\"month\"] = df[\"date\"].apply(lambda x: x.split(\".\")[1])\n",
    "    df[\"year\"] = df[\"date\"].apply(lambda x: x.split(\".\")[2]).astype(str)\n",
    "\n",
    "    month_name_lookup = {\n",
    "        1: \"Jan\",\n",
    "        2: \"Feb\",\n",
    "        3: \"Mar\",\n",
    "        4: \"Apr\",\n",
    "        5: \"May\",\n",
    "        6: \"Jun\",\n",
    "        7: \"Jul\",\n",
    "        8: \"Aug\",\n",
    "        9: \"Sep\",\n",
    "        10: \"Oct\",\n",
    "        11: \"Nov\",\n",
    "        12: \"Dec\",\n",
    "    }\n",
    "\n",
    "    df[\"month\"] = df[\"month\"].astype(int).map(month_name_lookup)\n",
    "\n",
    "    df.drop(columns=\"date\", inplace=True)\n",
    "\n",
    "    return df\n",
    "\n",
    "\n",
    "df = get_cat_shop_date_info(df)\n"
   ]
  },
  {
   "cell_type": "markdown",
   "metadata": {
    "papermill": {
     "duration": 0.112288,
     "end_time": "2020-10-12T08:36:41.404238",
     "exception": false,
     "start_time": "2020-10-12T08:36:41.291950",
     "status": "completed"
    },
    "tags": []
   },
   "source": [
    "Applying downcasting function again, as we have new features"
   ]
  },
  {
   "cell_type": "code",
   "execution_count": 27,
   "metadata": {
    "_kg_hide-input": false,
    "_kg_hide-output": false,
    "execution": {
     "iopub.execute_input": "2020-10-12T08:36:41.770893Z",
     "iopub.status.busy": "2020-10-12T08:36:41.767255Z",
     "iopub.status.idle": "2020-10-12T08:36:52.296172Z",
     "shell.execute_reply": "2020-10-12T08:36:52.295480Z"
    },
    "papermill": {
     "duration": 10.780476,
     "end_time": "2020-10-12T08:36:52.296316",
     "exception": false,
     "start_time": "2020-10-12T08:36:41.515840",
     "status": "completed"
    },
    "tags": []
   },
   "outputs": [
    {
     "name": "stdout",
     "output_type": "stream",
     "text": [
      "Memory use: \n",
      "                  |before downcast|  |after downcast|  |reduction (%)|\n",
      "Index                         128               128             0.00\n",
      "item_id                  89024032          22256008            75.00\n",
      "shop_id                  89024032          11128004            87.50\n",
      "date_block_num           89024032          11128004            87.50\n",
      "item_cnt_month           44512016          44512016             0.00\n",
      "item_price               89024032          44512016            50.00\n",
      "train                    89024032          11128004            87.50\n",
      "item_cat_id              89024032          11128004            87.50\n",
      "item_cat_name            89024032          89024032             0.00\n",
      "shop_name                89024032          89024032             0.00\n",
      "month                    89024032          89024032             0.00\n",
      "year                     89024032          89024032             0.00\n",
      "\n",
      "\n"
     ]
    }
   ],
   "source": [
    "gc.collect()\n",
    "df = downcast_df(df)"
   ]
  },
  {
   "cell_type": "markdown",
   "metadata": {
    "papermill": {
     "duration": 0.073726,
     "end_time": "2020-10-12T08:36:52.445294",
     "exception": false,
     "start_time": "2020-10-12T08:36:52.371568",
     "status": "completed"
    },
    "tags": []
   },
   "source": [
    "For each shop, checking the date block range as well as unique items and categories"
   ]
  },
  {
   "cell_type": "markdown",
   "metadata": {
    "papermill": {
     "duration": 0.075299,
     "end_time": "2020-10-12T08:36:52.594751",
     "exception": false,
     "start_time": "2020-10-12T08:36:52.519452",
     "status": "completed"
    },
    "tags": []
   },
   "source": [
    "A number of shops look duplicate/relocated. I will go ahead and combine those together."
   ]
  },
  {
   "cell_type": "code",
   "execution_count": 28,
   "metadata": {
    "execution": {
     "iopub.execute_input": "2020-10-12T08:36:52.753379Z",
     "iopub.status.busy": "2020-10-12T08:36:52.752360Z",
     "iopub.status.idle": "2020-10-12T08:36:54.321659Z",
     "shell.execute_reply": "2020-10-12T08:36:54.321119Z"
    },
    "papermill": {
     "duration": 1.653217,
     "end_time": "2020-10-12T08:36:54.321776",
     "exception": false,
     "start_time": "2020-10-12T08:36:52.668559",
     "status": "completed"
    },
    "tags": []
   },
   "outputs": [],
   "source": [
    "df.loc[df[\"shop_id\"] == 11, \"shop_id\"] = 10\n",
    "df.loc[df[\"shop_id\"] == 10, \"shop_name\"] = \"Zhukovsky st. Chkalov 39m?\"\n",
    "df.loc[df[\"shop_id\"] == 0, \"shop_id\"] = 57\n",
    "df.loc[df[\"shop_id\"] == 57, \"shop_name\"] = \"Yakutsk Ordzhonikidze, 56\"\n",
    "df.loc[df[\"shop_id\"] == 1, \"shop_id\"] = 58\n",
    "df.loc[df[\"shop_id\"] == 58, \"shop_name\"] = 'Yakutsk TC \"Central\"'\n",
    "df.loc[df[\"shop_id\"] == 40, \"shop_id\"] = 39\n",
    "df.loc[df[\"shop_id\"] == 39, \"shop_name\"] = \"Rostov-on-Don Megacenter Horizon\""
   ]
  },
  {
   "cell_type": "markdown",
   "metadata": {
    "papermill": {
     "duration": 0.07262,
     "end_time": "2020-10-12T08:36:54.468548",
     "exception": false,
     "start_time": "2020-10-12T08:36:54.395928",
     "status": "completed"
    },
    "tags": []
   },
   "source": [
    "Plotting item prices against categories to see the potential outliers within each category. "
   ]
  },
  {
   "cell_type": "code",
   "execution_count": 29,
   "metadata": {
    "_kg_hide-input": true,
    "execution": {
     "iopub.execute_input": "2020-10-12T08:36:54.626794Z",
     "iopub.status.busy": "2020-10-12T08:36:54.625830Z",
     "iopub.status.idle": "2020-10-12T08:36:58.623942Z",
     "shell.execute_reply": "2020-10-12T08:36:58.623422Z"
    },
    "papermill": {
     "duration": 4.081889,
     "end_time": "2020-10-12T08:36:58.624047",
     "exception": false,
     "start_time": "2020-10-12T08:36:54.542158",
     "status": "completed"
    },
    "tags": []
   },
   "outputs": [
    {
     "data": {
      "image/png": "[encoded data removed]",
      "text/plain": [
       "<Figure size 720x1440 with 1 Axes>"
      ]
     },
     "metadata": {},
     "output_type": "display_data"
    }
   ],
   "source": [
    "def plot_price_per_cat_shop(df, priceby, name):\n",
    "    train_prices = df.loc[\n",
    "        df[\"item_cnt_month\"] > 0, [\"item_price\", \"shop_name\", \"item_cat_name\"]\n",
    "    ]\n",
    "\n",
    "    plt.style.use(\"ggplot\")\n",
    "    params = {\n",
    "        \"axes.labelsize\": 24,\n",
    "        \"xtick.labelsize\": 12,\n",
    "        \"ytick.labelsize\": 12,\n",
    "    }\n",
    "    plt.rcParams.update(params)\n",
    "    fig, ax = plt.subplots(nrows=1, ncols=1, figsize=(10, 20))\n",
    "\n",
    "    ordered = (\n",
    "        df.groupby(by=priceby)[\"item_price\"].median().sort_values(ascending=False).index\n",
    "    )\n",
    "\n",
    "    plot = sns.boxplot(\n",
    "        y=train_prices[priceby],\n",
    "        x=train_prices[\"item_price\"],\n",
    "        order=ordered,\n",
    "        fliersize=2,\n",
    "    )\n",
    "\n",
    "    plot.set_xlabel(\"Item Price\")\n",
    "    plot.set_ylabel(name)\n",
    "\n",
    "    return fig\n",
    "\n",
    "\n",
    "plot_price_per_cat_shop(df, priceby=\"item_cat_name\", name=\"Item Category\").show()\n"
   ]
  },
  {
   "cell_type": "markdown",
   "metadata": {
    "papermill": {
     "duration": 0.077784,
     "end_time": "2020-10-12T08:36:58.780914",
     "exception": false,
     "start_time": "2020-10-12T08:36:58.703130",
     "status": "completed"
    },
    "tags": []
   },
   "source": [
    "# Imputing Item Prices"
   ]
  },
  {
   "cell_type": "markdown",
   "metadata": {
    "papermill": {
     "duration": 0.077723,
     "end_time": "2020-10-12T08:36:58.936733",
     "exception": false,
     "start_time": "2020-10-12T08:36:58.859010",
     "status": "completed"
    },
    "tags": []
   },
   "source": [
    "The test set is missing all the price information. I'll be imputing those using the data from train set.<br> Applying imputation iteratively to make the most of the available information."
   ]
  },
  {
   "cell_type": "code",
   "execution_count": 30,
   "metadata": {
    "execution": {
     "iopub.execute_input": "2020-10-12T08:36:59.139023Z",
     "iopub.status.busy": "2020-10-12T08:36:59.133552Z",
     "iopub.status.idle": "2020-10-12T08:37:01.628183Z",
     "shell.execute_reply": "2020-10-12T08:37:01.628912Z"
    },
    "papermill": {
     "duration": 2.613257,
     "end_time": "2020-10-12T08:37:01.629087",
     "exception": false,
     "start_time": "2020-10-12T08:36:59.015830",
     "status": "completed"
    },
    "tags": []
   },
   "outputs": [
    {
     "name": "stdout",
     "output_type": "stream",
     "text": [
      "Remaining nan counts after imputation using price per item and shop: 102689\n",
      "Remaining nan counts after imputation using price per item: 15246\n",
      "Remaining nan counts after imputation using price per category and shop: 2228\n",
      "No more missing values!\n",
      "No more missing values!\n"
     ]
    }
   ],
   "source": [
    "def get_nan_count(df, imputee):\n",
    "    nancount = df[\"item_price\"].isna().sum()\n",
    "    if nancount > 0:\n",
    "        print(\n",
    "            f\"Remaining nan counts after imputation using price per {imputee}: {nancount}\"\n",
    "        )\n",
    "    elif nancount == 0:\n",
    "        print(\"No more missing values!\")\n",
    "\n",
    "\n",
    "def impute_test_prices(df):\n",
    "    # Sorting the train dataframe to show most recent records at the top\n",
    "    sorted_train = df[(df[\"train\"] == 1) & (df[\"item_cnt_month\"] > 0)].sort_values(\n",
    "        by=[\"date_block_num\"], ascending=False\n",
    "    )\n",
    "\n",
    "    # Obtaining the most recent avg. price per item/shop\n",
    "    itemNshop_price = sorted_train.groupby(by=[\"item_id\", \"shop_id\"], sort=False)[\n",
    "        \"item_price\"\n",
    "    ].first()\n",
    "\n",
    "    # Obtaining the most recent avg. price per item regardless of shop\n",
    "    item_price = sorted_train.groupby(\n",
    "        by=[\"item_id\", \"date_block_num\"], as_index=False, sort=False\n",
    "    )[\"item_price\"].mean()\n",
    "    item_price = item_price.groupby(by=[\"item_id\"], sort=False)[\"item_price\"].first()\n",
    "\n",
    "    # Obtaining the most recent avg. price per category/shop\n",
    "    catNshop_price = sorted_train.groupby(\n",
    "        by=[\"item_cat_id\", \"shop_id\", \"date_block_num\"], as_index=False, sort=False\n",
    "    )[\"item_price\"].mean()\n",
    "    catNshop_price = catNshop_price.groupby(by=[\"item_cat_id\", \"shop_id\"], sort=False)[\n",
    "        \"item_price\"\n",
    "    ].first()\n",
    "\n",
    "    # Obtaining the most recent avg. price per category, regardless of shop\n",
    "    cat_price = sorted_train.groupby(\n",
    "        by=[\"item_cat_id\", \"date_block_num\"], as_index=False, sort=False\n",
    "    )[\"item_price\"].mean()\n",
    "    cat_price = cat_price.groupby(by=[\"item_cat_id\"], sort=False)[\"item_price\"].first()\n",
    "\n",
    "    # Imputing the missing item prices incrementally\n",
    "    df.loc[df[\"item_price\"].isna(), \"item_price\"] = (\n",
    "        df.loc[df[\"item_price\"].isna()]\n",
    "        .set_index([\"item_id\", \"shop_id\"])\n",
    "        .index.map(itemNshop_price)\n",
    "        .values\n",
    "    )\n",
    "    get_nan_count(df, imputee=\"item and shop\")\n",
    "\n",
    "    df.loc[df[\"item_price\"].isna(), \"item_price\"] = (\n",
    "        df.loc[df[\"item_price\"].isna()]\n",
    "        .set_index([\"item_id\"])\n",
    "        .index.map(item_price)\n",
    "        .values\n",
    "    )\n",
    "    get_nan_count(df, imputee=\"item\")\n",
    "\n",
    "    df.loc[df[\"item_price\"].isna(), \"item_price\"] = (\n",
    "        df.loc[df[\"item_price\"].isna()]\n",
    "        .set_index([\"item_cat_id\", \"shop_id\"])\n",
    "        .index.map(catNshop_price)\n",
    "        .values\n",
    "    )\n",
    "    get_nan_count(df, imputee=\"category and shop\")\n",
    "\n",
    "    df.loc[df[\"item_price\"].isna(), \"item_price\"] = (\n",
    "        df.loc[df[\"item_price\"].isna()]\n",
    "        .set_index([\"item_cat_id\"])\n",
    "        .index.map(cat_price)\n",
    "        .values\n",
    "    )\n",
    "    get_nan_count(df, imputee=\"category\")\n",
    "\n",
    "    df.loc[df[\"item_price\"].isna(), \"item_price\"] = df[\"item_price\"].mean()\n",
    "    get_nan_count(df, imputee=\"item (overall)\")\n",
    "\n",
    "    return df\n",
    "\n",
    "\n",
    "df = impute_test_prices(df)\n"
   ]
  },
  {
   "cell_type": "markdown",
   "metadata": {
    "papermill": {
     "duration": 0.082456,
     "end_time": "2020-10-12T08:37:01.795025",
     "exception": false,
     "start_time": "2020-10-12T08:37:01.712569",
     "status": "completed"
    },
    "tags": []
   },
   "source": [
    "# Grouping Categoricals\n",
    "\n",
    "Creating groups of item categories and extracting city information from shops.<br>"
   ]
  },
  {
   "cell_type": "code",
   "execution_count": 31,
   "metadata": {
    "_kg_hide-input": false,
    "execution": {
     "iopub.execute_input": "2020-10-12T08:37:02.054288Z",
     "iopub.status.busy": "2020-10-12T08:37:02.053325Z",
     "iopub.status.idle": "2020-10-12T08:37:03.427916Z",
     "shell.execute_reply": "2020-10-12T08:37:03.428754Z"
    },
    "papermill": {
     "duration": 1.511388,
     "end_time": "2020-10-12T08:37:03.428947",
     "exception": false,
     "start_time": "2020-10-12T08:37:01.917559",
     "status": "completed"
    },
    "tags": []
   },
   "outputs": [],
   "source": [
    "def map_cat_shop(df):\n",
    "    # map each item category to a higher level/more general grouping\n",
    "    category_mapping = {\n",
    "        1: \"Console Accessories\",\n",
    "        2: \"Console Accessories\",\n",
    "        3: \"Console Accessories\",\n",
    "        4: \"Console Accessories\",\n",
    "        5: \"Console Accessories\",\n",
    "        6: \"Console Accessories\",\n",
    "        7: \"Console Accessories\",\n",
    "        25: \"Game Accessories\",\n",
    "        8: \"Tickets\",\n",
    "        42: \"Books\",\n",
    "        43: \"Books\",\n",
    "        44: \"Books\",\n",
    "        45: \"Books\",\n",
    "        47: \"Books\",\n",
    "        49: \"Books\",\n",
    "        54: \"Books\",\n",
    "        46: \"Books\",\n",
    "        48: \"Books\",\n",
    "        50: \"Books\",\n",
    "        51: \"Books\",\n",
    "        52: \"Books\",\n",
    "        53: \"Books\",\n",
    "        11: \"Game Consoles\",\n",
    "        12: \"Game Consoles\",\n",
    "        15: \"Game Consoles\",\n",
    "        16: \"Game Consoles\",\n",
    "        24: \"Games\",\n",
    "        10: \"Game Consoles\",\n",
    "        13: \"Game Consoles\",\n",
    "        14: \"Game Consoles\",\n",
    "        17: \"Game Consoles\",\n",
    "        18: \"Games\",\n",
    "        32: \"Payment Cards\",\n",
    "        19: \"Games\",\n",
    "        20: \"Games\",\n",
    "        21: \"Games\",\n",
    "        22: \"Games\",\n",
    "        23: \"Games\",\n",
    "        28: \"Games\",\n",
    "        29: \"Games\",\n",
    "        30: \"Games\",\n",
    "        31: \"Games\",\n",
    "        27: \"Mobile Games\",\n",
    "        61: \"Gifts\",\n",
    "        71: \"Gifts\",\n",
    "        64: \"Gifts\",\n",
    "        65: \"Gifts\",\n",
    "        67: \"Gifts\",\n",
    "        62: \"Gifts\",\n",
    "        72: \"Gifts\",\n",
    "        69: \"Gifts\",\n",
    "        70: \"Gifts\",\n",
    "        63: \"Gifts\",\n",
    "        66: \"Gifts\",\n",
    "        68: \"Gifts\",\n",
    "        37: \"Movies\",\n",
    "        40: \"Movies\",\n",
    "        38: \"Movies\",\n",
    "        41: \"Movies\",\n",
    "        39: \"Movies\",\n",
    "        60: \"Music\",\n",
    "        57: \"Music\",\n",
    "        58: \"Music\",\n",
    "        56: \"Music\",\n",
    "        55: \"Music\",\n",
    "        59: \"Music\",\n",
    "        33: \"Payment Cards\",\n",
    "        34: \"Payment Cards\",\n",
    "        35: \"Payment Cards\",\n",
    "        36: \"Payment Cards\",\n",
    "        73: \"Programs\",\n",
    "        74: \"Programs\",\n",
    "        75: \"Programs\",\n",
    "        76: \"Programs\",\n",
    "        77: \"Programs\",\n",
    "        78: \"Programs\",\n",
    "        26: \"Mobile Games\",\n",
    "        83: \"Misc\",\n",
    "        9: \"Misc\",\n",
    "        0: \"Misc\",\n",
    "        79: \"Office\",\n",
    "        80: \"Misc\",\n",
    "        81: \"Blank Media\",\n",
    "        82: \"Blank Media\",\n",
    "    }\n",
    "    \n",
    "    # map each shop to the city it is located at\n",
    "    shop_mapping = {\n",
    "        0: \"Yakutsk\",\n",
    "        1: \"Yakutsk\",\n",
    "        2: \"Maykop\",\n",
    "        3: \"Balashikha\",\n",
    "        56: \"Chekhov\",\n",
    "        55: \"Online\",\n",
    "        12: \"Online\",\n",
    "        15: \"Kaluga\",\n",
    "        13: \"Kazan\",\n",
    "        14: \"Kazan\",\n",
    "        54: \"Khimki\",\n",
    "        16: \"Kolomna\",\n",
    "        18: \"Krasnoyarsk\",\n",
    "        17: \"Krasnoyarsk\",\n",
    "        19: \"Kursk\",\n",
    "        20: \"Moscow\",\n",
    "        21: \"Moscow\",\n",
    "        30: \"Moscow\",\n",
    "        22: \"Moscow\",\n",
    "        26: \"Moscow\",\n",
    "        24: \"Moscow\",\n",
    "        27: \"Moscow\",\n",
    "        28: \"Moscow\",\n",
    "        31: \"Moscow\",\n",
    "        23: \"Moscow\",\n",
    "        25: \"Moscow\",\n",
    "        29: \"Moscow\",\n",
    "        32: \"Moscow\",\n",
    "        33: \"Mytishchi\",\n",
    "        34: \"Nizhny Novgorod\",\n",
    "        35: \"Nizhny Novgorod\",\n",
    "        36: \"Novosibirsk\",\n",
    "        37: \"Novosibirsk\",\n",
    "        9: \"Other\",\n",
    "        38: \"Omsk\",\n",
    "        40: \"Rostov-on-Don\",\n",
    "        39: \"Rostov-on-Don\",\n",
    "        41: \"Rostov-on-Don\",\n",
    "        42: \"Saint Petersburg\",\n",
    "        43: \"Saint Petersburg\",\n",
    "        44: \"Samara\",\n",
    "        45: \"Samara\",\n",
    "        46: \"Sergiyev Posad\",\n",
    "        47: \"Surgut\",\n",
    "        48: \"Tomsk\",\n",
    "        49: \"Tyumen\",\n",
    "        50: \"Tyumen\",\n",
    "        51: \"Tyumen\",\n",
    "        52: \"Ufa\",\n",
    "        53: \"Ufa\",\n",
    "        5: \"Vologda\",\n",
    "        4: \"Volzhsky\",\n",
    "        6: \"Voronezh\",\n",
    "        7: \"Voronezh\",\n",
    "        8: \"Voronezh\",\n",
    "        57: \"Yakutsk\",\n",
    "        58: \"Yakutsk\",\n",
    "        59: \"Yaroslavl\",\n",
    "        10: \"Zhukovsky\",\n",
    "        11: \"Zhukovsky\",\n",
    "    }\n",
    "\n",
    "    df[\"item_cat_group\"] = df[\"item_cat_id\"].map(category_mapping)\n",
    "    df[\"city\"] = df[\"shop_id\"].astype(int).map(shop_mapping)\n",
    "\n",
    "    return df\n",
    "\n",
    "\n",
    "df = map_cat_shop(df)"
   ]
  },
  {
   "cell_type": "markdown",
   "metadata": {
    "papermill": {
     "duration": 0.085701,
     "end_time": "2020-10-12T08:37:03.600411",
     "exception": false,
     "start_time": "2020-10-12T08:37:03.514710",
     "status": "completed"
    },
    "tags": []
   },
   "source": [
    "# Visualizing Sales Quantities"
   ]
  },
  {
   "cell_type": "markdown",
   "metadata": {
    "papermill": {
     "duration": 0.084971,
     "end_time": "2020-10-12T08:37:03.769902",
     "exception": false,
     "start_time": "2020-10-12T08:37:03.684931",
     "status": "completed"
    },
    "tags": []
   },
   "source": [
    "I'll plot the sales numbers against date blocks, then against year and month.<br> \n",
    "\n",
    "Since we only have 10 months worth of data for the for 2015, I plot average sales alongside the total sales quantity. Average sales numbers will draw a more accurate picture compared to totals, in terms of month to month comparison. "
   ]
  },
  {
   "cell_type": "code",
   "execution_count": 32,
   "metadata": {
    "_kg_hide-input": true,
    "execution": {
     "iopub.execute_input": "2020-10-12T08:37:03.958697Z",
     "iopub.status.busy": "2020-10-12T08:37:03.957767Z",
     "iopub.status.idle": "2020-10-12T08:37:09.375193Z",
     "shell.execute_reply": "2020-10-12T08:37:09.375642Z"
    },
    "papermill": {
     "duration": 5.5182,
     "end_time": "2020-10-12T08:37:09.375782",
     "exception": false,
     "start_time": "2020-10-12T08:37:03.857582",
     "status": "completed"
    },
    "tags": []
   },
   "outputs": [
    {
     "data": {
      "text/html": [
       "<div>                            <div id=\"9505287d-8c16-4b47-99c0-18951a187673\" class=\"plotly-graph-div\" style=\"height:500px; width:800px;\"></div>            <script type=\"text/javascript\">                require([\"plotly\"], function(Plotly) {                    window.PLOTLYENV=window.PLOTLYENV || {};                                    if (document.getElementById(\"9505287d-8c16-4b47-99c0-18951a187673\")) {                    Plotly.newPlot(                        \"9505287d-8c16-4b47-99c0-18951a187673\",                        [{\"marker\": {\"color\": \"orangered\"}, \"mode\": \"lines+markers\", \"name\": \"Total Sales Qty\", \"type\": \"scatter\", \"x\": [0, 1, 2, 3, 4, 5, 6, 7, 8, 9, 10, 11, 12, 13, 14, 15, 16, 17, 18, 19, 20, 21, 22, 23, 24, 25, 26, 27, 28, 29, 30, 31, 32, 33], \"y\": [127068.0, 122152.0, 136046.0, 103361.0, 99678.0, 110612.0, 107217.0, 114702.0, 109390.0, 107486.0, 110591.0, 160599.0, 108435.0, 101126.0, 103026.0, 84984.0, 88183.0, 89682.0, 84379.0, 94435.0, 82842.0, 92499.0, 98584.0, 146892.0, 97718.0, 79330.0, 76991.0, 62645.0, 60449.0, 59382.0, 59450.0, 61886.0, 57790.0, 61700.0]}],                        {\"height\": 500, \"template\": {\"data\": {\"bar\": [{\"error_x\": {\"color\": \"rgb(51,51,51)\"}, \"error_y\": {\"color\": \"rgb(51,51,51)\"}, \"marker\": {\"line\": {\"color\": \"rgb(237,237,237)\", \"width\": 0.5}}, \"type\": \"bar\"}], \"barpolar\": [{\"marker\": {\"line\": {\"color\": \"rgb(237,237,237)\", \"width\": 0.5}}, \"type\": \"barpolar\"}], \"carpet\": [{\"aaxis\": {\"endlinecolor\": \"rgb(51,51,51)\", \"gridcolor\": \"white\", \"linecolor\": \"white\", \"minorgridcolor\": \"white\", \"startlinecolor\": \"rgb(51,51,51)\"}, \"baxis\": {\"endlinecolor\": \"rgb(51,51,51)\", \"gridcolor\": \"white\", \"linecolor\": \"white\", \"minorgridcolor\": \"white\", \"startlinecolor\": \"rgb(51,51,51)\"}, \"type\": \"carpet\"}], \"choropleth\": [{\"colorbar\": {\"outlinewidth\": 0, \"tickcolor\": \"rgb(237,237,237)\", \"ticklen\": 6, \"ticks\": \"inside\"}, \"type\": \"choropleth\"}], \"contour\": [{\"colorbar\": {\"outlinewidth\": 0, \"tickcolor\": \"rgb(237,237,237)\", \"ticklen\": 6, \"ticks\": \"inside\"}, \"colorscale\": [[0, \"rgb(20,44,66)\"], [1, \"rgb(90,179,244)\"]], \"type\": \"contour\"}], \"contourcarpet\": [{\"colorbar\": {\"outlinewidth\": 0, \"tickcolor\": \"rgb(237,237,237)\", \"ticklen\": 6, \"ticks\": \"inside\"}, \"type\": \"contourcarpet\"}], \"heatmap\": [{\"colorbar\": {\"outlinewidth\": 0, \"tickcolor\": \"rgb(237,237,237)\", \"ticklen\": 6, \"ticks\": \"inside\"}, \"colorscale\": [[0, \"rgb(20,44,66)\"], [1, \"rgb(90,179,244)\"]], \"type\": \"heatmap\"}], \"heatmapgl\": [{\"colorbar\": {\"outlinewidth\": 0, \"tickcolor\": \"rgb(237,237,237)\", \"ticklen\": 6, \"ticks\": \"inside\"}, \"colorscale\": [[0, \"rgb(20,44,66)\"], [1, \"rgb(90,179,244)\"]], \"type\": \"heatmapgl\"}], \"histogram\": [{\"marker\": {\"colorbar\": {\"outlinewidth\": 0, \"tickcolor\": \"rgb(237,237,237)\", \"ticklen\": 6, \"ticks\": \"inside\"}}, \"type\": \"histogram\"}], \"histogram2d\": [{\"colorbar\": {\"outlinewidth\": 0, \"tickcolor\": \"rgb(237,237,237)\", \"ticklen\": 6, \"ticks\": \"inside\"}, \"colorscale\": [[0, \"rgb(20,44,66)\"], [1, \"rgb(90,179,244)\"]], \"type\": \"histogram2d\"}], \"histogram2dcontour\": [{\"colorbar\": {\"outlinewidth\": 0, \"tickcolor\": \"rgb(237,237,237)\", \"ticklen\": 6, \"ticks\": \"inside\"}, \"colorscale\": [[0, \"rgb(20,44,66)\"], [1, \"rgb(90,179,244)\"]], \"type\": \"histogram2dcontour\"}], \"mesh3d\": [{\"colorbar\": {\"outlinewidth\": 0, \"tickcolor\": \"rgb(237,237,237)\", \"ticklen\": 6, \"ticks\": \"inside\"}, \"type\": \"mesh3d\"}], \"parcoords\": [{\"line\": {\"colorbar\": {\"outlinewidth\": 0, \"tickcolor\": \"rgb(237,237,237)\", \"ticklen\": 6, \"ticks\": \"inside\"}}, \"type\": \"parcoords\"}], \"pie\": [{\"automargin\": true, \"type\": \"pie\"}], \"scatter\": [{\"marker\": {\"colorbar\": {\"outlinewidth\": 0, \"tickcolor\": \"rgb(237,237,237)\", \"ticklen\": 6, \"ticks\": \"inside\"}}, \"type\": \"scatter\"}], \"scatter3d\": [{\"line\": {\"colorbar\": {\"outlinewidth\": 0, \"tickcolor\": \"rgb(237,237,237)\", \"ticklen\": 6, \"ticks\": \"inside\"}}, \"marker\": {\"colorbar\": {\"outlinewidth\": 0, \"tickcolor\": \"rgb(237,237,237)\", \"ticklen\": 6, \"ticks\": \"inside\"}}, \"type\": \"scatter3d\"}], \"scattercarpet\": [{\"marker\": {\"colorbar\": {\"outlinewidth\": 0, \"tickcolor\": \"rgb(237,237,237)\", \"ticklen\": 6, \"ticks\": \"inside\"}}, \"type\": \"scattercarpet\"}], \"scattergeo\": [{\"marker\": {\"colorbar\": {\"outlinewidth\": 0, \"tickcolor\": \"rgb(237,237,237)\", \"ticklen\": 6, \"ticks\": \"inside\"}}, \"type\": \"scattergeo\"}], \"scattergl\": [{\"marker\": {\"colorbar\": {\"outlinewidth\": 0, \"tickcolor\": \"rgb(237,237,237)\", \"ticklen\": 6, \"ticks\": \"inside\"}}, \"type\": \"scattergl\"}], \"scattermapbox\": [{\"marker\": {\"colorbar\": {\"outlinewidth\": 0, \"tickcolor\": \"rgb(237,237,237)\", \"ticklen\": 6, \"ticks\": \"inside\"}}, \"type\": \"scattermapbox\"}], \"scatterpolar\": [{\"marker\": {\"colorbar\": {\"outlinewidth\": 0, \"tickcolor\": \"rgb(237,237,237)\", \"ticklen\": 6, \"ticks\": \"inside\"}}, \"type\": \"scatterpolar\"}], \"scatterpolargl\": [{\"marker\": {\"colorbar\": {\"outlinewidth\": 0, \"tickcolor\": \"rgb(237,237,237)\", \"ticklen\": 6, \"ticks\": \"inside\"}}, \"type\": \"scatterpolargl\"}], \"scatterternary\": [{\"marker\": {\"colorbar\": {\"outlinewidth\": 0, \"tickcolor\": \"rgb(237,237,237)\", \"ticklen\": 6, \"ticks\": \"inside\"}}, \"type\": \"scatterternary\"}], \"surface\": [{\"colorbar\": {\"outlinewidth\": 0, \"tickcolor\": \"rgb(237,237,237)\", \"ticklen\": 6, \"ticks\": \"inside\"}, \"colorscale\": [[0, \"rgb(20,44,66)\"], [1, \"rgb(90,179,244)\"]], \"type\": \"surface\"}], \"table\": [{\"cells\": {\"fill\": {\"color\": \"rgb(237,237,237)\"}, \"line\": {\"color\": \"white\"}}, \"header\": {\"fill\": {\"color\": \"rgb(217,217,217)\"}, \"line\": {\"color\": \"white\"}}, \"type\": \"table\"}]}, \"layout\": {\"annotationdefaults\": {\"arrowhead\": 0, \"arrowwidth\": 1}, \"coloraxis\": {\"colorbar\": {\"outlinewidth\": 0, \"tickcolor\": \"rgb(237,237,237)\", \"ticklen\": 6, \"ticks\": \"inside\"}}, \"colorscale\": {\"sequential\": [[0, \"rgb(20,44,66)\"], [1, \"rgb(90,179,244)\"]], \"sequentialminus\": [[0, \"rgb(20,44,66)\"], [1, \"rgb(90,179,244)\"]]}, \"colorway\": [\"#F8766D\", \"#A3A500\", \"#00BF7D\", \"#00B0F6\", \"#E76BF3\"], \"font\": {\"color\": \"rgb(51,51,51)\"}, \"geo\": {\"bgcolor\": \"white\", \"lakecolor\": \"white\", \"landcolor\": \"rgb(237,237,237)\", \"showlakes\": true, \"showland\": true, \"subunitcolor\": \"white\"}, \"hoverlabel\": {\"align\": \"left\"}, \"hovermode\": \"closest\", \"paper_bgcolor\": \"white\", \"plot_bgcolor\": \"rgb(237,237,237)\", \"polar\": {\"angularaxis\": {\"gridcolor\": \"white\", \"linecolor\": \"white\", \"showgrid\": true, \"tickcolor\": \"rgb(51,51,51)\", \"ticks\": \"outside\"}, \"bgcolor\": \"rgb(237,237,237)\", \"radialaxis\": {\"gridcolor\": \"white\", \"linecolor\": \"white\", \"showgrid\": true, \"tickcolor\": \"rgb(51,51,51)\", \"ticks\": \"outside\"}}, \"scene\": {\"xaxis\": {\"backgroundcolor\": \"rgb(237,237,237)\", \"gridcolor\": \"white\", \"gridwidth\": 2, \"linecolor\": \"white\", \"showbackground\": true, \"showgrid\": true, \"tickcolor\": \"rgb(51,51,51)\", \"ticks\": \"outside\", \"zerolinecolor\": \"white\"}, \"yaxis\": {\"backgroundcolor\": \"rgb(237,237,237)\", \"gridcolor\": \"white\", \"gridwidth\": 2, \"linecolor\": \"white\", \"showbackground\": true, \"showgrid\": true, \"tickcolor\": \"rgb(51,51,51)\", \"ticks\": \"outside\", \"zerolinecolor\": \"white\"}, \"zaxis\": {\"backgroundcolor\": \"rgb(237,237,237)\", \"gridcolor\": \"white\", \"gridwidth\": 2, \"linecolor\": \"white\", \"showbackground\": true, \"showgrid\": true, \"tickcolor\": \"rgb(51,51,51)\", \"ticks\": \"outside\", \"zerolinecolor\": \"white\"}}, \"shapedefaults\": {\"fillcolor\": \"black\", \"line\": {\"width\": 0}, \"opacity\": 0.3}, \"ternary\": {\"aaxis\": {\"gridcolor\": \"white\", \"linecolor\": \"white\", \"showgrid\": true, \"tickcolor\": \"rgb(51,51,51)\", \"ticks\": \"outside\"}, \"baxis\": {\"gridcolor\": \"white\", \"linecolor\": \"white\", \"showgrid\": true, \"tickcolor\": \"rgb(51,51,51)\", \"ticks\": \"outside\"}, \"bgcolor\": \"rgb(237,237,237)\", \"caxis\": {\"gridcolor\": \"white\", \"linecolor\": \"white\", \"showgrid\": true, \"tickcolor\": \"rgb(51,51,51)\", \"ticks\": \"outside\"}}, \"xaxis\": {\"automargin\": true, \"gridcolor\": \"white\", \"linecolor\": \"white\", \"showgrid\": true, \"tickcolor\": \"rgb(51,51,51)\", \"ticks\": \"outside\", \"title\": {\"standoff\": 15}, \"zerolinecolor\": \"white\"}, \"yaxis\": {\"automargin\": true, \"gridcolor\": \"white\", \"linecolor\": \"white\", \"showgrid\": true, \"tickcolor\": \"rgb(51,51,51)\", \"ticks\": \"outside\", \"title\": {\"standoff\": 15}, \"zerolinecolor\": \"white\"}}}, \"title\": {\"font\": {\"color\": \"darkslateblue\", \"size\": 20}, \"text\": \"Sales by Date Block\"}, \"width\": 800, \"xaxis\": {\"tickfont\": {\"size\": 16}, \"title\": {\"font\": {\"size\": 20}, \"text\": \"Date Block\"}}, \"yaxis\": {\"nticks\": 8, \"tickfont\": {\"size\": 16}, \"title\": {\"font\": {\"size\": 20}, \"text\": \"Total Units Sold\"}}},                        {\"responsive\": true}                    ).then(function(){\n",
       "                            \n",
       "var gd = document.getElementById('9505287d-8c16-4b47-99c0-18951a187673');\n",
       "var x = new MutationObserver(function (mutations, observer) {{\n",
       "        var display = window.getComputedStyle(gd).display;\n",
       "        if (!display || display === 'none') {{\n",
       "            console.log([gd, 'removed!']);\n",
       "            Plotly.purge(gd);\n",
       "            observer.disconnect();\n",
       "        }}\n",
       "}});\n",
       "\n",
       "// Listen for the removal of the full notebook cells\n",
       "var notebookContainer = gd.closest('#notebook-container');\n",
       "if (notebookContainer) {{\n",
       "    x.observe(notebookContainer, {childList: true});\n",
       "}}\n",
       "\n",
       "// Listen for the clearing of the current output cell\n",
       "var outputEl = gd.closest('.output');\n",
       "if (outputEl) {{\n",
       "    x.observe(outputEl, {childList: true});\n",
       "}}\n",
       "\n",
       "                        })                };                });            </script>        </div>"
      ]
     },
     "metadata": {},
     "output_type": "display_data"
    }
   ],
   "source": [
    "def plot_sales_per_dblock():\n",
    "    fig = plotly.graph_objects.Figure()\n",
    "    # group the dataframe before plotting. This way works much faster than letting plotly do the grouping\n",
    "    vizdata = df[df[\"train\"] == 1].groupby(by=[\"date_block_num\"], as_index=False).sum()\n",
    "\n",
    "    fig.add_trace(\n",
    "        go.Scatter(\n",
    "            x=vizdata[\"date_block_num\"],\n",
    "            y=vizdata[\"item_cnt_month\"],\n",
    "            marker_color=\"orangered\",\n",
    "            mode=\"lines+markers\",\n",
    "            name=\"Total Sales Qty\",\n",
    "        )\n",
    "    )\n",
    "\n",
    "    fig.update_xaxes(\n",
    "        title_text=\"Date Block\", titlefont=dict(size=20), tickfont=dict(size=16)\n",
    "    )\n",
    "    fig.update_yaxes(\n",
    "        title_text=\"Total Units Sold\",\n",
    "        titlefont=dict(size=20),\n",
    "        nticks=8,\n",
    "        tickfont=dict(size=16),\n",
    "    )\n",
    "\n",
    "    fig.update_layout(\n",
    "        height=500,\n",
    "        width=800,\n",
    "        template=\"ggplot2\",\n",
    "        title=go.layout.Title(\n",
    "            text=\"Sales by Date Block\", font=dict(size=20, color=\"darkslateblue\")\n",
    "        ),\n",
    "    )\n",
    "\n",
    "    return fig\n",
    "\n",
    "\n",
    "plot_sales_per_dblock().show()\n"
   ]
  },
  {
   "cell_type": "markdown",
   "metadata": {
    "papermill": {
     "duration": 0.082912,
     "end_time": "2020-10-12T08:37:09.542543",
     "exception": false,
     "start_time": "2020-10-12T08:37:09.459631",
     "status": "completed"
    },
    "tags": []
   },
   "source": [
    "Things to note:\n",
    "\n",
    "* There is an overall downward trend\n",
    "* There is seasonality\n",
    "* Sales numbers increase significantly on December - this corresponds to date blocks 11 and 23.\n",
    "\n",
    "Moving on with monthly/yearly graphs to understand the seasonality better."
   ]
  },
  {
   "cell_type": "code",
   "execution_count": 33,
   "metadata": {
    "_kg_hide-input": true,
    "execution": {
     "iopub.execute_input": "2020-10-12T08:37:09.733746Z",
     "iopub.status.busy": "2020-10-12T08:37:09.728330Z",
     "iopub.status.idle": "2020-10-12T08:37:26.374699Z",
     "shell.execute_reply": "2020-10-12T08:37:26.374209Z"
    },
    "papermill": {
     "duration": 16.74792,
     "end_time": "2020-10-12T08:37:26.374819",
     "exception": false,
     "start_time": "2020-10-12T08:37:09.626899",
     "status": "completed"
    },
    "tags": []
   },
   "outputs": [
    {
     "data": {
      "text/html": [
       "<div>                            <div id=\"0ff856f8-fde8-4b37-bc09-b5869782e069\" class=\"plotly-graph-div\" style=\"height:1600px; width:800px;\"></div>            <script type=\"text/javascript\">                require([\"plotly\"], function(Plotly) {                    window.PLOTLYENV=window.PLOTLYENV || {};                                    if (document.getElementById(\"0ff856f8-fde8-4b37-bc09-b5869782e069\")) {                    Plotly.newPlot(                        \"0ff856f8-fde8-4b37-bc09-b5869782e069\",                        [{\"marker\": {\"color\": \"olive\"}, \"mode\": \"lines+markers\", \"name\": \"total sales_by_month\", \"type\": \"scatter\", \"x\": [\"Jan\", \"Feb\", \"Mar\", \"Apr\", \"May\", \"Jun\", \"Jul\", \"Aug\", \"Sep\", \"Oct\", \"Nov\", \"Dec\"], \"xaxis\": \"x\", \"y\": [333221.0, 302608.0, 316063.0, 250990.0, 248310.0, 259676.0, 251046.0, 271023.0, 250022.0, 261685.0, 209175.0, 307491.0], \"yaxis\": \"y\"}, {\"marker\": {\"color\": \"olive\"}, \"mode\": \"lines+markers\", \"name\": \"avg sales_by_month\", \"type\": \"scatter\", \"x\": [\"Jan\", \"Feb\", \"Mar\", \"Apr\", \"May\", \"Jun\", \"Jul\", \"Aug\", \"Sep\", \"Oct\", \"Nov\", \"Dec\"], \"xaxis\": \"x2\", \"y\": [0.3268567621707916, 0.3061647117137909, 0.3146533668041229, 0.26037171483039856, 0.2654949724674225, 0.2757684588432312, 0.26535695791244507, 0.30098816752433777, 0.2852097451686859, 0.279180109500885, 0.30756279826164246, 0.4270660877227783], \"yaxis\": \"y2\"}, {\"marker\": {\"color\": \"royalblue\"}, \"mode\": \"lines+markers\", \"name\": \"total sales_by_year\", \"type\": \"scatter\", \"x\": [\"2013\", \"2014\", \"2015\"], \"xaxis\": \"x3\", \"y\": [1408902.0, 1175067.0, 677341.0], \"yaxis\": \"y3\"}, {\"marker\": {\"color\": \"royalblue\"}, \"mode\": \"lines+markers\", \"name\": \"avg sales_by_year\", \"type\": \"scatter\", \"x\": [\"2013\", \"2014\", \"2015\"], \"xaxis\": \"x4\", \"y\": [0.31387680768966675, 0.2982769310474396, 0.27250856161117554], \"yaxis\": \"y4\"}],                        {\"height\": 1600, \"showlegend\": false, \"template\": {\"data\": {\"bar\": [{\"error_x\": {\"color\": \"rgb(51,51,51)\"}, \"error_y\": {\"color\": \"rgb(51,51,51)\"}, \"marker\": {\"line\": {\"color\": \"rgb(237,237,237)\", \"width\": 0.5}}, \"type\": \"bar\"}], \"barpolar\": [{\"marker\": {\"line\": {\"color\": \"rgb(237,237,237)\", \"width\": 0.5}}, \"type\": \"barpolar\"}], \"carpet\": [{\"aaxis\": {\"endlinecolor\": \"rgb(51,51,51)\", \"gridcolor\": \"white\", \"linecolor\": \"white\", \"minorgridcolor\": \"white\", \"startlinecolor\": \"rgb(51,51,51)\"}, \"baxis\": {\"endlinecolor\": \"rgb(51,51,51)\", \"gridcolor\": \"white\", \"linecolor\": \"white\", \"minorgridcolor\": \"white\", \"startlinecolor\": \"rgb(51,51,51)\"}, \"type\": \"carpet\"}], \"choropleth\": [{\"colorbar\": {\"outlinewidth\": 0, \"tickcolor\": \"rgb(237,237,237)\", \"ticklen\": 6, \"ticks\": \"inside\"}, \"type\": \"choropleth\"}], \"contour\": [{\"colorbar\": {\"outlinewidth\": 0, \"tickcolor\": \"rgb(237,237,237)\", \"ticklen\": 6, \"ticks\": \"inside\"}, \"colorscale\": [[0, \"rgb(20,44,66)\"], [1, \"rgb(90,179,244)\"]], \"type\": \"contour\"}], \"contourcarpet\": [{\"colorbar\": {\"outlinewidth\": 0, \"tickcolor\": \"rgb(237,237,237)\", \"ticklen\": 6, \"ticks\": \"inside\"}, \"type\": \"contourcarpet\"}], \"heatmap\": [{\"colorbar\": {\"outlinewidth\": 0, \"tickcolor\": \"rgb(237,237,237)\", \"ticklen\": 6, \"ticks\": \"inside\"}, \"colorscale\": [[0, \"rgb(20,44,66)\"], [1, \"rgb(90,179,244)\"]], \"type\": \"heatmap\"}], \"heatmapgl\": [{\"colorbar\": {\"outlinewidth\": 0, \"tickcolor\": \"rgb(237,237,237)\", \"ticklen\": 6, \"ticks\": \"inside\"}, \"colorscale\": [[0, \"rgb(20,44,66)\"], [1, \"rgb(90,179,244)\"]], \"type\": \"heatmapgl\"}], \"histogram\": [{\"marker\": {\"colorbar\": {\"outlinewidth\": 0, \"tickcolor\": \"rgb(237,237,237)\", \"ticklen\": 6, \"ticks\": \"inside\"}}, \"type\": \"histogram\"}], \"histogram2d\": [{\"colorbar\": {\"outlinewidth\": 0, \"tickcolor\": \"rgb(237,237,237)\", \"ticklen\": 6, \"ticks\": \"inside\"}, \"colorscale\": [[0, \"rgb(20,44,66)\"], [1, \"rgb(90,179,244)\"]], \"type\": \"histogram2d\"}], \"histogram2dcontour\": [{\"colorbar\": {\"outlinewidth\": 0, \"tickcolor\": \"rgb(237,237,237)\", \"ticklen\": 6, \"ticks\": \"inside\"}, \"colorscale\": [[0, \"rgb(20,44,66)\"], [1, \"rgb(90,179,244)\"]], \"type\": \"histogram2dcontour\"}], \"mesh3d\": [{\"colorbar\": {\"outlinewidth\": 0, \"tickcolor\": \"rgb(237,237,237)\", \"ticklen\": 6, \"ticks\": \"inside\"}, \"type\": \"mesh3d\"}], \"parcoords\": [{\"line\": {\"colorbar\": {\"outlinewidth\": 0, \"tickcolor\": \"rgb(237,237,237)\", \"ticklen\": 6, \"ticks\": \"inside\"}}, \"type\": \"parcoords\"}], \"pie\": [{\"automargin\": true, \"type\": \"pie\"}], \"scatter\": [{\"marker\": {\"colorbar\": {\"outlinewidth\": 0, \"tickcolor\": \"rgb(237,237,237)\", \"ticklen\": 6, \"ticks\": \"inside\"}}, \"type\": \"scatter\"}], \"scatter3d\": [{\"line\": {\"colorbar\": {\"outlinewidth\": 0, \"tickcolor\": \"rgb(237,237,237)\", \"ticklen\": 6, \"ticks\": \"inside\"}}, \"marker\": {\"colorbar\": {\"outlinewidth\": 0, \"tickcolor\": \"rgb(237,237,237)\", \"ticklen\": 6, \"ticks\": \"inside\"}}, \"type\": \"scatter3d\"}], \"scattercarpet\": [{\"marker\": {\"colorbar\": {\"outlinewidth\": 0, \"tickcolor\": \"rgb(237,237,237)\", \"ticklen\": 6, \"ticks\": \"inside\"}}, \"type\": \"scattercarpet\"}], \"scattergeo\": [{\"marker\": {\"colorbar\": {\"outlinewidth\": 0, \"tickcolor\": \"rgb(237,237,237)\", \"ticklen\": 6, \"ticks\": \"inside\"}}, \"type\": \"scattergeo\"}], \"scattergl\": [{\"marker\": {\"colorbar\": {\"outlinewidth\": 0, \"tickcolor\": \"rgb(237,237,237)\", \"ticklen\": 6, \"ticks\": \"inside\"}}, \"type\": \"scattergl\"}], \"scattermapbox\": [{\"marker\": {\"colorbar\": {\"outlinewidth\": 0, \"tickcolor\": \"rgb(237,237,237)\", \"ticklen\": 6, \"ticks\": \"inside\"}}, \"type\": \"scattermapbox\"}], \"scatterpolar\": [{\"marker\": {\"colorbar\": {\"outlinewidth\": 0, \"tickcolor\": \"rgb(237,237,237)\", \"ticklen\": 6, \"ticks\": \"inside\"}}, \"type\": \"scatterpolar\"}], \"scatterpolargl\": [{\"marker\": {\"colorbar\": {\"outlinewidth\": 0, \"tickcolor\": \"rgb(237,237,237)\", \"ticklen\": 6, \"ticks\": \"inside\"}}, \"type\": \"scatterpolargl\"}], \"scatterternary\": [{\"marker\": {\"colorbar\": {\"outlinewidth\": 0, \"tickcolor\": \"rgb(237,237,237)\", \"ticklen\": 6, \"ticks\": \"inside\"}}, \"type\": \"scatterternary\"}], \"surface\": [{\"colorbar\": {\"outlinewidth\": 0, \"tickcolor\": \"rgb(237,237,237)\", \"ticklen\": 6, \"ticks\": \"inside\"}, \"colorscale\": [[0, \"rgb(20,44,66)\"], [1, \"rgb(90,179,244)\"]], \"type\": \"surface\"}], \"table\": [{\"cells\": {\"fill\": {\"color\": \"rgb(237,237,237)\"}, \"line\": {\"color\": \"white\"}}, \"header\": {\"fill\": {\"color\": \"rgb(217,217,217)\"}, \"line\": {\"color\": \"white\"}}, \"type\": \"table\"}]}, \"layout\": {\"annotationdefaults\": {\"arrowhead\": 0, \"arrowwidth\": 1}, \"coloraxis\": {\"colorbar\": {\"outlinewidth\": 0, \"tickcolor\": \"rgb(237,237,237)\", \"ticklen\": 6, \"ticks\": \"inside\"}}, \"colorscale\": {\"sequential\": [[0, \"rgb(20,44,66)\"], [1, \"rgb(90,179,244)\"]], \"sequentialminus\": [[0, \"rgb(20,44,66)\"], [1, \"rgb(90,179,244)\"]]}, \"colorway\": [\"#F8766D\", \"#A3A500\", \"#00BF7D\", \"#00B0F6\", \"#E76BF3\"], \"font\": {\"color\": \"rgb(51,51,51)\"}, \"geo\": {\"bgcolor\": \"white\", \"lakecolor\": \"white\", \"landcolor\": \"rgb(237,237,237)\", \"showlakes\": true, \"showland\": true, \"subunitcolor\": \"white\"}, \"hoverlabel\": {\"align\": \"left\"}, \"hovermode\": \"closest\", \"paper_bgcolor\": \"white\", \"plot_bgcolor\": \"rgb(237,237,237)\", \"polar\": {\"angularaxis\": {\"gridcolor\": \"white\", \"linecolor\": \"white\", \"showgrid\": true, \"tickcolor\": \"rgb(51,51,51)\", \"ticks\": \"outside\"}, \"bgcolor\": \"rgb(237,237,237)\", \"radialaxis\": {\"gridcolor\": \"white\", \"linecolor\": \"white\", \"showgrid\": true, \"tickcolor\": \"rgb(51,51,51)\", \"ticks\": \"outside\"}}, \"scene\": {\"xaxis\": {\"backgroundcolor\": \"rgb(237,237,237)\", \"gridcolor\": \"white\", \"gridwidth\": 2, \"linecolor\": \"white\", \"showbackground\": true, \"showgrid\": true, \"tickcolor\": \"rgb(51,51,51)\", \"ticks\": \"outside\", \"zerolinecolor\": \"white\"}, \"yaxis\": {\"backgroundcolor\": \"rgb(237,237,237)\", \"gridcolor\": \"white\", \"gridwidth\": 2, \"linecolor\": \"white\", \"showbackground\": true, \"showgrid\": true, \"tickcolor\": \"rgb(51,51,51)\", \"ticks\": \"outside\", \"zerolinecolor\": \"white\"}, \"zaxis\": {\"backgroundcolor\": \"rgb(237,237,237)\", \"gridcolor\": \"white\", \"gridwidth\": 2, \"linecolor\": \"white\", \"showbackground\": true, \"showgrid\": true, \"tickcolor\": \"rgb(51,51,51)\", \"ticks\": \"outside\", \"zerolinecolor\": \"white\"}}, \"shapedefaults\": {\"fillcolor\": \"black\", \"line\": {\"width\": 0}, \"opacity\": 0.3}, \"ternary\": {\"aaxis\": {\"gridcolor\": \"white\", \"linecolor\": \"white\", \"showgrid\": true, \"tickcolor\": \"rgb(51,51,51)\", \"ticks\": \"outside\"}, \"baxis\": {\"gridcolor\": \"white\", \"linecolor\": \"white\", \"showgrid\": true, \"tickcolor\": \"rgb(51,51,51)\", \"ticks\": \"outside\"}, \"bgcolor\": \"rgb(237,237,237)\", \"caxis\": {\"gridcolor\": \"white\", \"linecolor\": \"white\", \"showgrid\": true, \"tickcolor\": \"rgb(51,51,51)\", \"ticks\": \"outside\"}}, \"xaxis\": {\"automargin\": true, \"gridcolor\": \"white\", \"linecolor\": \"white\", \"showgrid\": true, \"tickcolor\": \"rgb(51,51,51)\", \"ticks\": \"outside\", \"title\": {\"standoff\": 15}, \"zerolinecolor\": \"white\"}, \"yaxis\": {\"automargin\": true, \"gridcolor\": \"white\", \"linecolor\": \"white\", \"showgrid\": true, \"tickcolor\": \"rgb(51,51,51)\", \"ticks\": \"outside\", \"title\": {\"standoff\": 15}, \"zerolinecolor\": \"white\"}}}, \"title\": {\"font\": {\"color\": \"darkslateblue\", \"size\": 20}, \"text\": \"Sales by Month/Year\"}, \"width\": 800, \"xaxis\": {\"anchor\": \"y\", \"domain\": [0.0, 1.0], \"tickangle\": 45, \"tickfont\": {\"size\": 14}, \"title\": {\"font\": {\"size\": 16}, \"text\": \"Month\"}}, \"xaxis2\": {\"anchor\": \"y2\", \"domain\": [0.0, 1.0], \"tickangle\": 45, \"tickfont\": {\"size\": 14}, \"title\": {\"font\": {\"size\": 16}, \"text\": \"Month\"}}, \"xaxis3\": {\"anchor\": \"y3\", \"domain\": [0.0, 1.0], \"nticks\": 6, \"tickfont\": {\"size\": 14}, \"tickformat\": \".0f\", \"title\": {\"font\": {\"size\": 16}, \"text\": \"Year\"}}, \"xaxis4\": {\"anchor\": \"y4\", \"domain\": [0.0, 1.0], \"nticks\": 6, \"tickfont\": {\"size\": 14}, \"tickformat\": \".0f\", \"title\": {\"font\": {\"size\": 16}, \"text\": \"Year\"}}, \"yaxis\": {\"anchor\": \"x\", \"domain\": [0.825, 1.0], \"tickfont\": {\"size\": 14}, \"title\": {\"font\": {\"size\": 16}, \"text\": \"Total Units Sold\"}}, \"yaxis2\": {\"anchor\": \"x2\", \"domain\": [0.55, 0.7250000000000001], \"tickfont\": {\"size\": 14}, \"title\": {\"font\": {\"size\": 16}, \"text\": \"Avg. Units Sold\"}}, \"yaxis3\": {\"anchor\": \"x3\", \"domain\": [0.275, 0.45], \"tickfont\": {\"size\": 14}, \"title\": {\"font\": {\"size\": 16}, \"text\": \"Total Units Sold\"}}, \"yaxis4\": {\"anchor\": \"x4\", \"domain\": [0.0, 0.175], \"tickfont\": {\"size\": 14}, \"title\": {\"font\": {\"size\": 16}, \"text\": \"Avg. Units Sold\"}}},                        {\"responsive\": true}                    ).then(function(){\n",
       "                            \n",
       "var gd = document.getElementById('0ff856f8-fde8-4b37-bc09-b5869782e069');\n",
       "var x = new MutationObserver(function (mutations, observer) {{\n",
       "        var display = window.getComputedStyle(gd).display;\n",
       "        if (!display || display === 'none') {{\n",
       "            console.log([gd, 'removed!']);\n",
       "            Plotly.purge(gd);\n",
       "            observer.disconnect();\n",
       "        }}\n",
       "}});\n",
       "\n",
       "// Listen for the removal of the full notebook cells\n",
       "var notebookContainer = gd.closest('#notebook-container');\n",
       "if (notebookContainer) {{\n",
       "    x.observe(notebookContainer, {childList: true});\n",
       "}}\n",
       "\n",
       "// Listen for the clearing of the current output cell\n",
       "var outputEl = gd.closest('.output');\n",
       "if (outputEl) {{\n",
       "    x.observe(outputEl, {childList: true});\n",
       "}}\n",
       "\n",
       "                        })                };                });            </script>        </div>"
      ]
     },
     "metadata": {},
     "output_type": "display_data"
    }
   ],
   "source": [
    "# list to be used for ordering months in the graph. Without this list, plotly orders months alphabetically\n",
    "months = [\n",
    "    \"Jan\",\n",
    "    \"Feb\",\n",
    "    \"Mar\",\n",
    "    \"Apr\",\n",
    "    \"May\",\n",
    "    \"Jun\",\n",
    "    \"Jul\",\n",
    "    \"Aug\",\n",
    "    \"Sep\",\n",
    "    \"Oct\",\n",
    "    \"Nov\",\n",
    "    \"Dec\",\n",
    "]\n",
    "\n",
    "\n",
    "def plot_sales_per_mo_qu_yr(months):\n",
    "    fig = make_subplots(rows=4, cols=1, vertical_spacing=0.1)\n",
    "\n",
    "    vizdata1a = (\n",
    "        df[df[\"train\"] == 1]\n",
    "        .groupby(by=[\"month\"])\n",
    "        .sum()[\"item_cnt_month\"]\n",
    "        .reindex(months)\n",
    "    )\n",
    "    vizdata1b = (\n",
    "        df[df[\"train\"] == 1]\n",
    "        .groupby(by=[\"month\"])\n",
    "        .mean()[\"item_cnt_month\"]\n",
    "        .reindex(months)\n",
    "    )\n",
    "\n",
    "    vizdata2a = (\n",
    "        df[df[\"train\"] == 1].groupby(by=[\"year\"]).sum()[\"item_cnt_month\"].sort_index()\n",
    "    )\n",
    "    vizdata2b = (\n",
    "        df[df[\"train\"] == 1].groupby(by=[\"year\"]).mean()[\"item_cnt_month\"].sort_index()\n",
    "    )\n",
    "\n",
    "    fig.add_trace(\n",
    "        go.Scatter(\n",
    "            x=vizdata1a.index,\n",
    "            y=vizdata1a.values,\n",
    "            marker_color=\"olive\",\n",
    "            mode=\"lines+markers\",\n",
    "            name=\"total sales_by_month\",\n",
    "        ),\n",
    "        row=1,\n",
    "        col=1,\n",
    "    )\n",
    "    fig.add_trace(\n",
    "        go.Scatter(\n",
    "            x=vizdata1b.index,\n",
    "            y=vizdata1b.values,\n",
    "            marker_color=\"olive\",\n",
    "            mode=\"lines+markers\",\n",
    "            name=\"avg sales_by_month\",\n",
    "        ),\n",
    "        row=2,\n",
    "        col=1,\n",
    "    )\n",
    "\n",
    "    fig.add_trace(\n",
    "        go.Scatter(\n",
    "            x=vizdata2a.index,\n",
    "            y=vizdata2a.values,\n",
    "            marker_color=\"royalblue\",\n",
    "            mode=\"lines+markers\",\n",
    "            name=\"total sales_by_year\",\n",
    "        ),\n",
    "        row=3,\n",
    "        col=1,\n",
    "    )\n",
    "    fig.add_trace(\n",
    "        go.Scatter(\n",
    "            x=vizdata2b.index,\n",
    "            y=vizdata2b.values,\n",
    "            marker_color=\"royalblue\",\n",
    "            mode=\"lines+markers\",\n",
    "            name=\"avg sales_by_year\",\n",
    "        ),\n",
    "        row=4,\n",
    "        col=1,\n",
    "    )\n",
    "\n",
    "    ticksize = 14\n",
    "    xstitlesize = 16\n",
    "\n",
    "    fig.update_xaxes(\n",
    "        title_text=\"Month\",\n",
    "        titlefont=dict(size=xstitlesize),\n",
    "        tickfont=dict(size=ticksize),\n",
    "        tickangle=45,\n",
    "        row=1,\n",
    "        col=1,\n",
    "    )\n",
    "    fig.update_xaxes(\n",
    "        title_text=\"Month\",\n",
    "        titlefont=dict(size=xstitlesize),\n",
    "        tickfont=dict(size=ticksize),\n",
    "        tickangle=45,\n",
    "        row=2,\n",
    "        col=1,\n",
    "    )\n",
    "\n",
    "    fig.update_xaxes(\n",
    "        title_text=\"Year\",\n",
    "        titlefont=dict(size=xstitlesize),\n",
    "        tickfont=dict(size=ticksize),\n",
    "        nticks=6,\n",
    "        row=3,\n",
    "        col=1,\n",
    "        tickformat=\".0f\",\n",
    "    )\n",
    "    fig.update_xaxes(\n",
    "        title_text=\"Year\",\n",
    "        titlefont=dict(size=xstitlesize),\n",
    "        tickfont=dict(size=ticksize),\n",
    "        nticks=6,\n",
    "        row=4,\n",
    "        col=1,\n",
    "        tickformat=\".0f\",\n",
    "    )\n",
    "\n",
    "    fig.update_yaxes(\n",
    "        title_text=\"Total Units Sold\",\n",
    "        titlefont=dict(size=xstitlesize),\n",
    "        tickfont=dict(size=ticksize),\n",
    "        row=1,\n",
    "        col=1,\n",
    "    )\n",
    "    fig.update_yaxes(\n",
    "        title_text=\"Avg. Units Sold\",\n",
    "        titlefont=dict(size=xstitlesize),\n",
    "        tickfont=dict(size=ticksize),\n",
    "        row=2,\n",
    "        col=1,\n",
    "    )\n",
    "\n",
    "    fig.update_yaxes(\n",
    "        title_text=\"Total Units Sold\",\n",
    "        titlefont=dict(size=xstitlesize),\n",
    "        tickfont=dict(size=ticksize),\n",
    "        row=3,\n",
    "        col=1,\n",
    "    )\n",
    "    fig.update_yaxes(\n",
    "        title_text=\"Avg. Units Sold\",\n",
    "        titlefont=dict(size=xstitlesize),\n",
    "        tickfont=dict(size=ticksize),\n",
    "        row=4,\n",
    "        col=1,\n",
    "    )\n",
    "\n",
    "    fig.update_layout(\n",
    "        height=1600,\n",
    "        width=800,\n",
    "        showlegend=False,\n",
    "        template=\"ggplot2\",\n",
    "        title=go.layout.Title(\n",
    "            text=\"Sales by Month/Year\", font=dict(size=20, color=\"darkslateblue\")\n",
    "        ),\n",
    "    )\n",
    "\n",
    "    return fig.show()\n",
    "\n",
    "\n",
    "plot_sales_per_mo_qu_yr(months)\n"
   ]
  },
  {
   "cell_type": "markdown",
   "metadata": {
    "papermill": {
     "duration": 0.083993,
     "end_time": "2020-10-12T08:37:26.542784",
     "exception": false,
     "start_time": "2020-10-12T08:37:26.458791",
     "status": "completed"
    },
    "tags": []
   },
   "source": [
    "Not surprisingly so - towards the end of a year, the sales numbers increase.\n",
    "<br> There seems to be an ongoing decrease, as already noted, when we look at year over year sales numbers."
   ]
  },
  {
   "cell_type": "markdown",
   "metadata": {
    "papermill": {
     "duration": 0.083622,
     "end_time": "2020-10-12T08:37:26.710204",
     "exception": false,
     "start_time": "2020-10-12T08:37:26.626582",
     "status": "completed"
    },
    "tags": []
   },
   "source": [
    "Now let's look at sales per category and per shop"
   ]
  },
  {
   "cell_type": "code",
   "execution_count": 34,
   "metadata": {
    "_kg_hide-input": true,
    "execution": {
     "iopub.execute_input": "2020-10-12T08:37:26.892075Z",
     "iopub.status.busy": "2020-10-12T08:37:26.891069Z",
     "iopub.status.idle": "2020-10-12T08:37:32.447365Z",
     "shell.execute_reply": "2020-10-12T08:37:32.447804Z"
    },
    "papermill": {
     "duration": 5.653508,
     "end_time": "2020-10-12T08:37:32.447971",
     "exception": false,
     "start_time": "2020-10-12T08:37:26.794463",
     "status": "completed"
    },
    "tags": []
   },
   "outputs": [
    {
     "data": {
      "text/html": [
       "<div>                            <div id=\"b184be9e-a2ae-4751-8f0f-547e2202a842\" class=\"plotly-graph-div\" style=\"height:800px; width:800px;\"></div>            <script type=\"text/javascript\">                require([\"plotly\"], function(Plotly) {                    window.PLOTLYENV=window.PLOTLYENV || {};                                    if (document.getElementById(\"b184be9e-a2ae-4751-8f0f-547e2202a842\")) {                    Plotly.newPlot(                        \"b184be9e-a2ae-4751-8f0f-547e2202a842\",                        [{\"labels\": [\"Blank Media\", \"Books\", \"Console Accessories\", \"Game Accessories\", \"Game Consoles\", \"Games\", \"Gifts\", \"Misc\", \"Mobile Games\", \"Movies\", \"Music\", \"Office\", \"Payment Cards\", \"Programs\", \"Tickets\", \"Blank media (piece)\", \"Blank media (spire)\", \"Books - Artbooks, encyclopedias\", \"Books - Audiobooks\", \"Books - Audiobooks (Digital)\", \"Books - Audiobooks 1C\", \"Books - Business Literature\", \"Books - Comics, manga\", \"Books - Computer Literature\", \"Books - Educational literature\", \"Books - Fiction\", \"Books - Guides\", \"Books - Methodical materials 1C\", \"Books - Number\", \"Books - Postcards\", \"Accessories - PS2\", \"Accessories - PS3\", \"Accessories - PS4\", \"Accessories - PSP\", \"Accessories - PSVita\", \"Accessories - XBOX 360\", \"Accessories - XBOX ONE\", \"Games - Game Accessories\", \"Game Consoles - Other\", \"Game consoles - PS2\", \"Game consoles - PS3\", \"Game consoles - PS4\", \"Game consoles - PSP\", \"Game consoles - PSVita\", \"Game consoles - XBOX 360\", \"Game consoles - XBOX ONE\", \"Games - PS2\", \"Games - PS3\", \"Games - PS4\", \"Games - PSP\", \"Games - PSVita\", \"Games - XBOX 360\", \"PC Games - Additional Editions\", \"PC Games - Collector's Editions\", \"PC Games - Number\", \"PC Games - Standard Editions\", \"\\u0418\\u0433\\u0440\\u044b - XBOX ONE\", \"Gifts - Attributes\", \"Gifts - Bags, Albums, Mouse Pads\", \"Gifts - Board Games\", \"Gifts - Board Games (Compact)\", \"Gifts - Certificates, services\", \"Gifts - Development\", \"Gifts - Figures\", \"Gifts - Gadgets, Robots, Sports\", \"Gifts - Postcards, stickers\", \"Gifts - Souvenirs\", \"Gifts - Souvenirs (hinged)\", \"Gifts - Stuffed Toys\", \"Batteries\", \"Delivery of goods\", \"PC - Headsets / Headphones\", \"Service - Tickets\", \"Android Games - Number\", \"MAC Games - Number\", \"Cinema - Blu-Ray 3D\", \"Cinema - Blu-Ray 4K\", \"Cinema - Collector's\", \"Movie - Blu-Ray\", \"Movie - DVD\", \"Music - Gift Editions\", \"Music - MP3\", \"Music - Music video\", \"Music - Vinyl\", \"Music - branded CD\", \"Music - locally produced CD\", \"Service\", \"Payment Cards - Windows (Digital)\", \"Payment cards (Cinema, Music, Games)\", \"Payment cards - Live!\", \"Payment cards - Live! (Numeral)\", \"Payment cards - PSN\", \"Programs - 1C: Enterprise 8\", \"Programs - Educational\", \"Programs - Educational (Digital)\", \"Programs - For Home and Office\", \"Programs - For Home and Office (Digital)\", \"Programs - MAC (Digit)\", \"Tickets (Number)\"], \"parents\": [\"\", \"\", \"\", \"\", \"\", \"\", \"\", \"\", \"\", \"\", \"\", \"\", \"\", \"\", \"\", \"Blank Media\", \"Blank Media\", \"Books\", \"Books\", \"Books\", \"Books\", \"Books\", \"Books\", \"Books\", \"Books\", \"Books\", \"Books\", \"Books\", \"Books\", \"Books\", \"Console Accessories\", \"Console Accessories\", \"Console Accessories\", \"Console Accessories\", \"Console Accessories\", \"Console Accessories\", \"Console Accessories\", \"Game Accessories\", \"Game Consoles\", \"Game Consoles\", \"Game Consoles\", \"Game Consoles\", \"Game Consoles\", \"Game Consoles\", \"Game Consoles\", \"Game Consoles\", \"Games\", \"Games\", \"Games\", \"Games\", \"Games\", \"Games\", \"Games\", \"Games\", \"Games\", \"Games\", \"Games\", \"Gifts\", \"Gifts\", \"Gifts\", \"Gifts\", \"Gifts\", \"Gifts\", \"Gifts\", \"Gifts\", \"Gifts\", \"Gifts\", \"Gifts\", \"Gifts\", \"Misc\", \"Misc\", \"Misc\", \"Misc\", \"Mobile Games\", \"Mobile Games\", \"Movies\", \"Movies\", \"Movies\", \"Movies\", \"Movies\", \"Music\", \"Music\", \"Music\", \"Music\", \"Music\", \"Music\", \"Office\", \"Payment Cards\", \"Payment Cards\", \"Payment Cards\", \"Payment Cards\", \"Payment Cards\", \"Programs\", \"Programs\", \"Programs\", \"Programs\", \"Programs\", \"Programs\", \"Tickets\"], \"type\": \"sunburst\", \"values\": [9312.0, 74551.0, 83986.0, 19525.0, 28808.0, 1181202.0, 412917.0, 16907.0, 115.0, 891721.0, 411243.0, 11247.0, 45563.0, 71344.0, 2869.0, 8346.0, 966.0, 3545.0, 26626.0, 252.0, 5248.0, 15.0, 6488.0, 6.0, 1.0, 3.0, 3.0, 26298.0, 6063.0, 3.0, 2.0, 19603.0, 29032.0, 2420.0, 7440.0, 20389.0, 5100.0, 19525.0, 309.0, 1.0, 6429.0, 9949.0, 364.0, 3087.0, 5912.0, 2757.0, 11.0, 236715.0, 104865.0, 33255.0, 25075.0, 163552.0, 148932.0, 18115.0, 24332.0, 409469.0, 16881.0, 14867.0, 25544.0, 39351.0, 70225.0, 129.0, 44214.0, 51243.0, 28975.0, 5739.0, 30564.0, 42442.0, 59624.0, 11526.0, 3395.0, 3.0, 1983.0, 107.0, 8.0, 45139.0, 646.0, 33935.0, 202715.0, 609286.0, 1516.0, 32748.0, 6634.0, 13731.0, 8226.0, 348388.0, 11247.0, 22.0, 6136.0, 8602.0, 1554.0, 29249.0, 14293.0, 3912.0, 2510.0, 46664.0, 3906.0, 59.0, 2869.0]}],                        {\"height\": 800, \"template\": {\"data\": {\"bar\": [{\"error_x\": {\"color\": \"rgb(51,51,51)\"}, \"error_y\": {\"color\": \"rgb(51,51,51)\"}, \"marker\": {\"line\": {\"color\": \"rgb(237,237,237)\", \"width\": 0.5}}, \"type\": \"bar\"}], \"barpolar\": [{\"marker\": {\"line\": {\"color\": \"rgb(237,237,237)\", \"width\": 0.5}}, \"type\": \"barpolar\"}], \"carpet\": [{\"aaxis\": {\"endlinecolor\": \"rgb(51,51,51)\", \"gridcolor\": \"white\", \"linecolor\": \"white\", \"minorgridcolor\": \"white\", \"startlinecolor\": \"rgb(51,51,51)\"}, \"baxis\": {\"endlinecolor\": \"rgb(51,51,51)\", \"gridcolor\": \"white\", \"linecolor\": \"white\", \"minorgridcolor\": \"white\", \"startlinecolor\": \"rgb(51,51,51)\"}, \"type\": \"carpet\"}], \"choropleth\": [{\"colorbar\": {\"outlinewidth\": 0, \"tickcolor\": \"rgb(237,237,237)\", \"ticklen\": 6, \"ticks\": \"inside\"}, \"type\": \"choropleth\"}], \"contour\": [{\"colorbar\": {\"outlinewidth\": 0, \"tickcolor\": \"rgb(237,237,237)\", \"ticklen\": 6, \"ticks\": \"inside\"}, \"colorscale\": [[0, \"rgb(20,44,66)\"], [1, \"rgb(90,179,244)\"]], \"type\": \"contour\"}], \"contourcarpet\": [{\"colorbar\": {\"outlinewidth\": 0, \"tickcolor\": \"rgb(237,237,237)\", \"ticklen\": 6, \"ticks\": \"inside\"}, \"type\": \"contourcarpet\"}], \"heatmap\": [{\"colorbar\": {\"outlinewidth\": 0, \"tickcolor\": \"rgb(237,237,237)\", \"ticklen\": 6, \"ticks\": \"inside\"}, \"colorscale\": [[0, \"rgb(20,44,66)\"], [1, \"rgb(90,179,244)\"]], \"type\": \"heatmap\"}], \"heatmapgl\": [{\"colorbar\": {\"outlinewidth\": 0, \"tickcolor\": \"rgb(237,237,237)\", \"ticklen\": 6, \"ticks\": \"inside\"}, \"colorscale\": [[0, \"rgb(20,44,66)\"], [1, \"rgb(90,179,244)\"]], \"type\": \"heatmapgl\"}], \"histogram\": [{\"marker\": {\"colorbar\": {\"outlinewidth\": 0, \"tickcolor\": \"rgb(237,237,237)\", \"ticklen\": 6, \"ticks\": \"inside\"}}, \"type\": \"histogram\"}], \"histogram2d\": [{\"colorbar\": {\"outlinewidth\": 0, \"tickcolor\": \"rgb(237,237,237)\", \"ticklen\": 6, \"ticks\": \"inside\"}, \"colorscale\": [[0, \"rgb(20,44,66)\"], [1, \"rgb(90,179,244)\"]], \"type\": \"histogram2d\"}], \"histogram2dcontour\": [{\"colorbar\": {\"outlinewidth\": 0, \"tickcolor\": \"rgb(237,237,237)\", \"ticklen\": 6, \"ticks\": \"inside\"}, \"colorscale\": [[0, \"rgb(20,44,66)\"], [1, \"rgb(90,179,244)\"]], \"type\": \"histogram2dcontour\"}], \"mesh3d\": [{\"colorbar\": {\"outlinewidth\": 0, \"tickcolor\": \"rgb(237,237,237)\", \"ticklen\": 6, \"ticks\": \"inside\"}, \"type\": \"mesh3d\"}], \"parcoords\": [{\"line\": {\"colorbar\": {\"outlinewidth\": 0, \"tickcolor\": \"rgb(237,237,237)\", \"ticklen\": 6, \"ticks\": \"inside\"}}, \"type\": \"parcoords\"}], \"pie\": [{\"automargin\": true, \"type\": \"pie\"}], \"scatter\": [{\"marker\": {\"colorbar\": {\"outlinewidth\": 0, \"tickcolor\": \"rgb(237,237,237)\", \"ticklen\": 6, \"ticks\": \"inside\"}}, \"type\": \"scatter\"}], \"scatter3d\": [{\"line\": {\"colorbar\": {\"outlinewidth\": 0, \"tickcolor\": \"rgb(237,237,237)\", \"ticklen\": 6, \"ticks\": \"inside\"}}, \"marker\": {\"colorbar\": {\"outlinewidth\": 0, \"tickcolor\": \"rgb(237,237,237)\", \"ticklen\": 6, \"ticks\": \"inside\"}}, \"type\": \"scatter3d\"}], \"scattercarpet\": [{\"marker\": {\"colorbar\": {\"outlinewidth\": 0, \"tickcolor\": \"rgb(237,237,237)\", \"ticklen\": 6, \"ticks\": \"inside\"}}, \"type\": \"scattercarpet\"}], \"scattergeo\": [{\"marker\": {\"colorbar\": {\"outlinewidth\": 0, \"tickcolor\": \"rgb(237,237,237)\", \"ticklen\": 6, \"ticks\": \"inside\"}}, \"type\": \"scattergeo\"}], \"scattergl\": [{\"marker\": {\"colorbar\": {\"outlinewidth\": 0, \"tickcolor\": \"rgb(237,237,237)\", \"ticklen\": 6, \"ticks\": \"inside\"}}, \"type\": \"scattergl\"}], \"scattermapbox\": [{\"marker\": {\"colorbar\": {\"outlinewidth\": 0, \"tickcolor\": \"rgb(237,237,237)\", \"ticklen\": 6, \"ticks\": \"inside\"}}, \"type\": \"scattermapbox\"}], \"scatterpolar\": [{\"marker\": {\"colorbar\": {\"outlinewidth\": 0, \"tickcolor\": \"rgb(237,237,237)\", \"ticklen\": 6, \"ticks\": \"inside\"}}, \"type\": \"scatterpolar\"}], \"scatterpolargl\": [{\"marker\": {\"colorbar\": {\"outlinewidth\": 0, \"tickcolor\": \"rgb(237,237,237)\", \"ticklen\": 6, \"ticks\": \"inside\"}}, \"type\": \"scatterpolargl\"}], \"scatterternary\": [{\"marker\": {\"colorbar\": {\"outlinewidth\": 0, \"tickcolor\": \"rgb(237,237,237)\", \"ticklen\": 6, \"ticks\": \"inside\"}}, \"type\": \"scatterternary\"}], \"surface\": [{\"colorbar\": {\"outlinewidth\": 0, \"tickcolor\": \"rgb(237,237,237)\", \"ticklen\": 6, \"ticks\": \"inside\"}, \"colorscale\": [[0, \"rgb(20,44,66)\"], [1, \"rgb(90,179,244)\"]], \"type\": \"surface\"}], \"table\": [{\"cells\": {\"fill\": {\"color\": \"rgb(237,237,237)\"}, \"line\": {\"color\": \"white\"}}, \"header\": {\"fill\": {\"color\": \"rgb(217,217,217)\"}, \"line\": {\"color\": \"white\"}}, \"type\": \"table\"}]}, \"layout\": {\"annotationdefaults\": {\"arrowhead\": 0, \"arrowwidth\": 1}, \"coloraxis\": {\"colorbar\": {\"outlinewidth\": 0, \"tickcolor\": \"rgb(237,237,237)\", \"ticklen\": 6, \"ticks\": \"inside\"}}, \"colorscale\": {\"sequential\": [[0, \"rgb(20,44,66)\"], [1, \"rgb(90,179,244)\"]], \"sequentialminus\": [[0, \"rgb(20,44,66)\"], [1, \"rgb(90,179,244)\"]]}, \"colorway\": [\"#F8766D\", \"#A3A500\", \"#00BF7D\", \"#00B0F6\", \"#E76BF3\"], \"font\": {\"color\": \"rgb(51,51,51)\"}, \"geo\": {\"bgcolor\": \"white\", \"lakecolor\": \"white\", \"landcolor\": \"rgb(237,237,237)\", \"showlakes\": true, \"showland\": true, \"subunitcolor\": \"white\"}, \"hoverlabel\": {\"align\": \"left\"}, \"hovermode\": \"closest\", \"paper_bgcolor\": \"white\", \"plot_bgcolor\": \"rgb(237,237,237)\", \"polar\": {\"angularaxis\": {\"gridcolor\": \"white\", \"linecolor\": \"white\", \"showgrid\": true, \"tickcolor\": \"rgb(51,51,51)\", \"ticks\": \"outside\"}, \"bgcolor\": \"rgb(237,237,237)\", \"radialaxis\": {\"gridcolor\": \"white\", \"linecolor\": \"white\", \"showgrid\": true, \"tickcolor\": \"rgb(51,51,51)\", \"ticks\": \"outside\"}}, \"scene\": {\"xaxis\": {\"backgroundcolor\": \"rgb(237,237,237)\", \"gridcolor\": \"white\", \"gridwidth\": 2, \"linecolor\": \"white\", \"showbackground\": true, \"showgrid\": true, \"tickcolor\": \"rgb(51,51,51)\", \"ticks\": \"outside\", \"zerolinecolor\": \"white\"}, \"yaxis\": {\"backgroundcolor\": \"rgb(237,237,237)\", \"gridcolor\": \"white\", \"gridwidth\": 2, \"linecolor\": \"white\", \"showbackground\": true, \"showgrid\": true, \"tickcolor\": \"rgb(51,51,51)\", \"ticks\": \"outside\", \"zerolinecolor\": \"white\"}, \"zaxis\": {\"backgroundcolor\": \"rgb(237,237,237)\", \"gridcolor\": \"white\", \"gridwidth\": 2, \"linecolor\": \"white\", \"showbackground\": true, \"showgrid\": true, \"tickcolor\": \"rgb(51,51,51)\", \"ticks\": \"outside\", \"zerolinecolor\": \"white\"}}, \"shapedefaults\": {\"fillcolor\": \"black\", \"line\": {\"width\": 0}, \"opacity\": 0.3}, \"ternary\": {\"aaxis\": {\"gridcolor\": \"white\", \"linecolor\": \"white\", \"showgrid\": true, \"tickcolor\": \"rgb(51,51,51)\", \"ticks\": \"outside\"}, \"baxis\": {\"gridcolor\": \"white\", \"linecolor\": \"white\", \"showgrid\": true, \"tickcolor\": \"rgb(51,51,51)\", \"ticks\": \"outside\"}, \"bgcolor\": \"rgb(237,237,237)\", \"caxis\": {\"gridcolor\": \"white\", \"linecolor\": \"white\", \"showgrid\": true, \"tickcolor\": \"rgb(51,51,51)\", \"ticks\": \"outside\"}}, \"xaxis\": {\"automargin\": true, \"gridcolor\": \"white\", \"linecolor\": \"white\", \"showgrid\": true, \"tickcolor\": \"rgb(51,51,51)\", \"ticks\": \"outside\", \"title\": {\"standoff\": 15}, \"zerolinecolor\": \"white\"}, \"yaxis\": {\"automargin\": true, \"gridcolor\": \"white\", \"linecolor\": \"white\", \"showgrid\": true, \"tickcolor\": \"rgb(51,51,51)\", \"ticks\": \"outside\", \"title\": {\"standoff\": 15}, \"zerolinecolor\": \"white\"}}}, \"title\": {\"font\": {\"color\": \"darkslateblue\", \"size\": 20}, \"text\": \"Sales Qty by Item Category Group - Item Category\"}, \"width\": 800},                        {\"responsive\": true}                    ).then(function(){\n",
       "                            \n",
       "var gd = document.getElementById('b184be9e-a2ae-4751-8f0f-547e2202a842');\n",
       "var x = new MutationObserver(function (mutations, observer) {{\n",
       "        var display = window.getComputedStyle(gd).display;\n",
       "        if (!display || display === 'none') {{\n",
       "            console.log([gd, 'removed!']);\n",
       "            Plotly.purge(gd);\n",
       "            observer.disconnect();\n",
       "        }}\n",
       "}});\n",
       "\n",
       "// Listen for the removal of the full notebook cells\n",
       "var notebookContainer = gd.closest('#notebook-container');\n",
       "if (notebookContainer) {{\n",
       "    x.observe(notebookContainer, {childList: true});\n",
       "}}\n",
       "\n",
       "// Listen for the clearing of the current output cell\n",
       "var outputEl = gd.closest('.output');\n",
       "if (outputEl) {{\n",
       "    x.observe(outputEl, {childList: true});\n",
       "}}\n",
       "\n",
       "                        })                };                });            </script>        </div>"
      ]
     },
     "metadata": {},
     "output_type": "display_data"
    }
   ],
   "source": [
    "def plot_grouped_features(lvl1, lvl1name, lvl2, lvl2name):\n",
    "    vizdata = df.loc[df[\"train\"] == 1].groupby(by=[lvl2, lvl1], as_index=False).sum()\n",
    "\n",
    "    labels = [*vizdata[lvl2].unique()]\n",
    "    labels.extend([*vizdata[lvl1].values])\n",
    "\n",
    "    parents = [\"\"] * len([*vizdata[lvl2].unique()])\n",
    "    parents.extend([*vizdata[lvl2].values])\n",
    "\n",
    "    values = [*vizdata.groupby(by=lvl2)[\"item_cnt_month\"].sum().values]\n",
    "    values.extend([*vizdata[\"item_cnt_month\"].values])\n",
    "\n",
    "    fig = go.Figure(data=go.Sunburst(labels=labels, parents=parents, values=values))\n",
    "\n",
    "    fig.update_layout(\n",
    "        width=800,\n",
    "        height=800,\n",
    "        template=\"ggplot2\",\n",
    "        title=go.layout.Title(\n",
    "            text=f\"Sales Qty by {lvl2name} - {lvl1name}\",\n",
    "            font=dict(size=20, color=\"darkslateblue\"),\n",
    "        ),\n",
    "    )\n",
    "\n",
    "    return fig.show()\n",
    "\n",
    "\n",
    "plot_grouped_features(\n",
    "    \"item_cat_name\", \"Item Category\", \"item_cat_group\", \"Item Category Group\"\n",
    ")\n"
   ]
  },
  {
   "cell_type": "markdown",
   "metadata": {
    "papermill": {
     "duration": 0.085724,
     "end_time": "2020-10-12T08:37:32.619270",
     "exception": false,
     "start_time": "2020-10-12T08:37:32.533546",
     "status": "completed"
    },
    "tags": []
   },
   "source": [
    "Games and Movies make up the majority of the sales. This is normal considering the fact that the provider of the dataset is a software company. "
   ]
  },
  {
   "cell_type": "code",
   "execution_count": 35,
   "metadata": {
    "_kg_hide-input": true,
    "execution": {
     "iopub.execute_input": "2020-10-12T08:37:32.794327Z",
     "iopub.status.busy": "2020-10-12T08:37:32.793429Z",
     "iopub.status.idle": "2020-10-12T08:37:39.056676Z",
     "shell.execute_reply": "2020-10-12T08:37:39.057520Z"
    },
    "papermill": {
     "duration": 6.35374,
     "end_time": "2020-10-12T08:37:39.057770",
     "exception": false,
     "start_time": "2020-10-12T08:37:32.704030",
     "status": "completed"
    },
    "tags": []
   },
   "outputs": [
    {
     "data": {
      "text/html": [
       "<div>                            <div id=\"9eecc709-3653-421b-a533-2af9e9eb0702\" class=\"plotly-graph-div\" style=\"height:800px; width:800px;\"></div>            <script type=\"text/javascript\">                require([\"plotly\"], function(Plotly) {                    window.PLOTLYENV=window.PLOTLYENV || {};                                    if (document.getElementById(\"9eecc709-3653-421b-a533-2af9e9eb0702\")) {                    Plotly.newPlot(                        \"9eecc709-3653-421b-a533-2af9e9eb0702\",                        [{\"labels\": [\"Balashikha\", \"Chekhov\", \"Kaluga\", \"Kazan\", \"Khimki\", \"Kolomna\", \"Krasnoyarsk\", \"Kursk\", \"Maykop\", \"Moscow\", \"Mytishchi\", \"Nizhny Novgorod\", \"Novosibirsk\", \"Omsk\", \"Online\", \"Other\", \"Rostov-on-Don\", \"Saint Petersburg\", \"Samara\", \"Sergiyev Posad\", \"Surgut\", \"Tomsk\", \"Tyumen\", \"Ufa\", \"Vologda\", \"Volzhsky\", \"Voronezh\", \"Yakutsk\", \"Yaroslavl\", \"Zhukovsky\", \"Balashikha TRK \\\"October-Kinomir\\\"\", \"Chekhov SEC \\\"Carnival\\\"\", \"Kaluga TRC \\\"XXI Century\\\"\", \"Kazan TC \\\"Behetle\\\"\", \"Kazan TC \\\"ParkHaus\\\" II\", \"Khimki \\u0422\\u0426 \\\"Mega\\\"\", \"Colosseum \\\"Rio\\\"\", \"Krasnoyarsk Shopping center \\\"June\\\"\", \"Krasnoyarsk Shopping center \\\"Vzletka Plaza\\\"\", \"Kursk TC \\\"Pushkinsky\\\"\", \"Adygea Shopping Center \\\"Mega\\\"\", \"Moscow \\\"Sale\\\"\", \"Moscow MTRTS \\\"Afi Mall\\\"\", \"Moscow Shop \\u042121\", \"Moscow Shopping Center \\\"Silver House\\\"\", \"Moscow TC \\\"Budenovskiy\\\" (pav.A2)\", \"Moscow TC \\\"Budenovskiy\\\" (pav.K7)\", \"Moscow TC \\\"New Century\\\" (Novokosino)\", \"Moscow TP TPP \\\"Perlovski\\\"\", \"Moscow TRK \\\"Atrium\\\"\", \"Moscow Trade Center \\\"Areal\\\" (Belyaevo)\", \"Moscow \\u0422\\u0426 \\\"MEGA Belaya Dacha II\\\"\", \"Moscow \\u0422\\u0426 \\\"MEGA Teply Stan\\\" II\", \"Moscow \\u0422\\u0426 \\\"\\u0421\\u0435\\u043c\\u0435\\u043d\\u043e\\u0432\\u0441\\u043a\\u0438\\u0439\\\"\", \"Mytischi TRK \\\"XL-3\\\"\", \"N.Novgorod TRC \\\"RIO\\\"\", \"Nizhny Novgorod shopping mall \\\"Fantastic\\\"\", \"Novosibirsk TC \\\"Mega\\\"\", \"Novosibirsk TRC \\\"Gallery Novosibirsk\\\"\", \"Omsk TC \\\"Mega\\\"\", \"Digital warehouse 1C-Online\", \"Online shop Emergency\", \"Outbound Trade\", \"Rostov-on-Don Megacenter Horizon\", \"RostovNaDonu TC \\\"Mega\\\"\", \"SPb TC \\\"Nevsky Center\\\"\", \"SPb TK \\\"Sennaya\\\"\", \"Samara TC \\\"ParkHaus\\\"\", \"Samara TP \\\"Melody\\\"\", \"Sergiev Posad TC \\\"7YA\\\"\", \"Surgut shopping and entertainment center \\\"City Mall\\\"\", \"Tomsk SEC \\\"Emerald City\\\"\", \"Tyumen SEC \\\"Crystal\\\"\", \"Tyumen Shopping Center \\\"Green Beach\\\"\", \"Tyumen shopping center \\\"Goodwin\\\"\", \"Ufa TC \\\"Central\\\"\", \"Ufa TC \\\"Family\\\" 2\", \"Vologda Shopping and Entertainment Center \\\"Marmalade\\\"\", \"Volzhsky shopping center \\\"Volga Mall\\\"\", \"Voronezh (Plekhanovskaya, 13)\", \"Voronezh TRC \\\"Maksimir\\\"\", \"Voronezh TRC City-Park \\\"Grad\\\"\", \"Yakutsk Ordzhonikidze, 56\", \"Yakutsk TC \\\"Central\\\"\", \"Yaroslavl Shopping center \\\"Altair\\\"\", \"Zhukovsky st. Chkalov 39m?\"], \"parents\": [\"\", \"\", \"\", \"\", \"\", \"\", \"\", \"\", \"\", \"\", \"\", \"\", \"\", \"\", \"\", \"\", \"\", \"\", \"\", \"\", \"\", \"\", \"\", \"\", \"\", \"\", \"\", \"\", \"\", \"\", \"Balashikha\", \"Chekhov\", \"Kaluga\", \"Kazan\", \"Kazan\", \"Khimki\", \"Kolomna\", \"Krasnoyarsk\", \"Krasnoyarsk\", \"Kursk\", \"Maykop\", \"Moscow\", \"Moscow\", \"Moscow\", \"Moscow\", \"Moscow\", \"Moscow\", \"Moscow\", \"Moscow\", \"Moscow\", \"Moscow\", \"Moscow\", \"Moscow\", \"Moscow\", \"Mytishchi\", \"Nizhny Novgorod\", \"Nizhny Novgorod\", \"Novosibirsk\", \"Novosibirsk\", \"Omsk\", \"Online\", \"Online\", \"Other\", \"Rostov-on-Don\", \"Rostov-on-Don\", \"Saint Petersburg\", \"Saint Petersburg\", \"Samara\", \"Samara\", \"Sergiyev Posad\", \"Surgut\", \"Tomsk\", \"Tyumen\", \"Tyumen\", \"Tyumen\", \"Ufa\", \"Ufa\", \"Vologda\", \"Volzhsky\", \"Voronezh\", \"Voronezh\", \"Voronezh\", \"Yakutsk\", \"Yakutsk\", \"Yaroslavl\", \"Zhukovsky\"], \"type\": \"sunburst\", \"values\": [27497.0, 74448.0, 65473.0, 60913.0, 161478.0, 57450.0, 84096.0, 69816.0, 28964.0, 1117462.0, 5272.0, 70172.0, 43333.0, 50807.0, 82681.0, 10777.0, 65771.0, 167280.0, 83119.0, 72804.0, 62133.0, 23332.0, 135730.0, 104623.0, 40814.0, 41297.0, 157541.0, 226008.0, 46379.0, 23840.0, 27497.0, 74448.0, 65473.0, 18957.0, 41956.0, 161478.0, 57450.0, 59512.0, 24584.0, 69816.0, 28964.0, 4839.0, 63219.0, 52490.0, 8544.0, 7568.0, 58869.0, 54474.0, 55872.0, 208176.0, 60769.0, 119869.0, 160644.0, 262129.0, 5272.0, 6324.0, 63848.0, 43000.0, 333.0, 50807.0, 39345.0, 43336.0, 10777.0, 19319.0, 46452.0, 122668.0, 44612.0, 39771.0, 43348.0, 72804.0, 62133.0, 23332.0, 16807.0, 47058.0, 71865.0, 47400.0, 57223.0, 40814.0, 41297.0, 91222.0, 62717.0, 3602.0, 141591.0, 84417.0, 46379.0, 23840.0]}],                        {\"height\": 800, \"template\": {\"data\": {\"bar\": [{\"error_x\": {\"color\": \"rgb(51,51,51)\"}, \"error_y\": {\"color\": \"rgb(51,51,51)\"}, \"marker\": {\"line\": {\"color\": \"rgb(237,237,237)\", \"width\": 0.5}}, \"type\": \"bar\"}], \"barpolar\": [{\"marker\": {\"line\": {\"color\": \"rgb(237,237,237)\", \"width\": 0.5}}, \"type\": \"barpolar\"}], \"carpet\": [{\"aaxis\": {\"endlinecolor\": \"rgb(51,51,51)\", \"gridcolor\": \"white\", \"linecolor\": \"white\", \"minorgridcolor\": \"white\", \"startlinecolor\": \"rgb(51,51,51)\"}, \"baxis\": {\"endlinecolor\": \"rgb(51,51,51)\", \"gridcolor\": \"white\", \"linecolor\": \"white\", \"minorgridcolor\": \"white\", \"startlinecolor\": \"rgb(51,51,51)\"}, \"type\": \"carpet\"}], \"choropleth\": [{\"colorbar\": {\"outlinewidth\": 0, \"tickcolor\": \"rgb(237,237,237)\", \"ticklen\": 6, \"ticks\": \"inside\"}, \"type\": \"choropleth\"}], \"contour\": [{\"colorbar\": {\"outlinewidth\": 0, \"tickcolor\": \"rgb(237,237,237)\", \"ticklen\": 6, \"ticks\": \"inside\"}, \"colorscale\": [[0, \"rgb(20,44,66)\"], [1, \"rgb(90,179,244)\"]], \"type\": \"contour\"}], \"contourcarpet\": [{\"colorbar\": {\"outlinewidth\": 0, \"tickcolor\": \"rgb(237,237,237)\", \"ticklen\": 6, \"ticks\": \"inside\"}, \"type\": \"contourcarpet\"}], \"heatmap\": [{\"colorbar\": {\"outlinewidth\": 0, \"tickcolor\": \"rgb(237,237,237)\", \"ticklen\": 6, \"ticks\": \"inside\"}, \"colorscale\": [[0, \"rgb(20,44,66)\"], [1, \"rgb(90,179,244)\"]], \"type\": \"heatmap\"}], \"heatmapgl\": [{\"colorbar\": {\"outlinewidth\": 0, \"tickcolor\": \"rgb(237,237,237)\", \"ticklen\": 6, \"ticks\": \"inside\"}, \"colorscale\": [[0, \"rgb(20,44,66)\"], [1, \"rgb(90,179,244)\"]], \"type\": \"heatmapgl\"}], \"histogram\": [{\"marker\": {\"colorbar\": {\"outlinewidth\": 0, \"tickcolor\": \"rgb(237,237,237)\", \"ticklen\": 6, \"ticks\": \"inside\"}}, \"type\": \"histogram\"}], \"histogram2d\": [{\"colorbar\": {\"outlinewidth\": 0, \"tickcolor\": \"rgb(237,237,237)\", \"ticklen\": 6, \"ticks\": \"inside\"}, \"colorscale\": [[0, \"rgb(20,44,66)\"], [1, \"rgb(90,179,244)\"]], \"type\": \"histogram2d\"}], \"histogram2dcontour\": [{\"colorbar\": {\"outlinewidth\": 0, \"tickcolor\": \"rgb(237,237,237)\", \"ticklen\": 6, \"ticks\": \"inside\"}, \"colorscale\": [[0, \"rgb(20,44,66)\"], [1, \"rgb(90,179,244)\"]], \"type\": \"histogram2dcontour\"}], \"mesh3d\": [{\"colorbar\": {\"outlinewidth\": 0, \"tickcolor\": \"rgb(237,237,237)\", \"ticklen\": 6, \"ticks\": \"inside\"}, \"type\": \"mesh3d\"}], \"parcoords\": [{\"line\": {\"colorbar\": {\"outlinewidth\": 0, \"tickcolor\": \"rgb(237,237,237)\", \"ticklen\": 6, \"ticks\": \"inside\"}}, \"type\": \"parcoords\"}], \"pie\": [{\"automargin\": true, \"type\": \"pie\"}], \"scatter\": [{\"marker\": {\"colorbar\": {\"outlinewidth\": 0, \"tickcolor\": \"rgb(237,237,237)\", \"ticklen\": 6, \"ticks\": \"inside\"}}, \"type\": \"scatter\"}], \"scatter3d\": [{\"line\": {\"colorbar\": {\"outlinewidth\": 0, \"tickcolor\": \"rgb(237,237,237)\", \"ticklen\": 6, \"ticks\": \"inside\"}}, \"marker\": {\"colorbar\": {\"outlinewidth\": 0, \"tickcolor\": \"rgb(237,237,237)\", \"ticklen\": 6, \"ticks\": \"inside\"}}, \"type\": \"scatter3d\"}], \"scattercarpet\": [{\"marker\": {\"colorbar\": {\"outlinewidth\": 0, \"tickcolor\": \"rgb(237,237,237)\", \"ticklen\": 6, \"ticks\": \"inside\"}}, \"type\": \"scattercarpet\"}], \"scattergeo\": [{\"marker\": {\"colorbar\": {\"outlinewidth\": 0, \"tickcolor\": \"rgb(237,237,237)\", \"ticklen\": 6, \"ticks\": \"inside\"}}, \"type\": \"scattergeo\"}], \"scattergl\": [{\"marker\": {\"colorbar\": {\"outlinewidth\": 0, \"tickcolor\": \"rgb(237,237,237)\", \"ticklen\": 6, \"ticks\": \"inside\"}}, \"type\": \"scattergl\"}], \"scattermapbox\": [{\"marker\": {\"colorbar\": {\"outlinewidth\": 0, \"tickcolor\": \"rgb(237,237,237)\", \"ticklen\": 6, \"ticks\": \"inside\"}}, \"type\": \"scattermapbox\"}], \"scatterpolar\": [{\"marker\": {\"colorbar\": {\"outlinewidth\": 0, \"tickcolor\": \"rgb(237,237,237)\", \"ticklen\": 6, \"ticks\": \"inside\"}}, \"type\": \"scatterpolar\"}], \"scatterpolargl\": [{\"marker\": {\"colorbar\": {\"outlinewidth\": 0, \"tickcolor\": \"rgb(237,237,237)\", \"ticklen\": 6, \"ticks\": \"inside\"}}, \"type\": \"scatterpolargl\"}], \"scatterternary\": [{\"marker\": {\"colorbar\": {\"outlinewidth\": 0, \"tickcolor\": \"rgb(237,237,237)\", \"ticklen\": 6, \"ticks\": \"inside\"}}, \"type\": \"scatterternary\"}], \"surface\": [{\"colorbar\": {\"outlinewidth\": 0, \"tickcolor\": \"rgb(237,237,237)\", \"ticklen\": 6, \"ticks\": \"inside\"}, \"colorscale\": [[0, \"rgb(20,44,66)\"], [1, \"rgb(90,179,244)\"]], \"type\": \"surface\"}], \"table\": [{\"cells\": {\"fill\": {\"color\": \"rgb(237,237,237)\"}, \"line\": {\"color\": \"white\"}}, \"header\": {\"fill\": {\"color\": \"rgb(217,217,217)\"}, \"line\": {\"color\": \"white\"}}, \"type\": \"table\"}]}, \"layout\": {\"annotationdefaults\": {\"arrowhead\": 0, \"arrowwidth\": 1}, \"coloraxis\": {\"colorbar\": {\"outlinewidth\": 0, \"tickcolor\": \"rgb(237,237,237)\", \"ticklen\": 6, \"ticks\": \"inside\"}}, \"colorscale\": {\"sequential\": [[0, \"rgb(20,44,66)\"], [1, \"rgb(90,179,244)\"]], \"sequentialminus\": [[0, \"rgb(20,44,66)\"], [1, \"rgb(90,179,244)\"]]}, \"colorway\": [\"#F8766D\", \"#A3A500\", \"#00BF7D\", \"#00B0F6\", \"#E76BF3\"], \"font\": {\"color\": \"rgb(51,51,51)\"}, \"geo\": {\"bgcolor\": \"white\", \"lakecolor\": \"white\", \"landcolor\": \"rgb(237,237,237)\", \"showlakes\": true, \"showland\": true, \"subunitcolor\": \"white\"}, \"hoverlabel\": {\"align\": \"left\"}, \"hovermode\": \"closest\", \"paper_bgcolor\": \"white\", \"plot_bgcolor\": \"rgb(237,237,237)\", \"polar\": {\"angularaxis\": {\"gridcolor\": \"white\", \"linecolor\": \"white\", \"showgrid\": true, \"tickcolor\": \"rgb(51,51,51)\", \"ticks\": \"outside\"}, \"bgcolor\": \"rgb(237,237,237)\", \"radialaxis\": {\"gridcolor\": \"white\", \"linecolor\": \"white\", \"showgrid\": true, \"tickcolor\": \"rgb(51,51,51)\", \"ticks\": \"outside\"}}, \"scene\": {\"xaxis\": {\"backgroundcolor\": \"rgb(237,237,237)\", \"gridcolor\": \"white\", \"gridwidth\": 2, \"linecolor\": \"white\", \"showbackground\": true, \"showgrid\": true, \"tickcolor\": \"rgb(51,51,51)\", \"ticks\": \"outside\", \"zerolinecolor\": \"white\"}, \"yaxis\": {\"backgroundcolor\": \"rgb(237,237,237)\", \"gridcolor\": \"white\", \"gridwidth\": 2, \"linecolor\": \"white\", \"showbackground\": true, \"showgrid\": true, \"tickcolor\": \"rgb(51,51,51)\", \"ticks\": \"outside\", \"zerolinecolor\": \"white\"}, \"zaxis\": {\"backgroundcolor\": \"rgb(237,237,237)\", \"gridcolor\": \"white\", \"gridwidth\": 2, \"linecolor\": \"white\", \"showbackground\": true, \"showgrid\": true, \"tickcolor\": \"rgb(51,51,51)\", \"ticks\": \"outside\", \"zerolinecolor\": \"white\"}}, \"shapedefaults\": {\"fillcolor\": \"black\", \"line\": {\"width\": 0}, \"opacity\": 0.3}, \"ternary\": {\"aaxis\": {\"gridcolor\": \"white\", \"linecolor\": \"white\", \"showgrid\": true, \"tickcolor\": \"rgb(51,51,51)\", \"ticks\": \"outside\"}, \"baxis\": {\"gridcolor\": \"white\", \"linecolor\": \"white\", \"showgrid\": true, \"tickcolor\": \"rgb(51,51,51)\", \"ticks\": \"outside\"}, \"bgcolor\": \"rgb(237,237,237)\", \"caxis\": {\"gridcolor\": \"white\", \"linecolor\": \"white\", \"showgrid\": true, \"tickcolor\": \"rgb(51,51,51)\", \"ticks\": \"outside\"}}, \"xaxis\": {\"automargin\": true, \"gridcolor\": \"white\", \"linecolor\": \"white\", \"showgrid\": true, \"tickcolor\": \"rgb(51,51,51)\", \"ticks\": \"outside\", \"title\": {\"standoff\": 15}, \"zerolinecolor\": \"white\"}, \"yaxis\": {\"automargin\": true, \"gridcolor\": \"white\", \"linecolor\": \"white\", \"showgrid\": true, \"tickcolor\": \"rgb(51,51,51)\", \"ticks\": \"outside\", \"title\": {\"standoff\": 15}, \"zerolinecolor\": \"white\"}}}, \"title\": {\"font\": {\"color\": \"darkslateblue\", \"size\": 20}, \"text\": \"Sales Qty by City - Shop\"}, \"width\": 800},                        {\"responsive\": true}                    ).then(function(){\n",
       "                            \n",
       "var gd = document.getElementById('9eecc709-3653-421b-a533-2af9e9eb0702');\n",
       "var x = new MutationObserver(function (mutations, observer) {{\n",
       "        var display = window.getComputedStyle(gd).display;\n",
       "        if (!display || display === 'none') {{\n",
       "            console.log([gd, 'removed!']);\n",
       "            Plotly.purge(gd);\n",
       "            observer.disconnect();\n",
       "        }}\n",
       "}});\n",
       "\n",
       "// Listen for the removal of the full notebook cells\n",
       "var notebookContainer = gd.closest('#notebook-container');\n",
       "if (notebookContainer) {{\n",
       "    x.observe(notebookContainer, {childList: true});\n",
       "}}\n",
       "\n",
       "// Listen for the clearing of the current output cell\n",
       "var outputEl = gd.closest('.output');\n",
       "if (outputEl) {{\n",
       "    x.observe(outputEl, {childList: true});\n",
       "}}\n",
       "\n",
       "                        })                };                });            </script>        </div>"
      ]
     },
     "metadata": {},
     "output_type": "display_data"
    }
   ],
   "source": [
    "plot_grouped_features('shop_name','Shop','city','City')"
   ]
  },
  {
   "cell_type": "markdown",
   "metadata": {
    "papermill": {
     "duration": 0.086123,
     "end_time": "2020-10-12T08:37:39.235040",
     "exception": false,
     "start_time": "2020-10-12T08:37:39.148917",
     "status": "completed"
    },
    "tags": []
   },
   "source": [
    "Most of the sales takes place around Moscow area. Moscow is the cosmopolitan capital and the most populated city of Russia. So the graph above make sense to me."
   ]
  },
  {
   "cell_type": "markdown",
   "metadata": {
    "papermill": {
     "duration": 0.086202,
     "end_time": "2020-10-12T08:37:39.407817",
     "exception": false,
     "start_time": "2020-10-12T08:37:39.321615",
     "status": "completed"
    },
    "tags": []
   },
   "source": [
    "# Binning Item Price"
   ]
  },
  {
   "cell_type": "markdown",
   "metadata": {
    "papermill": {
     "duration": 0.092402,
     "end_time": "2020-10-12T08:37:39.585760",
     "exception": false,
     "start_time": "2020-10-12T08:37:39.493358",
     "status": "completed"
    },
    "tags": []
   },
   "source": [
    "Binning the item price for visualization purposes"
   ]
  },
  {
   "cell_type": "code",
   "execution_count": 36,
   "metadata": {
    "execution": {
     "iopub.execute_input": "2020-10-12T08:37:39.769606Z",
     "iopub.status.busy": "2020-10-12T08:37:39.768716Z",
     "iopub.status.idle": "2020-10-12T08:37:45.057784Z",
     "shell.execute_reply": "2020-10-12T08:37:45.057231Z"
    },
    "papermill": {
     "duration": 5.384322,
     "end_time": "2020-10-12T08:37:45.057907",
     "exception": false,
     "start_time": "2020-10-12T08:37:39.673585",
     "status": "completed"
    },
    "tags": []
   },
   "outputs": [],
   "source": [
    "def bin_prices(df):\n",
    "    # Create 10 bins - quantile based\n",
    "    kbd = KBinsDiscretizer(n_bins=10, encode=\"ordinal\", strategy=\"quantile\")\n",
    "\n",
    "    # Binning the item price in train set\n",
    "    df.loc[df[\"train\"] == 1, \"binned_item_price\"] = kbd.fit_transform(\n",
    "        df.loc[df[\"train\"] == 1, \"item_price\"].values.reshape(-1, 1)\n",
    "    )\n",
    "    # Establishing binned item prices within test set\n",
    "    df.loc[df[\"train\"] == 0, \"binned_item_price\"] = kbd.transform(\n",
    "        df.loc[df[\"train\"] == 0, \"item_price\"].values.reshape(-1, 1)\n",
    "    )\n",
    "    # Getting the lower edge of bins to be used later during plotting\n",
    "    item_lvl_bin_edges = dict(zip(range(kbd.n_bins), kbd.bin_edges_[0].astype(int)))\n",
    "\n",
    "    return df, item_lvl_bin_edges\n",
    "\n",
    "\n",
    "df, bin_edges = bin_prices(df)\n"
   ]
  },
  {
   "cell_type": "code",
   "execution_count": 37,
   "metadata": {
    "_kg_hide-input": true,
    "execution": {
     "iopub.execute_input": "2020-10-12T08:37:45.247598Z",
     "iopub.status.busy": "2020-10-12T08:37:45.243232Z",
     "iopub.status.idle": "2020-10-12T08:37:50.228725Z",
     "shell.execute_reply": "2020-10-12T08:37:50.227756Z"
    },
    "papermill": {
     "duration": 5.084117,
     "end_time": "2020-10-12T08:37:50.228836",
     "exception": false,
     "start_time": "2020-10-12T08:37:45.144719",
     "status": "completed"
    },
    "tags": []
   },
   "outputs": [
    {
     "data": {
      "text/html": [
       "<div>                            <div id=\"478064f3-af7d-40e9-8816-70a9c7542a0e\" class=\"plotly-graph-div\" style=\"height:800px; width:800px;\"></div>            <script type=\"text/javascript\">                require([\"plotly\"], function(Plotly) {                    window.PLOTLYENV=window.PLOTLYENV || {};                                    if (document.getElementById(\"478064f3-af7d-40e9-8816-70a9c7542a0e\")) {                    Plotly.newPlot(                        \"478064f3-af7d-40e9-8816-70a9c7542a0e\",                        [{\"alignmentgroup\": \"True\", \"hovertemplate\": \"month=%{x}<br>item_cnt_month=%{y}<br>Binned Item Price=%{marker.color}<extra></extra>\", \"legendgroup\": \"\", \"marker\": {\"color\": [0, 0, 0, 0, 0, 0, 0, 0, 0, 0, 0, 0, 124, 124, 124, 124, 124, 124, 124, 124, 124, 124, 124, 124, 149, 149, 149, 149, 149, 149, 149, 149, 149, 149, 149, 149, 199, 199, 199, 199, 199, 199, 199, 199, 199, 199, 199, 199, 249, 249, 249, 249, 249, 249, 249, 249, 249, 249, 249, 249, 299, 299, 299, 299, 299, 299, 299, 299, 299, 299, 299, 299, 398, 398, 398, 398, 398, 398, 398, 398, 398, 398, 398, 398, 549, 549, 549, 549, 549, 549, 549, 549, 549, 549, 549, 549, 899, 899, 899, 899, 899, 899, 899, 899, 899, 899, 899, 899, 1499, 1499, 1499, 1499, 1499, 1499, 1499, 1499, 1499, 1499, 1499, 1499], \"coloraxis\": \"coloraxis\", \"opacity\": 0.6}, \"name\": \"\", \"offsetgroup\": \"\", \"orientation\": \"v\", \"showlegend\": false, \"textposition\": \"auto\", \"type\": \"bar\", \"x\": [\"Apr\", \"Aug\", \"Dec\", \"Feb\", \"Jan\", \"Jul\", \"Jun\", \"Mar\", \"May\", \"Nov\", \"Oct\", \"Sep\", \"Apr\", \"Aug\", \"Dec\", \"Feb\", \"Jan\", \"Jul\", \"Jun\", \"Mar\", \"May\", \"Nov\", \"Oct\", \"Sep\", \"Apr\", \"Aug\", \"Dec\", \"Feb\", \"Jan\", \"Jul\", \"Jun\", \"Mar\", \"May\", \"Nov\", \"Oct\", \"Sep\", \"Apr\", \"Aug\", \"Dec\", \"Feb\", \"Jan\", \"Jul\", \"Jun\", \"Mar\", \"May\", \"Nov\", \"Oct\", \"Sep\", \"Apr\", \"Aug\", \"Dec\", \"Feb\", \"Jan\", \"Jul\", \"Jun\", \"Mar\", \"May\", \"Nov\", \"Oct\", \"Sep\", \"Apr\", \"Aug\", \"Dec\", \"Feb\", \"Jan\", \"Jul\", \"Jun\", \"Mar\", \"May\", \"Nov\", \"Oct\", \"Sep\", \"Apr\", \"Aug\", \"Dec\", \"Feb\", \"Jan\", \"Jul\", \"Jun\", \"Mar\", \"May\", \"Nov\", \"Oct\", \"Sep\", \"Apr\", \"Aug\", \"Dec\", \"Feb\", \"Jan\", \"Jul\", \"Jun\", \"Mar\", \"May\", \"Nov\", \"Oct\", \"Sep\", \"Apr\", \"Aug\", \"Dec\", \"Feb\", \"Jan\", \"Jul\", \"Jun\", \"Mar\", \"May\", \"Nov\", \"Oct\", \"Sep\", \"Apr\", \"Aug\", \"Dec\", \"Feb\", \"Jan\", \"Jul\", \"Jun\", \"Mar\", \"May\", \"Nov\", \"Oct\", \"Sep\"], \"xaxis\": \"x\", \"y\": [0.15863671898841858, 0.1499609649181366, 0.18069277703762054, 0.14583715796470642, 0.15852689743041992, 0.1590997874736786, 0.18591588735580444, 0.13712674379348755, 0.16580809652805328, 0.13559582829475403, 0.1349148154258728, 0.1360234022140503, 0.24226205050945282, 0.26262834668159485, 0.4232332110404968, 0.2788223624229431, 0.3330729901790619, 0.24490715563297272, 0.2226625382900238, 0.29769906401634216, 0.2364979088306427, 0.3157455623149872, 0.2923193573951721, 0.24084630608558655, 0.16315245628356934, 0.2117372751235962, 0.20929323136806488, 0.1781967431306839, 0.19268417358398438, 0.19593489170074463, 0.16674713790416718, 0.19335679709911346, 0.16574141383171082, 0.16661004722118378, 0.1585557907819748, 0.16431652009487152, 0.17516162991523743, 0.22079436480998993, 0.22210294008255005, 0.1930704414844513, 0.19543862342834473, 0.1891310214996338, 0.17747165262699127, 0.19823162257671356, 0.17131659388542175, 0.16873683035373688, 0.192769855260849, 0.18085505068302155, 0.2350752204656601, 0.3115750253200531, 0.441741019487381, 0.276814341545105, 0.31220969557762146, 0.2874026894569397, 0.29140856862068176, 0.2964478135108948, 0.28410854935646057, 0.299424946308136, 0.26645034551620483, 0.2564307451248169, 0.30532416701316833, 0.33061814308166504, 0.40995287895202637, 0.3635944724082947, 0.3517499268054962, 0.28395983576774597, 0.29317012429237366, 0.36637982726097107, 0.2750365138053894, 0.29370906949043274, 0.2770225405693054, 0.2869800329208374, 0.25216561555862427, 0.3044113516807556, 0.34450745582580566, 0.3285682499408722, 0.3256594240665436, 0.2526959180831909, 0.2607334852218628, 0.3027300536632538, 0.25391483306884766, 0.22092682123184204, 0.23377643525600433, 0.24475131928920746, 0.4075700640678406, 0.487520694732666, 0.6258525848388672, 0.4330079257488251, 0.5016166567802429, 0.4136825203895569, 0.4624326527118683, 0.4869277775287628, 0.42363059520721436, 0.46327561140060425, 0.4352084994316101, 0.4409635365009308, 0.31553658843040466, 0.3875867426395416, 0.5175588130950928, 0.4172907769680023, 0.3956013023853302, 0.30613991618156433, 0.33519941568374634, 0.41291144490242004, 0.32945871353149414, 0.4208437502384186, 0.34284353256225586, 0.395233154296875, 0.34563925862312317, 0.3476203382015228, 0.8408815264701843, 0.4540810286998749, 0.5163567662239075, 0.34189069271087646, 0.39023828506469727, 0.47172418236732483, 0.3866589665412903, 0.610244870185852, 0.41207173466682434, 0.47502952814102173], \"yaxis\": \"y\"}],                        {\"annotations\": [{\"font\": {\"color\": \"black\", \"family\": \"droid-sans\", \"size\": 16}, \"showarrow\": false, \"text\": \"5%\", \"x\": \"Aug\", \"xref\": \"x\", \"y\": 0.0749804824590683, \"yref\": \"y\"}, {\"font\": {\"color\": \"black\", \"family\": \"droid-sans\", \"size\": 16}, \"showarrow\": false, \"text\": \"9%\", \"x\": \"Aug\", \"xref\": \"x\", \"y\": 0.281275138258934, \"yref\": \"y\"}, {\"font\": {\"color\": \"black\", \"family\": \"droid-sans\", \"size\": 16}, \"showarrow\": false, \"text\": \"7%\", \"x\": \"Aug\", \"xref\": \"x\", \"y\": 0.5184579491615295, \"yref\": \"y\"}, {\"font\": {\"color\": \"black\", \"family\": \"droid-sans\", \"size\": 16}, \"showarrow\": false, \"text\": \"7%\", \"x\": \"Aug\", \"xref\": \"x\", \"y\": 0.7347237691283226, \"yref\": \"y\"}, {\"font\": {\"color\": \"black\", \"family\": \"droid-sans\", \"size\": 16}, \"showarrow\": false, \"text\": \"10%\", \"x\": \"Aug\", \"xref\": \"x\", \"y\": 1.0009084641933441, \"yref\": \"y\"}, {\"font\": {\"color\": \"black\", \"family\": \"droid-sans\", \"size\": 16}, \"showarrow\": false, \"text\": \"11%\", \"x\": \"Aug\", \"xref\": \"x\", \"y\": 1.3220050483942032, \"yref\": \"y\"}, {\"font\": {\"color\": \"black\", \"family\": \"droid-sans\", \"size\": 16}, \"showarrow\": false, \"text\": \"10%\", \"x\": \"Aug\", \"xref\": \"x\", \"y\": 1.6395197957754135, \"yref\": \"y\"}, {\"font\": {\"color\": \"black\", \"family\": \"droid-sans\", \"size\": 16}, \"showarrow\": false, \"text\": \"16%\", \"x\": \"Aug\", \"xref\": \"x\", \"y\": 2.0354858189821243, \"yref\": \"y\"}, {\"font\": {\"color\": \"black\", \"family\": \"droid-sans\", \"size\": 16}, \"showarrow\": false, \"text\": \"13%\", \"x\": \"Aug\", \"xref\": \"x\", \"y\": 2.473039537668228, \"yref\": \"y\"}, {\"font\": {\"color\": \"black\", \"family\": \"droid-sans\", \"size\": 16}, \"showarrow\": false, \"text\": \"12%\", \"x\": \"Aug\", \"xref\": \"x\", \"y\": 2.8406430780887604, \"yref\": \"y\"}, {\"font\": {\"color\": \"black\", \"family\": \"droid-sans\", \"size\": 16}, \"showarrow\": false, \"text\": \"6%\", \"x\": \"May\", \"xref\": \"x\", \"y\": 0.08290404826402664, \"yref\": \"y\"}, {\"font\": {\"color\": \"black\", \"family\": \"droid-sans\", \"size\": 16}, \"showarrow\": false, \"text\": \"9%\", \"x\": \"May\", \"xref\": \"x\", \"y\": 0.28405705094337463, \"yref\": \"y\"}, {\"font\": {\"color\": \"black\", \"family\": \"droid-sans\", \"size\": 16}, \"showarrow\": false, \"text\": \"6%\", \"x\": \"May\", \"xref\": \"x\", \"y\": 0.4851767122745514, \"yref\": \"y\"}, {\"font\": {\"color\": \"black\", \"family\": \"droid-sans\", \"size\": 16}, \"showarrow\": false, \"text\": \"6%\", \"x\": \"May\", \"xref\": \"x\", \"y\": 0.6537057161331177, \"yref\": \"y\"}, {\"font\": {\"color\": \"black\", \"family\": \"droid-sans\", \"size\": 16}, \"showarrow\": false, \"text\": \"11%\", \"x\": \"May\", \"xref\": \"x\", \"y\": 0.8814182877540588, \"yref\": \"y\"}, {\"font\": {\"color\": \"black\", \"family\": \"droid-sans\", \"size\": 16}, \"showarrow\": false, \"text\": \"10%\", \"x\": \"May\", \"xref\": \"x\", \"y\": 1.1609908193349838, \"yref\": \"y\"}, {\"font\": {\"color\": \"black\", \"family\": \"droid-sans\", \"size\": 16}, \"showarrow\": false, \"text\": \"9%\", \"x\": \"May\", \"xref\": \"x\", \"y\": 1.4254664927721024, \"yref\": \"y\"}, {\"font\": {\"color\": \"black\", \"family\": \"droid-sans\", \"size\": 16}, \"showarrow\": false, \"text\": \"16%\", \"x\": \"May\", \"xref\": \"x\", \"y\": 1.7642392069101334, \"yref\": \"y\"}, {\"font\": {\"color\": \"black\", \"family\": \"droid-sans\", \"size\": 16}, \"showarrow\": false, \"text\": \"12%\", \"x\": \"May\", \"xref\": \"x\", \"y\": 2.1407838612794876, \"yref\": \"y\"}, {\"font\": {\"color\": \"black\", \"family\": \"droid-sans\", \"size\": 16}, \"showarrow\": false, \"text\": \"14%\", \"x\": \"May\", \"xref\": \"x\", \"y\": 2.49884270131588, \"yref\": \"y\"}, {\"font\": {\"color\": \"black\", \"family\": \"droid-sans\", \"size\": 16}, \"showarrow\": false, \"text\": \"6%\", \"x\": \"Jul\", \"xref\": \"x\", \"y\": 0.0795498937368393, \"yref\": \"y\"}, {\"font\": {\"color\": \"black\", \"family\": \"droid-sans\", \"size\": 16}, \"showarrow\": false, \"text\": \"9%\", \"x\": \"Jul\", \"xref\": \"x\", \"y\": 0.28155336529016495, \"yref\": \"y\"}, {\"font\": {\"color\": \"black\", \"family\": \"droid-sans\", \"size\": 16}, \"showarrow\": false, \"text\": \"7%\", \"x\": \"Jul\", \"xref\": \"x\", \"y\": 0.5019743889570236, \"yref\": \"y\"}, {\"font\": {\"color\": \"black\", \"family\": \"droid-sans\", \"size\": 16}, \"showarrow\": false, \"text\": \"7%\", \"x\": \"Jul\", \"xref\": \"x\", \"y\": 0.6945073455572128, \"yref\": \"y\"}, {\"font\": {\"color\": \"black\", \"family\": \"droid-sans\", \"size\": 16}, \"showarrow\": false, \"text\": \"11%\", \"x\": \"Jul\", \"xref\": \"x\", \"y\": 0.9327742010354996, \"yref\": \"y\"}, {\"font\": {\"color\": \"black\", \"family\": \"droid-sans\", \"size\": 16}, \"showarrow\": false, \"text\": \"11%\", \"x\": \"Jul\", \"xref\": \"x\", \"y\": 1.2184554636478424, \"yref\": \"y\"}, {\"font\": {\"color\": \"black\", \"family\": \"droid-sans\", \"size\": 16}, \"showarrow\": false, \"text\": \"9%\", \"x\": \"Jul\", \"xref\": \"x\", \"y\": 1.4867833405733109, \"yref\": \"y\"}, {\"font\": {\"color\": \"black\", \"family\": \"droid-sans\", \"size\": 16}, \"showarrow\": false, \"text\": \"15%\", \"x\": \"Jul\", \"xref\": \"x\", \"y\": 1.8199725598096848, \"yref\": \"y\"}, {\"font\": {\"color\": \"black\", \"family\": \"droid-sans\", \"size\": 16}, \"showarrow\": false, \"text\": \"11%\", \"x\": \"Jul\", \"xref\": \"x\", \"y\": 2.1798837780952454, \"yref\": \"y\"}, {\"font\": {\"color\": \"black\", \"family\": \"droid-sans\", \"size\": 16}, \"showarrow\": false, \"text\": \"13%\", \"x\": \"Jul\", \"xref\": \"x\", \"y\": 2.5038990825414658, \"yref\": \"y\"}, {\"font\": {\"color\": \"black\", \"family\": \"droid-sans\", \"size\": 16}, \"showarrow\": false, \"text\": \"4%\", \"x\": \"Nov\", \"xref\": \"x\", \"y\": 0.06779791414737701, \"yref\": \"y\"}, {\"font\": {\"color\": \"black\", \"family\": \"droid-sans\", \"size\": 16}, \"showarrow\": false, \"text\": \"10%\", \"x\": \"Nov\", \"xref\": \"x\", \"y\": 0.2934686094522476, \"yref\": \"y\"}, {\"font\": {\"color\": \"black\", \"family\": \"droid-sans\", \"size\": 16}, \"showarrow\": false, \"text\": \"5%\", \"x\": \"Nov\", \"xref\": \"x\", \"y\": 0.5346464142203331, \"yref\": \"y\"}, {\"font\": {\"color\": \"black\", \"family\": \"droid-sans\", \"size\": 16}, \"showarrow\": false, \"text\": \"5%\", \"x\": \"Nov\", \"xref\": \"x\", \"y\": 0.7023198530077934, \"yref\": \"y\"}, {\"font\": {\"color\": \"black\", \"family\": \"droid-sans\", \"size\": 16}, \"showarrow\": false, \"text\": \"10%\", \"x\": \"Nov\", \"xref\": \"x\", \"y\": 0.9364007413387299, \"yref\": \"y\"}, {\"font\": {\"color\": \"black\", \"family\": \"droid-sans\", \"size\": 16}, \"showarrow\": false, \"text\": \"9%\", \"x\": \"Nov\", \"xref\": \"x\", \"y\": 1.2329677492380142, \"yref\": \"y\"}, {\"font\": {\"color\": \"black\", \"family\": \"droid-sans\", \"size\": 16}, \"showarrow\": false, \"text\": \"7%\", \"x\": \"Nov\", \"xref\": \"x\", \"y\": 1.4902856945991516, \"yref\": \"y\"}, {\"font\": {\"color\": \"black\", \"family\": \"droid-sans\", \"size\": 16}, \"showarrow\": false, \"text\": \"15%\", \"x\": \"Nov\", \"xref\": \"x\", \"y\": 1.8323869109153748, \"yref\": \"y\"}, {\"font\": {\"color\": \"black\", \"family\": \"droid-sans\", \"size\": 16}, \"showarrow\": false, \"text\": \"14%\", \"x\": \"Nov\", \"xref\": \"x\", \"y\": 2.274446591734886, \"yref\": \"y\"}, {\"font\": {\"color\": \"black\", \"family\": \"droid-sans\", \"size\": 16}, \"showarrow\": false, \"text\": \"20%\", \"x\": \"Nov\", \"xref\": \"x\", \"y\": 2.7899909019470215, \"yref\": \"y\"}, {\"font\": {\"color\": \"black\", \"family\": \"droid-sans\", \"size\": 16}, \"showarrow\": false, \"text\": \"5%\", \"x\": \"Feb\", \"xref\": \"x\", \"y\": 0.07291857898235321, \"yref\": \"y\"}, {\"font\": {\"color\": \"black\", \"family\": \"droid-sans\", \"size\": 16}, \"showarrow\": false, \"text\": \"9%\", \"x\": \"Feb\", \"xref\": \"x\", \"y\": 0.285248339176178, \"yref\": \"y\"}, {\"font\": {\"color\": \"black\", \"family\": \"droid-sans\", \"size\": 16}, \"showarrow\": false, \"text\": \"6%\", \"x\": \"Feb\", \"xref\": \"x\", \"y\": 0.5137578919529915, \"yref\": \"y\"}, {\"font\": {\"color\": \"black\", \"family\": \"droid-sans\", \"size\": 16}, \"showarrow\": false, \"text\": \"6%\", \"x\": \"Feb\", \"xref\": \"x\", \"y\": 0.6993914842605591, \"yref\": \"y\"}, {\"font\": {\"color\": \"black\", \"family\": \"droid-sans\", \"size\": 16}, \"showarrow\": false, \"text\": \"9%\", \"x\": \"Feb\", \"xref\": \"x\", \"y\": 0.9343338757753372, \"yref\": \"y\"}, {\"font\": {\"color\": \"black\", \"family\": \"droid-sans\", \"size\": 16}, \"showarrow\": false, \"text\": \"12%\", \"x\": \"Feb\", \"xref\": \"x\", \"y\": 1.254538282752037, \"yref\": \"y\"}, {\"font\": {\"color\": \"black\", \"family\": \"droid-sans\", \"size\": 16}, \"showarrow\": false, \"text\": \"11%\", \"x\": \"Feb\", \"xref\": \"x\", \"y\": 1.6006196439266205, \"yref\": \"y\"}, {\"font\": {\"color\": \"black\", \"family\": \"droid-sans\", \"size\": 16}, \"showarrow\": false, \"text\": \"14%\", \"x\": \"Feb\", \"xref\": \"x\", \"y\": 1.9814077317714691, \"yref\": \"y\"}, {\"font\": {\"color\": \"black\", \"family\": \"droid-sans\", \"size\": 16}, \"showarrow\": false, \"text\": \"14%\", \"x\": \"Feb\", \"xref\": \"x\", \"y\": 2.406557083129883, \"yref\": \"y\"}, {\"font\": {\"color\": \"black\", \"family\": \"droid-sans\", \"size\": 16}, \"showarrow\": false, \"text\": \"15%\", \"x\": \"Feb\", \"xref\": \"x\", \"y\": 2.8422429859638214, \"yref\": \"y\"}, {\"font\": {\"color\": \"black\", \"family\": \"droid-sans\", \"size\": 16}, \"showarrow\": false, \"text\": \"6%\", \"x\": \"Apr\", \"xref\": \"x\", \"y\": 0.07931835949420929, \"yref\": \"y\"}, {\"font\": {\"color\": \"black\", \"family\": \"droid-sans\", \"size\": 16}, \"showarrow\": false, \"text\": \"9%\", \"x\": \"Apr\", \"xref\": \"x\", \"y\": 0.279767744243145, \"yref\": \"y\"}, {\"font\": {\"color\": \"black\", \"family\": \"droid-sans\", \"size\": 16}, \"showarrow\": false, \"text\": \"6%\", \"x\": \"Apr\", \"xref\": \"x\", \"y\": 0.48247499763965607, \"yref\": \"y\"}, {\"font\": {\"color\": \"black\", \"family\": \"droid-sans\", \"size\": 16}, \"showarrow\": false, \"text\": \"7%\", \"x\": \"Apr\", \"xref\": \"x\", \"y\": 0.6516320407390594, \"yref\": \"y\"}, {\"font\": {\"color\": \"black\", \"family\": \"droid-sans\", \"size\": 16}, \"showarrow\": false, \"text\": \"9%\", \"x\": \"Apr\", \"xref\": \"x\", \"y\": 0.8567504659295082, \"yref\": \"y\"}, {\"font\": {\"color\": \"black\", \"family\": \"droid-sans\", \"size\": 16}, \"showarrow\": false, \"text\": \"12%\", \"x\": \"Apr\", \"xref\": \"x\", \"y\": 1.1269501596689224, \"yref\": \"y\"}, {\"font\": {\"color\": \"black\", \"family\": \"droid-sans\", \"size\": 16}, \"showarrow\": false, \"text\": \"10%\", \"x\": \"Apr\", \"xref\": \"x\", \"y\": 1.4056950509548187, \"yref\": \"y\"}, {\"font\": {\"color\": \"black\", \"family\": \"droid-sans\", \"size\": 16}, \"showarrow\": false, \"text\": \"16%\", \"x\": \"Apr\", \"xref\": \"x\", \"y\": 1.7355628907680511, \"yref\": \"y\"}, {\"font\": {\"color\": \"black\", \"family\": \"droid-sans\", \"size\": 16}, \"showarrow\": false, \"text\": \"12%\", \"x\": \"Apr\", \"xref\": \"x\", \"y\": 2.0971162170171738, \"yref\": \"y\"}, {\"font\": {\"color\": \"black\", \"family\": \"droid-sans\", \"size\": 16}, \"showarrow\": false, \"text\": \"13%\", \"x\": \"Apr\", \"xref\": \"x\", \"y\": 2.4277041405439377, \"yref\": \"y\"}, {\"font\": {\"color\": \"black\", \"family\": \"droid-sans\", \"size\": 16}, \"showarrow\": false, \"text\": \"4%\", \"x\": \"Mar\", \"xref\": \"x\", \"y\": 0.06856337189674377, \"yref\": \"y\"}, {\"font\": {\"color\": \"black\", \"family\": \"droid-sans\", \"size\": 16}, \"showarrow\": false, \"text\": \"9%\", \"x\": \"Mar\", \"xref\": \"x\", \"y\": 0.28597627580165863, \"yref\": \"y\"}, {\"font\": {\"color\": \"black\", \"family\": \"droid-sans\", \"size\": 16}, \"showarrow\": false, \"text\": \"6%\", \"x\": \"Mar\", \"xref\": \"x\", \"y\": 0.5315042063593864, \"yref\": \"y\"}, {\"font\": {\"color\": \"black\", \"family\": \"droid-sans\", \"size\": 16}, \"showarrow\": false, \"text\": \"6%\", \"x\": \"Mar\", \"xref\": \"x\", \"y\": 0.7272984161973, \"yref\": \"y\"}, {\"font\": {\"color\": \"black\", \"family\": \"droid-sans\", \"size\": 16}, \"showarrow\": false, \"text\": \"9%\", \"x\": \"Mar\", \"xref\": \"x\", \"y\": 0.9746381342411041, \"yref\": \"y\"}, {\"font\": {\"color\": \"black\", \"family\": \"droid-sans\", \"size\": 16}, \"showarrow\": false, \"text\": \"12%\", \"x\": \"Mar\", \"xref\": \"x\", \"y\": 1.306051954627037, \"yref\": \"y\"}, {\"font\": {\"color\": \"black\", \"family\": \"droid-sans\", \"size\": 16}, \"showarrow\": false, \"text\": \"10%\", \"x\": \"Mar\", \"xref\": \"x\", \"y\": 1.6406068950891495, \"yref\": \"y\"}, {\"font\": {\"color\": \"black\", \"family\": \"droid-sans\", \"size\": 16}, \"showarrow\": false, \"text\": \"15%\", \"x\": \"Mar\", \"xref\": \"x\", \"y\": 2.0354358106851578, \"yref\": \"y\"}, {\"font\": {\"color\": \"black\", \"family\": \"droid-sans\", \"size\": 16}, \"showarrow\": false, \"text\": \"13%\", \"x\": \"Mar\", \"xref\": \"x\", \"y\": 2.485355421900749, \"yref\": \"y\"}, {\"font\": {\"color\": \"black\", \"family\": \"droid-sans\", \"size\": 16}, \"showarrow\": false, \"text\": \"15%\", \"x\": \"Mar\", \"xref\": \"x\", \"y\": 2.9276732355356216, \"yref\": \"y\"}, {\"font\": {\"color\": \"black\", \"family\": \"droid-sans\", \"size\": 16}, \"showarrow\": false, \"text\": \"7%\", \"x\": \"Jun\", \"xref\": \"x\", \"y\": 0.09295794367790222, \"yref\": \"y\"}, {\"font\": {\"color\": \"black\", \"family\": \"droid-sans\", \"size\": 16}, \"showarrow\": false, \"text\": \"8%\", \"x\": \"Jun\", \"xref\": \"x\", \"y\": 0.29724715650081635, \"yref\": \"y\"}, {\"font\": {\"color\": \"black\", \"family\": \"droid-sans\", \"size\": 16}, \"showarrow\": false, \"text\": \"6%\", \"x\": \"Jun\", \"xref\": \"x\", \"y\": 0.49195199459791183, \"yref\": \"y\"}, {\"font\": {\"color\": \"black\", \"family\": \"droid-sans\", \"size\": 16}, \"showarrow\": false, \"text\": \"6%\", \"x\": \"Jun\", \"xref\": \"x\", \"y\": 0.6640613898634911, \"yref\": \"y\"}, {\"font\": {\"color\": \"black\", \"family\": \"droid-sans\", \"size\": 16}, \"showarrow\": false, \"text\": \"10%\", \"x\": \"Jun\", \"xref\": \"x\", \"y\": 0.8985015004873276, \"yref\": \"y\"}, {\"font\": {\"color\": \"black\", \"family\": \"droid-sans\", \"size\": 16}, \"showarrow\": false, \"text\": \"11%\", \"x\": \"Jun\", \"xref\": \"x\", \"y\": 1.1907908469438553, \"yref\": \"y\"}, {\"font\": {\"color\": \"black\", \"family\": \"droid-sans\", \"size\": 16}, \"showarrow\": false, \"text\": \"9%\", \"x\": \"Jun\", \"xref\": \"x\", \"y\": 1.4677426517009735, \"yref\": \"y\"}, {\"font\": {\"color\": \"black\", \"family\": \"droid-sans\", \"size\": 16}, \"showarrow\": false, \"text\": \"17%\", \"x\": \"Jun\", \"xref\": \"x\", \"y\": 1.829325720667839, \"yref\": \"y\"}, {\"font\": {\"color\": \"black\", \"family\": \"droid-sans\", \"size\": 16}, \"showarrow\": false, \"text\": \"12%\", \"x\": \"Jun\", \"xref\": \"x\", \"y\": 2.2281417548656464, \"yref\": \"y\"}, {\"font\": {\"color\": \"black\", \"family\": \"droid-sans\", \"size\": 16}, \"showarrow\": false, \"text\": \"14%\", \"x\": \"Jun\", \"xref\": \"x\", \"y\": 2.590860605239868, \"yref\": \"y\"}, {\"font\": {\"color\": \"black\", \"family\": \"droid-sans\", \"size\": 16}, \"showarrow\": false, \"text\": \"5%\", \"x\": \"Sep\", \"xref\": \"x\", \"y\": 0.06801170110702515, \"yref\": \"y\"}, {\"font\": {\"color\": \"black\", \"family\": \"droid-sans\", \"size\": 16}, \"showarrow\": false, \"text\": \"9%\", \"x\": \"Sep\", \"xref\": \"x\", \"y\": 0.25644655525684357, \"yref\": \"y\"}, {\"font\": {\"color\": \"black\", \"family\": \"droid-sans\", \"size\": 16}, \"showarrow\": false, \"text\": \"6%\", \"x\": \"Sep\", \"xref\": \"x\", \"y\": 0.4590279683470726, \"yref\": \"y\"}, {\"font\": {\"color\": \"black\", \"family\": \"droid-sans\", \"size\": 16}, \"showarrow\": false, \"text\": \"6%\", \"x\": \"Sep\", \"xref\": \"x\", \"y\": 0.6316137537360191, \"yref\": \"y\"}, {\"font\": {\"color\": \"black\", \"family\": \"droid-sans\", \"size\": 16}, \"showarrow\": false, \"text\": \"9%\", \"x\": \"Sep\", \"xref\": \"x\", \"y\": 0.8502566516399384, \"yref\": \"y\"}, {\"font\": {\"color\": \"black\", \"family\": \"droid-sans\", \"size\": 16}, \"showarrow\": false, \"text\": \"10%\", \"x\": \"Sep\", \"xref\": \"x\", \"y\": 1.1219620406627655, \"yref\": \"y\"}, {\"font\": {\"color\": \"black\", \"family\": \"droid-sans\", \"size\": 16}, \"showarrow\": false, \"text\": \"9%\", \"x\": \"Sep\", \"xref\": \"x\", \"y\": 1.387827716767788, \"yref\": \"y\"}, {\"font\": {\"color\": \"black\", \"family\": \"droid-sans\", \"size\": 16}, \"showarrow\": false, \"text\": \"16%\", \"x\": \"Sep\", \"xref\": \"x\", \"y\": 1.730685144662857, \"yref\": \"y\"}, {\"font\": {\"color\": \"black\", \"family\": \"droid-sans\", \"size\": 16}, \"showarrow\": false, \"text\": \"14%\", \"x\": \"Sep\", \"xref\": \"x\", \"y\": 2.14878349006176, \"yref\": \"y\"}, {\"font\": {\"color\": \"black\", \"family\": \"droid-sans\", \"size\": 16}, \"showarrow\": false, \"text\": \"17%\", \"x\": \"Sep\", \"xref\": \"x\", \"y\": 2.5839148312807083, \"yref\": \"y\"}, {\"font\": {\"color\": \"black\", \"family\": \"droid-sans\", \"size\": 16}, \"showarrow\": false, \"text\": \"4%\", \"x\": \"Dec\", \"xref\": \"x\", \"y\": 0.09034638851881027, \"yref\": \"y\"}, {\"font\": {\"color\": \"black\", \"family\": \"droid-sans\", \"size\": 16}, \"showarrow\": false, \"text\": \"10%\", \"x\": \"Dec\", \"xref\": \"x\", \"y\": 0.39230938255786896, \"yref\": \"y\"}, {\"font\": {\"color\": \"black\", \"family\": \"droid-sans\", \"size\": 16}, \"showarrow\": false, \"text\": \"5%\", \"x\": \"Dec\", \"xref\": \"x\", \"y\": 0.7085726037621498, \"yref\": \"y\"}, {\"font\": {\"color\": \"black\", \"family\": \"droid-sans\", \"size\": 16}, \"showarrow\": false, \"text\": \"5%\", \"x\": \"Dec\", \"xref\": \"x\", \"y\": 0.9242706894874573, \"yref\": \"y\"}, {\"font\": {\"color\": \"black\", \"family\": \"droid-sans\", \"size\": 16}, \"showarrow\": false, \"text\": \"10%\", \"x\": \"Dec\", \"xref\": \"x\", \"y\": 1.2561926692724228, \"yref\": \"y\"}, {\"font\": {\"color\": \"black\", \"family\": \"droid-sans\", \"size\": 16}, \"showarrow\": false, \"text\": \"10%\", \"x\": \"Dec\", \"xref\": \"x\", \"y\": 1.6820396184921265, \"yref\": \"y\"}, {\"font\": {\"color\": \"black\", \"family\": \"droid-sans\", \"size\": 16}, \"showarrow\": false, \"text\": \"8%\", \"x\": \"Dec\", \"xref\": \"x\", \"y\": 2.0592697858810425, \"yref\": \"y\"}, {\"font\": {\"color\": \"black\", \"family\": \"droid-sans\", \"size\": 16}, \"showarrow\": false, \"text\": \"15%\", \"x\": \"Dec\", \"xref\": \"x\", \"y\": 2.544449806213379, \"yref\": \"y\"}, {\"font\": {\"color\": \"black\", \"family\": \"droid-sans\", \"size\": 16}, \"showarrow\": false, \"text\": \"12%\", \"x\": \"Dec\", \"xref\": \"x\", \"y\": 3.116155505180359, \"yref\": \"y\"}, {\"font\": {\"color\": \"black\", \"family\": \"droid-sans\", \"size\": 16}, \"showarrow\": false, \"text\": \"20%\", \"x\": \"Dec\", \"xref\": \"x\", \"y\": 3.7953756749629974, \"yref\": \"y\"}, {\"font\": {\"color\": \"black\", \"family\": \"droid-sans\", \"size\": 16}, \"showarrow\": false, \"text\": \"5%\", \"x\": \"Jan\", \"xref\": \"x\", \"y\": 0.07926344871520996, \"yref\": \"y\"}, {\"font\": {\"color\": \"black\", \"family\": \"droid-sans\", \"size\": 16}, \"showarrow\": false, \"text\": \"10%\", \"x\": \"Jan\", \"xref\": \"x\", \"y\": 0.32506339251995087, \"yref\": \"y\"}, {\"font\": {\"color\": \"black\", \"family\": \"droid-sans\", \"size\": 16}, \"showarrow\": false, \"text\": \"6%\", \"x\": \"Jan\", \"xref\": \"x\", \"y\": 0.587941974401474, \"yref\": \"y\"}, {\"font\": {\"color\": \"black\", \"family\": \"droid-sans\", \"size\": 16}, \"showarrow\": false, \"text\": \"6%\", \"x\": \"Jan\", \"xref\": \"x\", \"y\": 0.7820033729076385, \"yref\": \"y\"}, {\"font\": {\"color\": \"black\", \"family\": \"droid-sans\", \"size\": 16}, \"showarrow\": false, \"text\": \"10%\", \"x\": \"Jan\", \"xref\": \"x\", \"y\": 1.0358275324106216, \"yref\": \"y\"}, {\"font\": {\"color\": \"black\", \"family\": \"droid-sans\", \"size\": 16}, \"showarrow\": false, \"text\": \"11%\", \"x\": \"Jan\", \"xref\": \"x\", \"y\": 1.3678073436021805, \"yref\": \"y\"}, {\"font\": {\"color\": \"black\", \"family\": \"droid-sans\", \"size\": 16}, \"showarrow\": false, \"text\": \"10%\", \"x\": \"Jan\", \"xref\": \"x\", \"y\": 1.7065120190382004, \"yref\": \"y\"}, {\"font\": {\"color\": \"black\", \"family\": \"droid-sans\", \"size\": 16}, \"showarrow\": false, \"text\": \"15%\", \"x\": \"Jan\", \"xref\": \"x\", \"y\": 2.1201500594615936, \"yref\": \"y\"}, {\"font\": {\"color\": \"black\", \"family\": \"droid-sans\", \"size\": 16}, \"showarrow\": false, \"text\": \"12%\", \"x\": \"Jan\", \"xref\": \"x\", \"y\": 2.56875903904438, \"yref\": \"y\"}, {\"font\": {\"color\": \"black\", \"family\": \"droid-sans\", \"size\": 16}, \"showarrow\": false, \"text\": \"16%\", \"x\": \"Jan\", \"xref\": \"x\", \"y\": 3.024738073348999, \"yref\": \"y\"}, {\"font\": {\"color\": \"black\", \"family\": \"droid-sans\", \"size\": 16}, \"showarrow\": false, \"text\": \"5%\", \"x\": \"Oct\", \"xref\": \"x\", \"y\": 0.0674574077129364, \"yref\": \"y\"}, {\"font\": {\"color\": \"black\", \"family\": \"droid-sans\", \"size\": 16}, \"showarrow\": false, \"text\": \"11%\", \"x\": \"Oct\", \"xref\": \"x\", \"y\": 0.28107449412345886, \"yref\": \"y\"}, {\"font\": {\"color\": \"black\", \"family\": \"droid-sans\", \"size\": 16}, \"showarrow\": false, \"text\": \"6%\", \"x\": \"Oct\", \"xref\": \"x\", \"y\": 0.5065120682120323, \"yref\": \"y\"}, {\"font\": {\"color\": \"black\", \"family\": \"droid-sans\", \"size\": 16}, \"showarrow\": false, \"text\": \"7%\", \"x\": \"Oct\", \"xref\": \"x\", \"y\": 0.6821748912334442, \"yref\": \"y\"}, {\"font\": {\"color\": \"black\", \"family\": \"droid-sans\", \"size\": 16}, \"showarrow\": false, \"text\": \"10%\", \"x\": \"Oct\", \"xref\": \"x\", \"y\": 0.9117849916219711, \"yref\": \"y\"}, {\"font\": {\"color\": \"black\", \"family\": \"droid-sans\", \"size\": 16}, \"showarrow\": false, \"text\": \"10%\", \"x\": \"Oct\", \"xref\": \"x\", \"y\": 1.1835214346647263, \"yref\": \"y\"}, {\"font\": {\"color\": \"black\", \"family\": \"droid-sans\", \"size\": 16}, \"showarrow\": false, \"text\": \"9%\", \"x\": \"Oct\", \"xref\": \"x\", \"y\": 1.4389209225773811, \"yref\": \"y\"}, {\"font\": {\"color\": \"black\", \"family\": \"droid-sans\", \"size\": 16}, \"showarrow\": false, \"text\": \"16%\", \"x\": \"Oct\", \"xref\": \"x\", \"y\": 1.7734133899211884, \"yref\": \"y\"}, {\"font\": {\"color\": \"black\", \"family\": \"droid-sans\", \"size\": 16}, \"showarrow\": false, \"text\": \"12%\", \"x\": \"Oct\", \"xref\": \"x\", \"y\": 2.1624394059181213, \"yref\": \"y\"}, {\"font\": {\"color\": \"black\", \"family\": \"droid-sans\", \"size\": 16}, \"showarrow\": false, \"text\": \"15%\", \"x\": \"Oct\", \"xref\": \"x\", \"y\": 2.5398970395326614, \"yref\": \"y\"}], \"barmode\": \"relative\", \"coloraxis\": {\"colorbar\": {\"title\": {\"text\": \"Binned Item Price\"}}, \"colorscale\": [[0.0, \"rgb(12,51,131)\"], [0.25, \"rgb(10,136,186)\"], [0.5, \"rgb(242,211,56)\"], [0.75, \"rgb(242,143,56)\"], [1.0, \"rgb(217,30,30)\"]]}, \"height\": 800, \"legend\": {\"tracegroupgap\": 0}, \"margin\": {\"t\": 60}, \"template\": {\"data\": {\"bar\": [{\"error_x\": {\"color\": \"rgb(51,51,51)\"}, \"error_y\": {\"color\": \"rgb(51,51,51)\"}, \"marker\": {\"line\": {\"color\": \"rgb(237,237,237)\", \"width\": 0.5}}, \"type\": \"bar\"}], \"barpolar\": [{\"marker\": {\"line\": {\"color\": \"rgb(237,237,237)\", \"width\": 0.5}}, \"type\": \"barpolar\"}], \"carpet\": [{\"aaxis\": {\"endlinecolor\": \"rgb(51,51,51)\", \"gridcolor\": \"white\", \"linecolor\": \"white\", \"minorgridcolor\": \"white\", \"startlinecolor\": \"rgb(51,51,51)\"}, \"baxis\": {\"endlinecolor\": \"rgb(51,51,51)\", \"gridcolor\": \"white\", \"linecolor\": \"white\", \"minorgridcolor\": \"white\", \"startlinecolor\": \"rgb(51,51,51)\"}, \"type\": \"carpet\"}], \"choropleth\": [{\"colorbar\": {\"outlinewidth\": 0, \"tickcolor\": \"rgb(237,237,237)\", \"ticklen\": 6, \"ticks\": \"inside\"}, \"type\": \"choropleth\"}], \"contour\": [{\"colorbar\": {\"outlinewidth\": 0, \"tickcolor\": \"rgb(237,237,237)\", \"ticklen\": 6, \"ticks\": \"inside\"}, \"colorscale\": [[0, \"rgb(20,44,66)\"], [1, \"rgb(90,179,244)\"]], \"type\": \"contour\"}], \"contourcarpet\": [{\"colorbar\": {\"outlinewidth\": 0, \"tickcolor\": \"rgb(237,237,237)\", \"ticklen\": 6, \"ticks\": \"inside\"}, \"type\": \"contourcarpet\"}], \"heatmap\": [{\"colorbar\": {\"outlinewidth\": 0, \"tickcolor\": \"rgb(237,237,237)\", \"ticklen\": 6, \"ticks\": \"inside\"}, \"colorscale\": [[0, \"rgb(20,44,66)\"], [1, \"rgb(90,179,244)\"]], \"type\": \"heatmap\"}], \"heatmapgl\": [{\"colorbar\": {\"outlinewidth\": 0, \"tickcolor\": \"rgb(237,237,237)\", \"ticklen\": 6, \"ticks\": \"inside\"}, \"colorscale\": [[0, \"rgb(20,44,66)\"], [1, \"rgb(90,179,244)\"]], \"type\": \"heatmapgl\"}], \"histogram\": [{\"marker\": {\"colorbar\": {\"outlinewidth\": 0, \"tickcolor\": \"rgb(237,237,237)\", \"ticklen\": 6, \"ticks\": \"inside\"}}, \"type\": \"histogram\"}], \"histogram2d\": [{\"colorbar\": {\"outlinewidth\": 0, \"tickcolor\": \"rgb(237,237,237)\", \"ticklen\": 6, \"ticks\": \"inside\"}, \"colorscale\": [[0, \"rgb(20,44,66)\"], [1, \"rgb(90,179,244)\"]], \"type\": \"histogram2d\"}], \"histogram2dcontour\": [{\"colorbar\": {\"outlinewidth\": 0, \"tickcolor\": \"rgb(237,237,237)\", \"ticklen\": 6, \"ticks\": \"inside\"}, \"colorscale\": [[0, \"rgb(20,44,66)\"], [1, \"rgb(90,179,244)\"]], \"type\": \"histogram2dcontour\"}], \"mesh3d\": [{\"colorbar\": {\"outlinewidth\": 0, \"tickcolor\": \"rgb(237,237,237)\", \"ticklen\": 6, \"ticks\": \"inside\"}, \"type\": \"mesh3d\"}], \"parcoords\": [{\"line\": {\"colorbar\": {\"outlinewidth\": 0, \"tickcolor\": \"rgb(237,237,237)\", \"ticklen\": 6, \"ticks\": \"inside\"}}, \"type\": \"parcoords\"}], \"pie\": [{\"automargin\": true, \"type\": \"pie\"}], \"scatter\": [{\"marker\": {\"colorbar\": {\"outlinewidth\": 0, \"tickcolor\": \"rgb(237,237,237)\", \"ticklen\": 6, \"ticks\": \"inside\"}}, \"type\": \"scatter\"}], \"scatter3d\": [{\"line\": {\"colorbar\": {\"outlinewidth\": 0, \"tickcolor\": \"rgb(237,237,237)\", \"ticklen\": 6, \"ticks\": \"inside\"}}, \"marker\": {\"colorbar\": {\"outlinewidth\": 0, \"tickcolor\": \"rgb(237,237,237)\", \"ticklen\": 6, \"ticks\": \"inside\"}}, \"type\": \"scatter3d\"}], \"scattercarpet\": [{\"marker\": {\"colorbar\": {\"outlinewidth\": 0, \"tickcolor\": \"rgb(237,237,237)\", \"ticklen\": 6, \"ticks\": \"inside\"}}, \"type\": \"scattercarpet\"}], \"scattergeo\": [{\"marker\": {\"colorbar\": {\"outlinewidth\": 0, \"tickcolor\": \"rgb(237,237,237)\", \"ticklen\": 6, \"ticks\": \"inside\"}}, \"type\": \"scattergeo\"}], \"scattergl\": [{\"marker\": {\"colorbar\": {\"outlinewidth\": 0, \"tickcolor\": \"rgb(237,237,237)\", \"ticklen\": 6, \"ticks\": \"inside\"}}, \"type\": \"scattergl\"}], \"scattermapbox\": [{\"marker\": {\"colorbar\": {\"outlinewidth\": 0, \"tickcolor\": \"rgb(237,237,237)\", \"ticklen\": 6, \"ticks\": \"inside\"}}, \"type\": \"scattermapbox\"}], \"scatterpolar\": [{\"marker\": {\"colorbar\": {\"outlinewidth\": 0, \"tickcolor\": \"rgb(237,237,237)\", \"ticklen\": 6, \"ticks\": \"inside\"}}, \"type\": \"scatterpolar\"}], \"scatterpolargl\": [{\"marker\": {\"colorbar\": {\"outlinewidth\": 0, \"tickcolor\": \"rgb(237,237,237)\", \"ticklen\": 6, \"ticks\": \"inside\"}}, \"type\": \"scatterpolargl\"}], \"scatterternary\": [{\"marker\": {\"colorbar\": {\"outlinewidth\": 0, \"tickcolor\": \"rgb(237,237,237)\", \"ticklen\": 6, \"ticks\": \"inside\"}}, \"type\": \"scatterternary\"}], \"surface\": [{\"colorbar\": {\"outlinewidth\": 0, \"tickcolor\": \"rgb(237,237,237)\", \"ticklen\": 6, \"ticks\": \"inside\"}, \"colorscale\": [[0, \"rgb(20,44,66)\"], [1, \"rgb(90,179,244)\"]], \"type\": \"surface\"}], \"table\": [{\"cells\": {\"fill\": {\"color\": \"rgb(237,237,237)\"}, \"line\": {\"color\": \"white\"}}, \"header\": {\"fill\": {\"color\": \"rgb(217,217,217)\"}, \"line\": {\"color\": \"white\"}}, \"type\": \"table\"}]}, \"layout\": {\"annotationdefaults\": {\"arrowhead\": 0, \"arrowwidth\": 1}, \"coloraxis\": {\"colorbar\": {\"outlinewidth\": 0, \"tickcolor\": \"rgb(237,237,237)\", \"ticklen\": 6, \"ticks\": \"inside\"}}, \"colorscale\": {\"sequential\": [[0, \"rgb(20,44,66)\"], [1, \"rgb(90,179,244)\"]], \"sequentialminus\": [[0, \"rgb(20,44,66)\"], [1, \"rgb(90,179,244)\"]]}, \"colorway\": [\"#F8766D\", \"#A3A500\", \"#00BF7D\", \"#00B0F6\", \"#E76BF3\"], \"font\": {\"color\": \"rgb(51,51,51)\"}, \"geo\": {\"bgcolor\": \"white\", \"lakecolor\": \"white\", \"landcolor\": \"rgb(237,237,237)\", \"showlakes\": true, \"showland\": true, \"subunitcolor\": \"white\"}, \"hoverlabel\": {\"align\": \"left\"}, \"hovermode\": \"closest\", \"paper_bgcolor\": \"white\", \"plot_bgcolor\": \"rgb(237,237,237)\", \"polar\": {\"angularaxis\": {\"gridcolor\": \"white\", \"linecolor\": \"white\", \"showgrid\": true, \"tickcolor\": \"rgb(51,51,51)\", \"ticks\": \"outside\"}, \"bgcolor\": \"rgb(237,237,237)\", \"radialaxis\": {\"gridcolor\": \"white\", \"linecolor\": \"white\", \"showgrid\": true, \"tickcolor\": \"rgb(51,51,51)\", \"ticks\": \"outside\"}}, \"scene\": {\"xaxis\": {\"backgroundcolor\": \"rgb(237,237,237)\", \"gridcolor\": \"white\", \"gridwidth\": 2, \"linecolor\": \"white\", \"showbackground\": true, \"showgrid\": true, \"tickcolor\": \"rgb(51,51,51)\", \"ticks\": \"outside\", \"zerolinecolor\": \"white\"}, \"yaxis\": {\"backgroundcolor\": \"rgb(237,237,237)\", \"gridcolor\": \"white\", \"gridwidth\": 2, \"linecolor\": \"white\", \"showbackground\": true, \"showgrid\": true, \"tickcolor\": \"rgb(51,51,51)\", \"ticks\": \"outside\", \"zerolinecolor\": \"white\"}, \"zaxis\": {\"backgroundcolor\": \"rgb(237,237,237)\", \"gridcolor\": \"white\", \"gridwidth\": 2, \"linecolor\": \"white\", \"showbackground\": true, \"showgrid\": true, \"tickcolor\": \"rgb(51,51,51)\", \"ticks\": \"outside\", \"zerolinecolor\": \"white\"}}, \"shapedefaults\": {\"fillcolor\": \"black\", \"line\": {\"width\": 0}, \"opacity\": 0.3}, \"ternary\": {\"aaxis\": {\"gridcolor\": \"white\", \"linecolor\": \"white\", \"showgrid\": true, \"tickcolor\": \"rgb(51,51,51)\", \"ticks\": \"outside\"}, \"baxis\": {\"gridcolor\": \"white\", \"linecolor\": \"white\", \"showgrid\": true, \"tickcolor\": \"rgb(51,51,51)\", \"ticks\": \"outside\"}, \"bgcolor\": \"rgb(237,237,237)\", \"caxis\": {\"gridcolor\": \"white\", \"linecolor\": \"white\", \"showgrid\": true, \"tickcolor\": \"rgb(51,51,51)\", \"ticks\": \"outside\"}}, \"xaxis\": {\"automargin\": true, \"gridcolor\": \"white\", \"linecolor\": \"white\", \"showgrid\": true, \"tickcolor\": \"rgb(51,51,51)\", \"ticks\": \"outside\", \"title\": {\"standoff\": 15}, \"zerolinecolor\": \"white\"}, \"yaxis\": {\"automargin\": true, \"gridcolor\": \"white\", \"linecolor\": \"white\", \"showgrid\": true, \"tickcolor\": \"rgb(51,51,51)\", \"ticks\": \"outside\", \"title\": {\"standoff\": 15}, \"zerolinecolor\": \"white\"}}}, \"title\": {\"font\": {\"color\": \"darkslateblue\", \"size\": 20}, \"text\": \"Average Sales per Month and Binned Item Price\"}, \"width\": 800, \"xaxis\": {\"anchor\": \"y\", \"categoryarray\": [\"Jan\", \"Feb\", \"Mar\", \"Apr\", \"May\", \"Jun\", \"Jul\", \"Aug\", \"Sep\", \"Oct\", \"Nov\", \"Dec\"], \"categoryorder\": \"array\", \"domain\": [0.0, 1.0], \"tickfont\": {\"size\": 16}, \"title\": {\"font\": {\"size\": 20}, \"text\": \"Month of Sale\"}}, \"yaxis\": {\"anchor\": \"x\", \"domain\": [0.0, 1.0], \"nticks\": 10, \"tickfont\": {\"size\": 16}, \"title\": {\"font\": {\"size\": 20}, \"text\": \"Avg Units Sold\"}}},                        {\"responsive\": true}                    ).then(function(){\n",
       "                            \n",
       "var gd = document.getElementById('478064f3-af7d-40e9-8816-70a9c7542a0e');\n",
       "var x = new MutationObserver(function (mutations, observer) {{\n",
       "        var display = window.getComputedStyle(gd).display;\n",
       "        if (!display || display === 'none') {{\n",
       "            console.log([gd, 'removed!']);\n",
       "            Plotly.purge(gd);\n",
       "            observer.disconnect();\n",
       "        }}\n",
       "}});\n",
       "\n",
       "// Listen for the removal of the full notebook cells\n",
       "var notebookContainer = gd.closest('#notebook-container');\n",
       "if (notebookContainer) {{\n",
       "    x.observe(notebookContainer, {childList: true});\n",
       "}}\n",
       "\n",
       "// Listen for the clearing of the current output cell\n",
       "var outputEl = gd.closest('.output');\n",
       "if (outputEl) {{\n",
       "    x.observe(outputEl, {childList: true});\n",
       "}}\n",
       "\n",
       "                        })                };                });            </script>        </div>"
      ]
     },
     "metadata": {},
     "output_type": "display_data"
    }
   ],
   "source": [
    "def plot_sales_per_bin(bin_edges):\n",
    "\n",
    "    vizdata = (\n",
    "        df.loc[df[\"train\"] == 1]\n",
    "        .groupby(by=[\"binned_item_price\", \"month\"], as_index=False)\n",
    "        .mean()\n",
    "    )\n",
    "    vizdata[\"binned_item_price\"] = vizdata[\"binned_item_price\"].map(bin_edges)\n",
    "\n",
    "    fig = go.Figure(\n",
    "        px.bar(\n",
    "            data_frame=vizdata,\n",
    "            y=\"item_cnt_month\",\n",
    "            x=\"month\",\n",
    "            labels={\"binned_item_price\": \"Binned Item Price\"},\n",
    "            opacity=0.6,\n",
    "            color=\"binned_item_price\",\n",
    "            color_continuous_scale=px.colors.diverging.Portland,\n",
    "            orientation=\"v\",\n",
    "        )\n",
    "    )\n",
    "\n",
    "    fig.update_xaxes(\n",
    "        title_text=\"Month of Sale\", titlefont=dict(size=20), tickfont=dict(size=16)\n",
    "    )\n",
    "    fig.update_yaxes(\n",
    "        title_text=\"Avg Units Sold\",\n",
    "        titlefont=dict(size=20),\n",
    "        tickfont=dict(size=16),\n",
    "        nticks=10,\n",
    "    )\n",
    "    fig.update_layout(\n",
    "        title=go.layout.Title(\n",
    "            text=\"Average Sales per Month and Binned Item Price\",\n",
    "            font=dict(size=20, color=\"darkslateblue\"),\n",
    "        )\n",
    "    )\n",
    "\n",
    "    annot = []\n",
    "\n",
    "    for x in set(vizdata[\"month\"]):\n",
    "        record = vizdata.loc[vizdata[\"month\"] == x]\n",
    "        yd = record[\"item_cnt_month\"].values\n",
    "\n",
    "        space = 0\n",
    "        for n in range(10):\n",
    "            annot.append(\n",
    "                dict(\n",
    "                    xref=\"x\",\n",
    "                    yref=\"y\",\n",
    "                    y=space + yd[n] / 2,\n",
    "                    x=x,\n",
    "                    text=\"{0:.0%}\".format(yd[n] / yd.sum()),\n",
    "                    font=dict(size=16, color=\"black\", family=\"droid-sans\"),\n",
    "                    showarrow=False,\n",
    "                )\n",
    "            )\n",
    "            space += yd[n]\n",
    "\n",
    "    fig.update_layout(\n",
    "        height=800,\n",
    "        width=800,\n",
    "        template=\"ggplot2\",\n",
    "        annotations=annot,\n",
    "        xaxis=dict(categoryarray=months, categoryorder=\"array\"),\n",
    "    )\n",
    "\n",
    "    return fig\n",
    "\n",
    "\n",
    "plot_sales_per_bin(bin_edges).show()\n"
   ]
  },
  {
   "cell_type": "markdown",
   "metadata": {
    "papermill": {
     "duration": 0.088569,
     "end_time": "2020-10-12T08:37:50.405903",
     "exception": false,
     "start_time": "2020-10-12T08:37:50.317334",
     "status": "completed"
    },
    "tags": []
   },
   "source": [
    "It's quite interesting to see that the demand for the most expensive items increase considerably during winter/holiday season."
   ]
  },
  {
   "cell_type": "markdown",
   "metadata": {
    "papermill": {
     "duration": 0.087088,
     "end_time": "2020-10-12T08:37:50.579691",
     "exception": false,
     "start_time": "2020-10-12T08:37:50.492603",
     "status": "completed"
    },
    "tags": []
   },
   "source": [
    "# Setting Lag Features\n",
    "\n",
    "The intent here is to reframe/convert the problem from time-series forecasting to supervised learning.<br> I will establish lag features (numbers representing sales from previous date block) to achieve that.<br><br> In addition, to have the model capture seasonality, I am establishing per month average sales."
   ]
  },
  {
   "cell_type": "code",
   "execution_count": 38,
   "metadata": {
    "execution": {
     "iopub.execute_input": "2020-10-12T08:37:50.784623Z",
     "iopub.status.busy": "2020-10-12T08:37:50.783575Z",
     "iopub.status.idle": "2020-10-12T08:41:16.933287Z",
     "shell.execute_reply": "2020-10-12T08:41:16.932604Z"
    },
    "papermill": {
     "duration": 206.266709,
     "end_time": "2020-10-12T08:41:16.933413",
     "exception": false,
     "start_time": "2020-10-12T08:37:50.666704",
     "status": "completed"
    },
    "tags": []
   },
   "outputs": [],
   "source": [
    "def set_lag_features(df):\n",
    "    # Determine whether a record indicates first sale for the item/shop\n",
    "    item_firstsale = (\n",
    "        df[df[\"item_cnt_month\"] > 0]\n",
    "        .groupby(by=[\"item_id\", \"shop_id\"])[\"date_block_num\"]\n",
    "        .min()\n",
    "    )\n",
    "    df[\"item_firstsale_month\"] = df.set_index([\"item_id\", \"shop_id\"]).index.map(\n",
    "        item_firstsale\n",
    "    )\n",
    "    df[\"item_first_sale\"] = 0\n",
    "    df.loc[df[\"item_firstsale_month\"] == df[\"date_block_num\"], \"item_first_sale\"] = 1\n",
    "    df.drop(columns=[\"item_firstsale_month\"], inplace=True)\n",
    "\n",
    "    # Average sales by month(**not dateblock**) across 3 years. Capturing seasonality within a year here.\n",
    "    cat_avg_sales_month = (\n",
    "        df[df[\"train\"] == 1]\n",
    "        .groupby(by=[\"item_cat_id\", \"shop_id\", \"month\"])[\"item_cnt_month\"]\n",
    "        .mean()\n",
    "    )\n",
    "    item_avg_sales_month = (\n",
    "        df[df[\"train\"] == 1]\n",
    "        .groupby(by=[\"item_id\", \"shop_id\", \"month\"])[\"item_cnt_month\"]\n",
    "        .mean()\n",
    "    )\n",
    "    shop_avg_sales_month = (\n",
    "        df[df[\"train\"] == 1].groupby(by=[\"shop_id\", \"month\"])[\"item_cnt_month\"].mean()\n",
    "    )\n",
    "    df[\"cat_avg_sales_month\"] = df.set_index(\n",
    "        [\"item_cat_id\", \"shop_id\", \"month\"]\n",
    "    ).index.map(cat_avg_sales_month)\n",
    "    df[\"item_avg_sales_month\"] = df.set_index(\n",
    "        [\"item_id\", \"shop_id\", \"month\"]\n",
    "    ).index.map(item_avg_sales_month)\n",
    "    df[\"shop_avg_sales_month\"] = df.set_index([\"shop_id\", \"month\"]).index.map(\n",
    "        shop_avg_sales_month\n",
    "    )\n",
    "\n",
    "    df[df[\"train\"] == 1] = df[df[\"train\"] == 1].sort_values(by=[\"date_block_num\"])\n",
    "\n",
    "    # Establish lag features for the previous 3 months - item_cnt_month\n",
    "    df[\"item_cnt_month_t-1\"] = (\n",
    "        df.groupby(by=[\"item_id\", \"shop_id\"], sort=False)[\"item_cnt_month\"]\n",
    "        .shift(1)\n",
    "        .values\n",
    "    )\n",
    "    df[\"item_cnt_month_t-2\"] = (\n",
    "        df.groupby(by=[\"item_id\", \"shop_id\"], sort=False)[\"item_cnt_month\"]\n",
    "        .shift(2)\n",
    "        .values\n",
    "    )\n",
    "    df[\"item_cnt_month_t-3\"] = (\n",
    "        df.groupby(by=[\"item_id\", \"shop_id\"], sort=False)[\"item_cnt_month\"]\n",
    "        .shift(3)\n",
    "        .values\n",
    "    )\n",
    "    # Establish lag features for the previous 3 months - item_avg_sales_month\n",
    "    df[\"item_avg_sales_month_t-1\"] = (\n",
    "        df.groupby(by=[\"item_id\", \"shop_id\"], sort=False)[\"item_avg_sales_month\"]\n",
    "        .shift(1)\n",
    "        .values\n",
    "    )\n",
    "    df[\"item_avg_sales_month_t-2\"] = (\n",
    "        df.groupby(by=[\"item_id\", \"shop_id\"], sort=False)[\"item_avg_sales_month\"]\n",
    "        .shift(2)\n",
    "        .values\n",
    "    )\n",
    "    df[\"item_avg_sales_month_t-3\"] = (\n",
    "        df.groupby(by=[\"item_id\", \"shop_id\"], sort=False)[\"item_avg_sales_month\"]\n",
    "        .shift(3)\n",
    "        .values\n",
    "    )\n",
    "    # Establish lag features for the previous 3 months - cat_avg_sales_month\n",
    "    df[\"cat_avg_month_t-1\"] = (\n",
    "        df.groupby(by=[\"item_id\", \"shop_id\"], sort=False)[\"cat_avg_sales_month\"]\n",
    "        .shift(1)\n",
    "        .values\n",
    "    )\n",
    "    df[\"cat_avg_month_t-2\"] = (\n",
    "        df.groupby(by=[\"item_id\", \"shop_id\"], sort=False)[\"cat_avg_sales_month\"]\n",
    "        .shift(2)\n",
    "        .values\n",
    "    )\n",
    "    df[\"cat_avg_month_t-3\"] = (\n",
    "        df.groupby(by=[\"item_id\", \"shop_id\"], sort=False)[\"cat_avg_sales_month\"]\n",
    "        .shift(3)\n",
    "        .values\n",
    "    )\n",
    "    # Establish lag features for the previous 3 months - shop_avg_sales_month\n",
    "    df[\"shop_avg_month_t-1\"] = (\n",
    "        df.groupby(by=[\"item_id\", \"shop_id\"], sort=False)[\"shop_avg_sales_month\"]\n",
    "        .shift(1)\n",
    "        .values\n",
    "    )\n",
    "    df[\"shop_avg_month_t-2\"] = (\n",
    "        df.groupby(by=[\"item_id\", \"shop_id\"], sort=False)[\"shop_avg_sales_month\"]\n",
    "        .shift(2)\n",
    "        .values\n",
    "    )\n",
    "    df[\"shop_avg_month_t-3\"] = (\n",
    "        df.groupby(by=[\"item_id\", \"shop_id\"], sort=False)[\"shop_avg_sales_month\"]\n",
    "        .shift(3)\n",
    "        .values\n",
    "    )\n",
    "    \n",
    "    # Establishing lag features create a lot of nan, fill those nan with 0\n",
    "    return df.fillna(0)\n",
    "\n",
    "\n",
    "df = set_lag_features(df)"
   ]
  },
  {
   "cell_type": "markdown",
   "metadata": {
    "papermill": {
     "duration": 0.087597,
     "end_time": "2020-10-12T08:41:17.109368",
     "exception": false,
     "start_time": "2020-10-12T08:41:17.021771",
     "status": "completed"
    },
    "tags": []
   },
   "source": [
    "# Identifying Similar Items\n",
    "\n",
    "Calculating cosine similarities of item descriptions.<br> The idea here is that the items with similar vector directions have similar descriptions, therefore they are similar items (and may share similar sales trends). This hopefully helps the model forecast sales for items with no history.\n",
    "<br>I identify 3 most similar items to each item in the dataset. The similar items will be used for target encoding."
   ]
  },
  {
   "cell_type": "code",
   "execution_count": 39,
   "metadata": {
    "execution": {
     "iopub.execute_input": "2020-10-12T08:41:17.300219Z",
     "iopub.status.busy": "2020-10-12T08:41:17.299556Z",
     "iopub.status.idle": "2020-10-12T08:41:59.154311Z",
     "shell.execute_reply": "2020-10-12T08:41:59.155112Z"
    },
    "papermill": {
     "duration": 41.958929,
     "end_time": "2020-10-12T08:41:59.155353",
     "exception": false,
     "start_time": "2020-10-12T08:41:17.196424",
     "status": "completed"
    },
    "tags": []
   },
   "outputs": [],
   "source": [
    "def set_similar_items(df):\n",
    "    itemstranslated = pd.read_csv(\"../input/filestranslated/items-translated.csv\")\n",
    "\n",
    "    itemdf = pd.DataFrame(\n",
    "        columns=[\"item_id\", \"item_description\"], data=itemstranslated.values\n",
    "    )\n",
    "\n",
    "    # Obtain a corpus of item descriptions\n",
    "    corpus = list(itemdf[\"item_description\"].values)\n",
    "\n",
    "    # Vectorize each item description and calculate cosine similarity between each item/item combination, then store that info in a matrix.\n",
    "    vectorizer = TfidfVectorizer()\n",
    "    X = vectorizer.fit_transform(corpus)\n",
    "    cosine_similarities = pd.DataFrame(\n",
    "        cosine_similarity(X), index=itemdf[\"item_id\"], columns=itemdf[\"item_id\"]\n",
    "    )\n",
    "\n",
    "    # Pick the top 3 most similar items for each item\n",
    "    similar_items = []\n",
    "    for i in cosine_similarities.columns:\n",
    "        similar = np.append(cosine_similarities[i].nlargest(4)[1:].index.values, i)\n",
    "        similar_items.append(similar)\n",
    "    similar_items = pd.DataFrame(\n",
    "        np.vstack(similar_items),\n",
    "        columns=[\"similar_item1\", \"similar_item2\", \"similar_item3\", \"item_id\"],\n",
    "    )\n",
    "\n",
    "    # Append the similar item information back to our dataframe\n",
    "    sim1 = dict(zip(similar_items[\"item_id\"], similar_items[\"similar_item1\"]))\n",
    "    sim2 = dict(zip(similar_items[\"item_id\"], similar_items[\"similar_item2\"]))\n",
    "    sim3 = dict(zip(similar_items[\"item_id\"], similar_items[\"similar_item3\"]))\n",
    "    df[\"similar_item1\"] = df[\"item_id\"].map(sim1)\n",
    "    df[\"similar_item2\"] = df[\"item_id\"].map(sim2)\n",
    "    df[\"similar_item3\"] = df[\"item_id\"].map(sim3)\n",
    "\n",
    "    return df\n",
    "\n",
    "\n",
    "df = set_similar_items(df)\n"
   ]
  },
  {
   "cell_type": "code",
   "execution_count": 40,
   "metadata": {
    "execution": {
     "iopub.execute_input": "2020-10-12T08:41:59.459053Z",
     "iopub.status.busy": "2020-10-12T08:41:59.457838Z",
     "iopub.status.idle": "2020-10-12T08:42:22.579277Z",
     "shell.execute_reply": "2020-10-12T08:42:22.578570Z"
    },
    "papermill": {
     "duration": 23.28474,
     "end_time": "2020-10-12T08:42:22.579391",
     "exception": false,
     "start_time": "2020-10-12T08:41:59.294651",
     "status": "completed"
    },
    "tags": []
   },
   "outputs": [
    {
     "name": "stdout",
     "output_type": "stream",
     "text": [
      "Memory use: \n",
      "                            |before downcast|  |after downcast|  |reduction (%)|\n",
      "Index                                   128               128             0.00\n",
      "item_id                            22256008          22256008             0.00\n",
      "shop_id                            11128004          11128004             0.00\n",
      "date_block_num                     11128004          11128004             0.00\n",
      "item_cnt_month                     44512016          44512016             0.00\n",
      "item_price                         44512016          44512016             0.00\n",
      "train                              11128004          11128004             0.00\n",
      "item_cat_id                        11128004          11128004             0.00\n",
      "item_cat_name                      89024032          89024032             0.00\n",
      "shop_name                          89024032          89024032             0.00\n",
      "month                              89024032          89024032             0.00\n",
      "year                               89024032          89024032             0.00\n",
      "item_cat_group                     89024032          89024032             0.00\n",
      "city                               89024032          89024032             0.00\n",
      "binned_item_price                  89024032          44512016            50.00\n",
      "item_first_sale                    89024032          11128004            87.50\n",
      "cat_avg_sales_month                89024032          44512016            50.00\n",
      "item_avg_sales_month               89024032          44512016            50.00\n",
      "shop_avg_sales_month               89024032          44512016            50.00\n",
      "item_cnt_month_t-1                 44512016          44512016             0.00\n",
      "item_cnt_month_t-2                 44512016          44512016             0.00\n",
      "item_cnt_month_t-3                 44512016          44512016             0.00\n",
      "item_avg_sales_month_t-1           89024032          44512016            50.00\n",
      "item_avg_sales_month_t-2           89024032          44512016            50.00\n",
      "item_avg_sales_month_t-3           89024032          44512016            50.00\n",
      "cat_avg_month_t-1                  89024032          44512016            50.00\n",
      "cat_avg_month_t-2                  89024032          44512016            50.00\n",
      "cat_avg_month_t-3                  89024032          44512016            50.00\n",
      "shop_avg_month_t-1                 89024032          44512016            50.00\n",
      "shop_avg_month_t-2                 89024032          44512016            50.00\n",
      "shop_avg_month_t-3                 89024032          44512016            50.00\n",
      "similar_item1                      89024032          22256008            75.00\n",
      "similar_item2                      89024032          22256008            75.00\n",
      "similar_item3                      89024032          22256008            75.00\n",
      "\n",
      "\n"
     ]
    }
   ],
   "source": [
    "df = downcast_df(df)"
   ]
  },
  {
   "cell_type": "markdown",
   "metadata": {
    "papermill": {
     "duration": 0.088417,
     "end_time": "2020-10-12T08:42:22.756458",
     "exception": false,
     "start_time": "2020-10-12T08:42:22.668041",
     "status": "completed"
    },
    "tags": []
   },
   "source": [
    "Target encoding is a relatively memory-heavy operation.<br>\n",
    "Thus, I am to see if there are any large objects that can be deleted to open up space before target encoding."
   ]
  },
  {
   "cell_type": "code",
   "execution_count": 41,
   "metadata": {
    "execution": {
     "iopub.execute_input": "2020-10-12T08:42:35.970614Z",
     "iopub.status.busy": "2020-10-12T08:42:35.964410Z",
     "iopub.status.idle": "2020-10-12T08:42:35.977546Z",
     "shell.execute_reply": "2020-10-12T08:42:35.976565Z"
    },
    "papermill": {
     "duration": 13.132887,
     "end_time": "2020-10-12T08:42:35.977676",
     "exception": false,
     "start_time": "2020-10-12T08:42:22.844789",
     "status": "completed"
    },
    "tags": []
   },
   "outputs": [
    {
     "data": {
      "text/plain": [
       "[('df', 6521606354),\n",
       " ('TfidfVectorizer', 2008),\n",
       " ('KBinsDiscretizer', 1192),\n",
       " ('StandardScaler', 1064),\n",
       " ('XGBRegressor', 1064),\n",
       " ('product', 400),\n",
       " ('bin_edges', 376),\n",
       " ('months', 168),\n",
       " ('bin_prices', 144),\n",
       " ('cosine_similarity', 144),\n",
       " ('downcast_df', 144),\n",
       " ('extend_train', 144),\n",
       " ('get_cat_shop_date_info', 144),\n",
       " ('get_nan_count', 144),\n",
       " ('impute_test_prices', 144),\n",
       " ('make_subplots', 144),\n",
       " ('map_cat_shop', 144),\n",
       " ('plot_combined', 144),\n",
       " ('plot_counts', 144),\n",
       " ('plot_for_outlier', 144),\n",
       " ('plot_grouped_features', 144),\n",
       " ('plot_importance', 144),\n",
       " ('plot_price_per_cat_shop', 144),\n",
       " ('plot_sales_per_bin', 144),\n",
       " ('plot_sales_per_dblock', 144),\n",
       " ('plot_sales_per_mo_qu_yr', 144),\n",
       " ('plot_value_counts', 144),\n",
       " ('set_lag_features', 144),\n",
       " ('set_similar_items', 144),\n",
       " ('go', 88),\n",
       " ('mticker', 88),\n",
       " ('np', 88),\n",
       " ('pd', 88),\n",
       " ('plt', 88),\n",
       " ('px', 88),\n",
       " ('sns', 88)]"
      ]
     },
     "execution_count": 41,
     "metadata": {},
     "output_type": "execute_result"
    }
   ],
   "source": [
    "# Check memory consumption per file - and if necessary - delete large unused objects\n",
    "\n",
    "# These are the usual ipython objects\n",
    "ipython_vars = [\"In\", \"Out\", \"exit\", \"quit\", \"get_ipython\", \"ipython_vars\"]\n",
    "# Get a sorted list of the objects and their sizes\n",
    "sorted(\n",
    "    [\n",
    "        (x, sys.getsizeof(globals().get(x)))\n",
    "        for x in dir()\n",
    "        if not x.startswith(\"_\") and x not in sys.modules and x not in ipython_vars\n",
    "    ],\n",
    "    key=lambda x: x[1],\n",
    "    reverse=True,\n",
    ")\n"
   ]
  },
  {
   "cell_type": "markdown",
   "metadata": {
    "papermill": {
     "duration": 0.092066,
     "end_time": "2020-10-12T08:42:36.162557",
     "exception": false,
     "start_time": "2020-10-12T08:42:36.070491",
     "status": "completed"
    },
    "tags": []
   },
   "source": [
    "The only large object is the main dataframe we're working with. The rest are peanuts. Moving on."
   ]
  },
  {
   "cell_type": "markdown",
   "metadata": {
    "papermill": {
     "duration": 0.092001,
     "end_time": "2020-10-12T08:42:36.345935",
     "exception": false,
     "start_time": "2020-10-12T08:42:36.253934",
     "status": "completed"
    },
    "tags": []
   },
   "source": [
    "# Target encoding"
   ]
  },
  {
   "cell_type": "markdown",
   "metadata": {
    "papermill": {
     "duration": 0.093125,
     "end_time": "2020-10-12T08:42:36.530529",
     "exception": false,
     "start_time": "2020-10-12T08:42:36.437404",
     "status": "completed"
    },
    "tags": []
   },
   "source": [
    "Target encoding the categorical variables since a good chunk of the categoricals have very high cardinality. Otherwise I'd have tried to one-hot encode them."
   ]
  },
  {
   "cell_type": "code",
   "execution_count": 42,
   "metadata": {
    "execution": {
     "iopub.execute_input": "2020-10-12T08:42:36.746506Z",
     "iopub.status.busy": "2020-10-12T08:42:36.745545Z",
     "iopub.status.idle": "2020-10-12T08:47:02.297961Z",
     "shell.execute_reply": "2020-10-12T08:47:02.294776Z"
    },
    "papermill": {
     "duration": 265.653793,
     "end_time": "2020-10-12T08:47:02.298122",
     "exception": false,
     "start_time": "2020-10-12T08:42:36.644329",
     "status": "completed"
    },
    "tags": []
   },
   "outputs": [
    {
     "name": "stdout",
     "output_type": "stream",
     "text": [
      "CPU times: user 3min 50s, sys: 31.8 s, total: 4min 22s\n",
      "Wall time: 4min 25s\n"
     ]
    }
   ],
   "source": [
    "%%time\n",
    "\n",
    "encode_cols = [\n",
    "    \"city\",\n",
    "    \"year\",\n",
    "    \"item_id\",\n",
    "    \"item_cat_id\",\n",
    "    \"similar_item1\",\n",
    "    \"similar_item2\",\n",
    "    \"similar_item3\",\n",
    "    \"item_cat_group\",\n",
    "]\n",
    "\n",
    "\n",
    "def target_encode(df, cols):\n",
    "    for col in cols:\n",
    "        if col not in [\"city\"]:\n",
    "            col = [col, \"shop_id\"]\n",
    "        else:\n",
    "            col = [col]\n",
    "        value_mapping = df[df[\"train\"] == 1].groupby(by=col)[\"item_cnt_month\"].mean()\n",
    "        df[col[0] + \"_encoded\"] = df.set_index(col).index.map(value_mapping)\n",
    "        df[col[0] + \"_encoded\"].fillna(value_mapping.mean(), inplace=True)\n",
    "    return df\n",
    "\n",
    "\n",
    "df = target_encode(df, encode_cols)\n"
   ]
  },
  {
   "cell_type": "markdown",
   "metadata": {
    "papermill": {
     "duration": 0.090694,
     "end_time": "2020-10-12T08:47:02.479034",
     "exception": false,
     "start_time": "2020-10-12T08:47:02.388340",
     "status": "completed"
    },
    "tags": []
   },
   "source": [
    "# **Feature Correlation Heatmap**"
   ]
  },
  {
   "cell_type": "code",
   "execution_count": 43,
   "metadata": {
    "_kg_hide-input": true,
    "execution": {
     "iopub.execute_input": "2020-10-12T08:47:02.673841Z",
     "iopub.status.busy": "2020-10-12T08:47:02.672839Z",
     "iopub.status.idle": "2020-10-12T08:47:24.581388Z",
     "shell.execute_reply": "2020-10-12T08:47:24.580365Z"
    },
    "papermill": {
     "duration": 22.011067,
     "end_time": "2020-10-12T08:47:24.581504",
     "exception": false,
     "start_time": "2020-10-12T08:47:02.570437",
     "status": "completed"
    },
    "tags": []
   },
   "outputs": [
    {
     "data": {
      "text/html": [
       "<div>                            <div id=\"dba999a7-84aa-498c-938b-a3902cb4ea7d\" class=\"plotly-graph-div\" style=\"height:810px; width:810px;\"></div>            <script type=\"text/javascript\">                require([\"plotly\"], function(Plotly) {                    window.PLOTLYENV=window.PLOTLYENV || {};                                    if (document.getElementById(\"dba999a7-84aa-498c-938b-a3902cb4ea7d\")) {                    Plotly.newPlot(                        \"dba999a7-84aa-498c-938b-a3902cb4ea7d\",                        [{\"colorscale\": [[0.0, \"rgb(12,51,131)\"], [0.25, \"rgb(10,136,186)\"], [0.5, \"rgb(242,211,56)\"], [0.75, \"rgb(242,143,56)\"], [1.0, \"rgb(217,30,30)\"]], \"type\": \"heatmap\", \"x\": [\"item_cnt_month\", \"item_price\", \"binned_item_price\", \"item_first_sale\", \"cat_avg_sales_month\", \"item_avg_sales_month\", \"shop_avg_sales_month\", \"item_cnt_month_t-1\", \"item_cnt_month_t-2\", \"item_cnt_month_t-3\", \"item_avg_sales_month_t-1\", \"item_avg_sales_month_t-2\", \"item_avg_sales_month_t-3\", \"cat_avg_month_t-1\", \"cat_avg_month_t-2\", \"cat_avg_month_t-3\", \"shop_avg_month_t-1\", \"shop_avg_month_t-2\", \"shop_avg_month_t-3\", \"city_encoded\", \"year_encoded\", \"item_id_encoded\", \"item_cat_id_encoded\", \"similar_item1_encoded\", \"similar_item2_encoded\", \"similar_item3_encoded\", \"item_cat_group_encoded\"], \"y\": [\"item_cnt_month\", \"item_price\", \"binned_item_price\", \"item_first_sale\", \"cat_avg_sales_month\", \"item_avg_sales_month\", \"shop_avg_sales_month\", \"item_cnt_month_t-1\", \"item_cnt_month_t-2\", \"item_cnt_month_t-3\", \"item_avg_sales_month_t-1\", \"item_avg_sales_month_t-2\", \"item_avg_sales_month_t-3\", \"cat_avg_month_t-1\", \"cat_avg_month_t-2\", \"cat_avg_month_t-3\", \"shop_avg_month_t-1\", \"shop_avg_month_t-2\", \"shop_avg_month_t-3\", \"city_encoded\", \"year_encoded\", \"item_id_encoded\", \"item_cat_id_encoded\", \"similar_item1_encoded\", \"similar_item2_encoded\", \"similar_item3_encoded\", \"item_cat_group_encoded\"], \"z\": [[1.0, 0.05, 0.08, 0.28, 0.42, 0.87, 0.18, 0.56, 0.42, 0.34, 0.51, 0.39, 0.33, 0.34, 0.29, 0.26, 0.12, 0.07, 0.05, 0.12, 0.17, 0.66, 0.39, 0.59, 0.57, 0.56, 0.27], [0.05, 1.0, 0.48, 0.02, 0.09, 0.05, -0.0, 0.05, 0.04, 0.04, 0.05, 0.05, 0.04, 0.07, 0.06, 0.05, -0.02, -0.02, -0.03, -0.01, -0.01, 0.07, 0.09, 0.08, 0.08, 0.08, 0.1], [0.08, 0.48, 1.0, 0.03, 0.08, 0.08, -0.0, 0.08, 0.07, 0.07, 0.08, 0.07, 0.07, 0.07, 0.06, 0.05, -0.01, -0.02, -0.04, -0.01, -0.01, 0.11, 0.09, 0.12, 0.12, 0.12, 0.15], [0.28, 0.02, 0.03, 1.0, 0.07, 0.23, 0.05, -0.05, -0.05, -0.05, -0.05, -0.05, -0.05, -0.03, -0.06, -0.07, -0.07, -0.11, -0.12, 0.04, 0.05, 0.07, 0.06, 0.07, 0.06, 0.06, 0.05], [0.42, 0.09, 0.08, 0.07, 1.0, 0.48, 0.42, 0.38, 0.36, 0.35, 0.43, 0.41, 0.39, 0.87, 0.8, 0.75, 0.35, 0.31, 0.28, 0.28, 0.41, 0.58, 0.95, 0.57, 0.59, 0.6, 0.65], [0.87, 0.05, 0.08, 0.23, 0.48, 1.0, 0.2, 0.53, 0.41, 0.36, 0.59, 0.46, 0.4, 0.41, 0.37, 0.34, 0.15, 0.12, 0.1, 0.14, 0.19, 0.76, 0.45, 0.68, 0.66, 0.65, 0.31], [0.18, -0.0, -0.0, 0.05, 0.42, 0.2, 1.0, 0.16, 0.15, 0.15, 0.18, 0.17, 0.17, 0.37, 0.34, 0.32, 0.81, 0.72, 0.64, 0.66, 0.95, 0.25, 0.42, 0.28, 0.28, 0.29, 0.61], [0.56, 0.05, 0.08, -0.05, 0.38, 0.53, 0.16, 1.0, 0.56, 0.42, 0.87, 0.52, 0.4, 0.43, 0.36, 0.31, 0.2, 0.14, 0.09, 0.12, 0.17, 0.63, 0.38, 0.57, 0.55, 0.54, 0.26], [0.42, 0.04, 0.07, -0.05, 0.36, 0.41, 0.15, 0.56, 1.0, 0.57, 0.53, 0.88, 0.53, 0.39, 0.44, 0.37, 0.18, 0.22, 0.16, 0.11, 0.16, 0.6, 0.37, 0.55, 0.53, 0.52, 0.26], [0.34, 0.04, 0.07, -0.05, 0.35, 0.36, 0.15, 0.42, 0.57, 1.0, 0.42, 0.54, 0.88, 0.37, 0.4, 0.45, 0.18, 0.2, 0.23, 0.11, 0.16, 0.58, 0.36, 0.53, 0.51, 0.51, 0.25], [0.51, 0.05, 0.08, -0.05, 0.43, 0.59, 0.18, 0.87, 0.53, 0.42, 1.0, 0.6, 0.47, 0.49, 0.42, 0.38, 0.23, 0.18, 0.14, 0.13, 0.19, 0.72, 0.44, 0.65, 0.63, 0.62, 0.3], [0.39, 0.05, 0.07, -0.05, 0.41, 0.46, 0.17, 0.52, 0.88, 0.54, 0.6, 1.0, 0.6, 0.45, 0.5, 0.44, 0.21, 0.25, 0.2, 0.13, 0.18, 0.69, 0.42, 0.62, 0.6, 0.59, 0.29], [0.33, 0.04, 0.07, -0.05, 0.39, 0.4, 0.17, 0.4, 0.53, 0.88, 0.47, 0.6, 1.0, 0.42, 0.46, 0.52, 0.2, 0.23, 0.26, 0.12, 0.17, 0.66, 0.41, 0.6, 0.58, 0.57, 0.28], [0.34, 0.07, 0.07, -0.03, 0.87, 0.41, 0.37, 0.43, 0.39, 0.37, 0.49, 0.45, 0.42, 1.0, 0.88, 0.81, 0.46, 0.39, 0.35, 0.26, 0.38, 0.56, 0.88, 0.55, 0.57, 0.57, 0.61], [0.29, 0.06, 0.06, -0.06, 0.8, 0.37, 0.34, 0.36, 0.44, 0.4, 0.42, 0.5, 0.46, 0.88, 1.0, 0.89, 0.41, 0.48, 0.42, 0.25, 0.36, 0.54, 0.84, 0.53, 0.55, 0.55, 0.58], [0.26, 0.05, 0.05, -0.07, 0.75, 0.34, 0.32, 0.31, 0.37, 0.45, 0.38, 0.44, 0.52, 0.81, 0.89, 1.0, 0.38, 0.43, 0.5, 0.23, 0.33, 0.52, 0.79, 0.51, 0.53, 0.53, 0.54], [0.12, -0.02, -0.01, -0.07, 0.35, 0.15, 0.81, 0.2, 0.18, 0.18, 0.23, 0.21, 0.2, 0.46, 0.41, 0.38, 1.0, 0.85, 0.76, 0.58, 0.83, 0.23, 0.37, 0.26, 0.26, 0.27, 0.53], [0.07, -0.02, -0.02, -0.11, 0.31, 0.12, 0.72, 0.14, 0.22, 0.2, 0.18, 0.25, 0.23, 0.39, 0.48, 0.43, 0.85, 1.0, 0.86, 0.51, 0.74, 0.22, 0.33, 0.24, 0.24, 0.25, 0.47], [0.05, -0.03, -0.04, -0.12, 0.28, 0.1, 0.64, 0.09, 0.16, 0.23, 0.14, 0.2, 0.26, 0.35, 0.42, 0.5, 0.76, 0.86, 1.0, 0.46, 0.67, 0.21, 0.31, 0.22, 0.23, 0.23, 0.42], [0.12, -0.01, -0.01, 0.04, 0.28, 0.14, 0.66, 0.12, 0.11, 0.11, 0.13, 0.13, 0.12, 0.26, 0.25, 0.23, 0.58, 0.51, 0.46, 1.0, 0.68, 0.18, 0.3, 0.2, 0.2, 0.21, 0.43], [0.17, -0.01, -0.01, 0.05, 0.41, 0.19, 0.95, 0.17, 0.16, 0.16, 0.19, 0.18, 0.17, 0.38, 0.36, 0.33, 0.83, 0.74, 0.67, 0.68, 1.0, 0.25, 0.43, 0.28, 0.29, 0.3, 0.62], [0.66, 0.07, 0.11, 0.07, 0.58, 0.76, 0.25, 0.63, 0.6, 0.58, 0.72, 0.69, 0.66, 0.56, 0.54, 0.52, 0.23, 0.22, 0.21, 0.18, 0.25, 1.0, 0.6, 0.9, 0.88, 0.86, 0.41], [0.39, 0.09, 0.09, 0.06, 0.95, 0.45, 0.42, 0.38, 0.37, 0.36, 0.44, 0.42, 0.41, 0.88, 0.84, 0.79, 0.37, 0.33, 0.31, 0.3, 0.43, 0.6, 1.0, 0.59, 0.61, 0.62, 0.69], [0.59, 0.08, 0.12, 0.07, 0.57, 0.68, 0.28, 0.57, 0.55, 0.53, 0.65, 0.62, 0.6, 0.55, 0.53, 0.51, 0.26, 0.24, 0.22, 0.2, 0.28, 0.9, 0.59, 1.0, 0.84, 0.82, 0.45], [0.57, 0.08, 0.12, 0.06, 0.59, 0.66, 0.28, 0.55, 0.53, 0.51, 0.63, 0.6, 0.58, 0.57, 0.55, 0.53, 0.26, 0.24, 0.23, 0.2, 0.29, 0.88, 0.61, 0.84, 1.0, 0.86, 0.46], [0.56, 0.08, 0.12, 0.06, 0.6, 0.65, 0.29, 0.54, 0.52, 0.51, 0.62, 0.59, 0.57, 0.57, 0.55, 0.53, 0.27, 0.25, 0.23, 0.21, 0.3, 0.86, 0.62, 0.82, 0.86, 1.0, 0.47], [0.27, 0.1, 0.15, 0.05, 0.65, 0.31, 0.61, 0.26, 0.26, 0.25, 0.3, 0.29, 0.28, 0.61, 0.58, 0.54, 0.53, 0.47, 0.42, 0.43, 0.62, 0.41, 0.69, 0.45, 0.46, 0.47, 1.0]]}],                        {\"height\": 810, \"template\": {\"data\": {\"bar\": [{\"error_x\": {\"color\": \"rgb(51,51,51)\"}, \"error_y\": {\"color\": \"rgb(51,51,51)\"}, \"marker\": {\"line\": {\"color\": \"rgb(237,237,237)\", \"width\": 0.5}}, \"type\": \"bar\"}], \"barpolar\": [{\"marker\": {\"line\": {\"color\": \"rgb(237,237,237)\", \"width\": 0.5}}, \"type\": \"barpolar\"}], \"carpet\": [{\"aaxis\": {\"endlinecolor\": \"rgb(51,51,51)\", \"gridcolor\": \"white\", \"linecolor\": \"white\", \"minorgridcolor\": \"white\", \"startlinecolor\": \"rgb(51,51,51)\"}, \"baxis\": {\"endlinecolor\": \"rgb(51,51,51)\", \"gridcolor\": \"white\", \"linecolor\": \"white\", \"minorgridcolor\": \"white\", \"startlinecolor\": \"rgb(51,51,51)\"}, \"type\": \"carpet\"}], \"choropleth\": [{\"colorbar\": {\"outlinewidth\": 0, \"tickcolor\": \"rgb(237,237,237)\", \"ticklen\": 6, \"ticks\": \"inside\"}, \"type\": \"choropleth\"}], \"contour\": [{\"colorbar\": {\"outlinewidth\": 0, \"tickcolor\": \"rgb(237,237,237)\", \"ticklen\": 6, \"ticks\": \"inside\"}, \"colorscale\": [[0, \"rgb(20,44,66)\"], [1, \"rgb(90,179,244)\"]], \"type\": \"contour\"}], \"contourcarpet\": [{\"colorbar\": {\"outlinewidth\": 0, \"tickcolor\": \"rgb(237,237,237)\", \"ticklen\": 6, \"ticks\": \"inside\"}, \"type\": \"contourcarpet\"}], \"heatmap\": [{\"colorbar\": {\"outlinewidth\": 0, \"tickcolor\": \"rgb(237,237,237)\", \"ticklen\": 6, \"ticks\": \"inside\"}, \"colorscale\": [[0, \"rgb(20,44,66)\"], [1, \"rgb(90,179,244)\"]], \"type\": \"heatmap\"}], \"heatmapgl\": [{\"colorbar\": {\"outlinewidth\": 0, \"tickcolor\": \"rgb(237,237,237)\", \"ticklen\": 6, \"ticks\": \"inside\"}, \"colorscale\": [[0, \"rgb(20,44,66)\"], [1, \"rgb(90,179,244)\"]], \"type\": \"heatmapgl\"}], \"histogram\": [{\"marker\": {\"colorbar\": {\"outlinewidth\": 0, \"tickcolor\": \"rgb(237,237,237)\", \"ticklen\": 6, \"ticks\": \"inside\"}}, \"type\": \"histogram\"}], \"histogram2d\": [{\"colorbar\": {\"outlinewidth\": 0, \"tickcolor\": \"rgb(237,237,237)\", \"ticklen\": 6, \"ticks\": \"inside\"}, \"colorscale\": [[0, \"rgb(20,44,66)\"], [1, \"rgb(90,179,244)\"]], \"type\": \"histogram2d\"}], \"histogram2dcontour\": [{\"colorbar\": {\"outlinewidth\": 0, \"tickcolor\": \"rgb(237,237,237)\", \"ticklen\": 6, \"ticks\": \"inside\"}, \"colorscale\": [[0, \"rgb(20,44,66)\"], [1, \"rgb(90,179,244)\"]], \"type\": \"histogram2dcontour\"}], \"mesh3d\": [{\"colorbar\": {\"outlinewidth\": 0, \"tickcolor\": \"rgb(237,237,237)\", \"ticklen\": 6, \"ticks\": \"inside\"}, \"type\": \"mesh3d\"}], \"parcoords\": [{\"line\": {\"colorbar\": {\"outlinewidth\": 0, \"tickcolor\": \"rgb(237,237,237)\", \"ticklen\": 6, \"ticks\": \"inside\"}}, \"type\": \"parcoords\"}], \"pie\": [{\"automargin\": true, \"type\": \"pie\"}], \"scatter\": [{\"marker\": {\"colorbar\": {\"outlinewidth\": 0, \"tickcolor\": \"rgb(237,237,237)\", \"ticklen\": 6, \"ticks\": \"inside\"}}, \"type\": \"scatter\"}], \"scatter3d\": [{\"line\": {\"colorbar\": {\"outlinewidth\": 0, \"tickcolor\": \"rgb(237,237,237)\", \"ticklen\": 6, \"ticks\": \"inside\"}}, \"marker\": {\"colorbar\": {\"outlinewidth\": 0, \"tickcolor\": \"rgb(237,237,237)\", \"ticklen\": 6, \"ticks\": \"inside\"}}, \"type\": \"scatter3d\"}], \"scattercarpet\": [{\"marker\": {\"colorbar\": {\"outlinewidth\": 0, \"tickcolor\": \"rgb(237,237,237)\", \"ticklen\": 6, \"ticks\": \"inside\"}}, \"type\": \"scattercarpet\"}], \"scattergeo\": [{\"marker\": {\"colorbar\": {\"outlinewidth\": 0, \"tickcolor\": \"rgb(237,237,237)\", \"ticklen\": 6, \"ticks\": \"inside\"}}, \"type\": \"scattergeo\"}], \"scattergl\": [{\"marker\": {\"colorbar\": {\"outlinewidth\": 0, \"tickcolor\": \"rgb(237,237,237)\", \"ticklen\": 6, \"ticks\": \"inside\"}}, \"type\": \"scattergl\"}], \"scattermapbox\": [{\"marker\": {\"colorbar\": {\"outlinewidth\": 0, \"tickcolor\": \"rgb(237,237,237)\", \"ticklen\": 6, \"ticks\": \"inside\"}}, \"type\": \"scattermapbox\"}], \"scatterpolar\": [{\"marker\": {\"colorbar\": {\"outlinewidth\": 0, \"tickcolor\": \"rgb(237,237,237)\", \"ticklen\": 6, \"ticks\": \"inside\"}}, \"type\": \"scatterpolar\"}], \"scatterpolargl\": [{\"marker\": {\"colorbar\": {\"outlinewidth\": 0, \"tickcolor\": \"rgb(237,237,237)\", \"ticklen\": 6, \"ticks\": \"inside\"}}, \"type\": \"scatterpolargl\"}], \"scatterternary\": [{\"marker\": {\"colorbar\": {\"outlinewidth\": 0, \"tickcolor\": \"rgb(237,237,237)\", \"ticklen\": 6, \"ticks\": \"inside\"}}, \"type\": \"scatterternary\"}], \"surface\": [{\"colorbar\": {\"outlinewidth\": 0, \"tickcolor\": \"rgb(237,237,237)\", \"ticklen\": 6, \"ticks\": \"inside\"}, \"colorscale\": [[0, \"rgb(20,44,66)\"], [1, \"rgb(90,179,244)\"]], \"type\": \"surface\"}], \"table\": [{\"cells\": {\"fill\": {\"color\": \"rgb(237,237,237)\"}, \"line\": {\"color\": \"white\"}}, \"header\": {\"fill\": {\"color\": \"rgb(217,217,217)\"}, \"line\": {\"color\": \"white\"}}, \"type\": \"table\"}]}, \"layout\": {\"annotationdefaults\": {\"arrowhead\": 0, \"arrowwidth\": 1}, \"coloraxis\": {\"colorbar\": {\"outlinewidth\": 0, \"tickcolor\": \"rgb(237,237,237)\", \"ticklen\": 6, \"ticks\": \"inside\"}}, \"colorscale\": {\"sequential\": [[0, \"rgb(20,44,66)\"], [1, \"rgb(90,179,244)\"]], \"sequentialminus\": [[0, \"rgb(20,44,66)\"], [1, \"rgb(90,179,244)\"]]}, \"colorway\": [\"#F8766D\", \"#A3A500\", \"#00BF7D\", \"#00B0F6\", \"#E76BF3\"], \"font\": {\"color\": \"rgb(51,51,51)\"}, \"geo\": {\"bgcolor\": \"white\", \"lakecolor\": \"white\", \"landcolor\": \"rgb(237,237,237)\", \"showlakes\": true, \"showland\": true, \"subunitcolor\": \"white\"}, \"hoverlabel\": {\"align\": \"left\"}, \"hovermode\": \"closest\", \"paper_bgcolor\": \"white\", \"plot_bgcolor\": \"rgb(237,237,237)\", \"polar\": {\"angularaxis\": {\"gridcolor\": \"white\", \"linecolor\": \"white\", \"showgrid\": true, \"tickcolor\": \"rgb(51,51,51)\", \"ticks\": \"outside\"}, \"bgcolor\": \"rgb(237,237,237)\", \"radialaxis\": {\"gridcolor\": \"white\", \"linecolor\": \"white\", \"showgrid\": true, \"tickcolor\": \"rgb(51,51,51)\", \"ticks\": \"outside\"}}, \"scene\": {\"xaxis\": {\"backgroundcolor\": \"rgb(237,237,237)\", \"gridcolor\": \"white\", \"gridwidth\": 2, \"linecolor\": \"white\", \"showbackground\": true, \"showgrid\": true, \"tickcolor\": \"rgb(51,51,51)\", \"ticks\": \"outside\", \"zerolinecolor\": \"white\"}, \"yaxis\": {\"backgroundcolor\": \"rgb(237,237,237)\", \"gridcolor\": \"white\", \"gridwidth\": 2, \"linecolor\": \"white\", \"showbackground\": true, \"showgrid\": true, \"tickcolor\": \"rgb(51,51,51)\", \"ticks\": \"outside\", \"zerolinecolor\": \"white\"}, \"zaxis\": {\"backgroundcolor\": \"rgb(237,237,237)\", \"gridcolor\": \"white\", \"gridwidth\": 2, \"linecolor\": \"white\", \"showbackground\": true, \"showgrid\": true, \"tickcolor\": \"rgb(51,51,51)\", \"ticks\": \"outside\", \"zerolinecolor\": \"white\"}}, \"shapedefaults\": {\"fillcolor\": \"black\", \"line\": {\"width\": 0}, \"opacity\": 0.3}, \"ternary\": {\"aaxis\": {\"gridcolor\": \"white\", \"linecolor\": \"white\", \"showgrid\": true, \"tickcolor\": \"rgb(51,51,51)\", \"ticks\": \"outside\"}, \"baxis\": {\"gridcolor\": \"white\", \"linecolor\": \"white\", \"showgrid\": true, \"tickcolor\": \"rgb(51,51,51)\", \"ticks\": \"outside\"}, \"bgcolor\": \"rgb(237,237,237)\", \"caxis\": {\"gridcolor\": \"white\", \"linecolor\": \"white\", \"showgrid\": true, \"tickcolor\": \"rgb(51,51,51)\", \"ticks\": \"outside\"}}, \"xaxis\": {\"automargin\": true, \"gridcolor\": \"white\", \"linecolor\": \"white\", \"showgrid\": true, \"tickcolor\": \"rgb(51,51,51)\", \"ticks\": \"outside\", \"title\": {\"standoff\": 15}, \"zerolinecolor\": \"white\"}, \"yaxis\": {\"automargin\": true, \"gridcolor\": \"white\", \"linecolor\": \"white\", \"showgrid\": true, \"tickcolor\": \"rgb(51,51,51)\", \"ticks\": \"outside\", \"title\": {\"standoff\": 15}, \"zerolinecolor\": \"white\"}}}, \"title\": {\"font\": {\"color\": \"darkslateblue\", \"size\": 22}, \"text\": \"Feature Correlation Heatmap\"}, \"width\": 810, \"xaxis\": {\"side\": \"bottom\", \"tickangle\": -40, \"tickfont\": {\"size\": 14}}},                        {\"responsive\": true}                    ).then(function(){\n",
       "                            \n",
       "var gd = document.getElementById('dba999a7-84aa-498c-938b-a3902cb4ea7d');\n",
       "var x = new MutationObserver(function (mutations, observer) {{\n",
       "        var display = window.getComputedStyle(gd).display;\n",
       "        if (!display || display === 'none') {{\n",
       "            console.log([gd, 'removed!']);\n",
       "            Plotly.purge(gd);\n",
       "            observer.disconnect();\n",
       "        }}\n",
       "}});\n",
       "\n",
       "// Listen for the removal of the full notebook cells\n",
       "var notebookContainer = gd.closest('#notebook-container');\n",
       "if (notebookContainer) {{\n",
       "    x.observe(notebookContainer, {childList: true});\n",
       "}}\n",
       "\n",
       "// Listen for the clearing of the current output cell\n",
       "var outputEl = gd.closest('.output');\n",
       "if (outputEl) {{\n",
       "    x.observe(outputEl, {childList: true});\n",
       "}}\n",
       "\n",
       "                        })                };                });            </script>        </div>"
      ]
     },
     "metadata": {},
     "output_type": "display_data"
    }
   ],
   "source": [
    "def plot_correlations(df):\n",
    "\n",
    "    corr = (\n",
    "        df[df[\"train\"] == 1]\n",
    "        .drop(\n",
    "            columns=[\n",
    "                \"item_cat_id\",\n",
    "                \"similar_item1\",\n",
    "                \"similar_item2\",\n",
    "                \"similar_item3\",\n",
    "                \"city\",\n",
    "                \"item_id\",\n",
    "                \"train\",\n",
    "                \"shop_id\",\n",
    "                \"date_block_num\",\n",
    "            ]\n",
    "        )\n",
    "        .corr()\n",
    "    )\n",
    "    corr_cols = [*corr.columns.values]\n",
    "\n",
    "    font_colors = [\"white\", \"black\"]\n",
    "\n",
    "    fig = go.Figure(\n",
    "        go.Heatmap(\n",
    "            z=corr.round(2).values,\n",
    "            x=corr_cols,\n",
    "            y=corr_cols,\n",
    "            colorscale=px.colors.diverging.Portland,\n",
    "        )\n",
    "    )\n",
    "\n",
    "    fig.update_layout(\n",
    "        height=30 * len(corr_cols),\n",
    "        width=30 * len(corr_cols),\n",
    "        template='ggplot2',\n",
    "        title=go.layout.Title(\n",
    "            text=\"Feature Correlation Heatmap\",\n",
    "            font=dict(size=22, color=\"darkslateblue\"),\n",
    "        ),\n",
    "    )\n",
    "\n",
    "    fig.update_xaxes(tickfont=dict(size=14), tickangle=-40, side=\"bottom\")\n",
    "\n",
    "    return fig\n",
    "\n",
    "\n",
    "plot_correlations(df).show()"
   ]
  },
  {
   "cell_type": "markdown",
   "metadata": {
    "papermill": {
     "duration": 0.093283,
     "end_time": "2020-10-12T08:47:24.770671",
     "exception": false,
     "start_time": "2020-10-12T08:47:24.677388",
     "status": "completed"
    },
    "tags": []
   },
   "source": [
    "Dropping the redundant/unused features before starting the modeling step. "
   ]
  },
  {
   "cell_type": "code",
   "execution_count": 44,
   "metadata": {
    "execution": {
     "iopub.execute_input": "2020-10-12T08:47:24.963313Z",
     "iopub.status.busy": "2020-10-12T08:47:24.962444Z",
     "iopub.status.idle": "2020-10-12T08:47:24.965376Z",
     "shell.execute_reply": "2020-10-12T08:47:24.964905Z"
    },
    "papermill": {
     "duration": 0.101953,
     "end_time": "2020-10-12T08:47:24.965486",
     "exception": false,
     "start_time": "2020-10-12T08:47:24.863533",
     "status": "completed"
    },
    "tags": []
   },
   "outputs": [],
   "source": [
    "X_cols_to_drop = [\n",
    "    \"item_id\",\n",
    "    \"shop_id\",\n",
    "    \"date_block_num\",\n",
    "    \"train\",\n",
    "    \"item_cnt_month\",\n",
    "    \"binned_item_price\",\n",
    "    \"item_cat_id\",\n",
    "    \"item_cat_name\",\n",
    "    \"shop_name\",\n",
    "    \"similar_item1\",\n",
    "    \"similar_item2\",\n",
    "    \"similar_item3\",\n",
    "    \"month\",\n",
    "    \"year\",\n",
    "    \"item_cat_group\",\n",
    "    \"city\",\n",
    "]\n"
   ]
  },
  {
   "cell_type": "code",
   "execution_count": 45,
   "metadata": {
    "execution": {
     "iopub.execute_input": "2020-10-12T08:47:25.159740Z",
     "iopub.status.busy": "2020-10-12T08:47:25.158716Z",
     "iopub.status.idle": "2020-10-12T08:47:30.459798Z",
     "shell.execute_reply": "2020-10-12T08:47:30.458963Z"
    },
    "papermill": {
     "duration": 5.401368,
     "end_time": "2020-10-12T08:47:30.459935",
     "exception": false,
     "start_time": "2020-10-12T08:47:25.058567",
     "status": "completed"
    },
    "tags": []
   },
   "outputs": [],
   "source": [
    "# Scaling item prices\n",
    "scaler = StandardScaler()\n",
    "\n",
    "df.loc[df[\"train\"] == 1, \"item_price\"] = scaler.fit_transform(\n",
    "    df.loc[df[\"train\"] == 1, \"item_price\"].values.reshape(-1, 1)\n",
    ")\n",
    "df.loc[df[\"train\"] == 0, \"item_price\"] = scaler.transform(\n",
    "    df.loc[df[\"train\"] == 0, \"item_price\"].values.reshape(-1, 1)\n",
    ")\n"
   ]
  },
  {
   "cell_type": "markdown",
   "metadata": {
    "papermill": {
     "duration": 0.092376,
     "end_time": "2020-10-12T08:47:30.644481",
     "exception": false,
     "start_time": "2020-10-12T08:47:30.552105",
     "status": "completed"
    },
    "tags": []
   },
   "source": [
    "To mimic how the test set is created, I am setting aside the records with the date block num 33 for validation. This is different than the usual way of establishing validation sets e.g. cross_val, train_test_split etc."
   ]
  },
  {
   "cell_type": "code",
   "execution_count": 46,
   "metadata": {
    "execution": {
     "iopub.execute_input": "2020-10-12T08:47:30.836465Z",
     "iopub.status.busy": "2020-10-12T08:47:30.835448Z",
     "iopub.status.idle": "2020-10-12T08:47:34.169557Z",
     "shell.execute_reply": "2020-10-12T08:47:34.169034Z"
    },
    "papermill": {
     "duration": 3.434057,
     "end_time": "2020-10-12T08:47:34.169670",
     "exception": false,
     "start_time": "2020-10-12T08:47:30.735613",
     "status": "completed"
    },
    "tags": []
   },
   "outputs": [],
   "source": [
    "def df_to_xy(df):\n",
    "\n",
    "    X_train = df[df[\"date_block_num\"] < 33].drop(columns=X_cols_to_drop)\n",
    "    X_val = df[df[\"date_block_num\"] == 33].drop(columns=X_cols_to_drop)\n",
    "\n",
    "    y_train = df.loc[df[\"date_block_num\"] < 33, \"item_cnt_month\"]\n",
    "    y_val = df.loc[df[\"date_block_num\"] == 33, \"item_cnt_month\"]\n",
    "\n",
    "    X_test = df[df[\"date_block_num\"] == 34].drop(columns=X_cols_to_drop)\n",
    "\n",
    "    return X_test, X_train, X_val, y_train, y_val\n",
    "\n",
    "\n",
    "X_test, X_train, X_val, y_train, y_val = df_to_xy(df)\n",
    "\n",
    "del df\n",
    "capture = gc.collect()\n"
   ]
  },
  {
   "cell_type": "markdown",
   "metadata": {
    "papermill": {
     "duration": 0.091069,
     "end_time": "2020-10-12T08:47:34.352867",
     "exception": false,
     "start_time": "2020-10-12T08:47:34.261798",
     "status": "completed"
    },
    "tags": []
   },
   "source": [
    "# Modeling, Feature Importances, and Final Submission"
   ]
  },
  {
   "cell_type": "markdown",
   "metadata": {
    "papermill": {
     "duration": 0.136262,
     "end_time": "2020-10-12T08:47:34.599815",
     "exception": false,
     "start_time": "2020-10-12T08:47:34.463553",
     "status": "completed"
    },
    "tags": []
   },
   "source": [
    "I am using XGB regressor for submission. The hyperparameter values are the result of a number of trial-and-errors.<br> I kept the tree relatively shallow with the intent of preventing overfitting.  "
   ]
  },
  {
   "cell_type": "code",
   "execution_count": 47,
   "metadata": {
    "execution": {
     "iopub.execute_input": "2020-10-12T08:47:34.878654Z",
     "iopub.status.busy": "2020-10-12T08:47:34.877676Z",
     "iopub.status.idle": "2020-10-12T08:47:56.390863Z",
     "shell.execute_reply": "2020-10-12T08:47:56.390206Z"
    },
    "papermill": {
     "duration": 21.657909,
     "end_time": "2020-10-12T08:47:56.391001",
     "exception": false,
     "start_time": "2020-10-12T08:47:34.733092",
     "status": "completed"
    },
    "tags": []
   },
   "outputs": [
    {
     "name": "stdout",
     "output_type": "stream",
     "text": [
      "[0]\tvalidation_0-rmse:1.04690\n",
      "Will train until validation_0-rmse hasn't improved in 10 rounds.\n",
      "[1]\tvalidation_0-rmse:0.96270\n",
      "[2]\tvalidation_0-rmse:0.93373\n",
      "[3]\tvalidation_0-rmse:0.91107\n",
      "[4]\tvalidation_0-rmse:0.83961\n",
      "[5]\tvalidation_0-rmse:0.79219\n",
      "[6]\tvalidation_0-rmse:0.77096\n",
      "[7]\tvalidation_0-rmse:0.75002\n",
      "[8]\tvalidation_0-rmse:0.74560\n",
      "[9]\tvalidation_0-rmse:0.69008\n",
      "[10]\tvalidation_0-rmse:0.68785\n",
      "[11]\tvalidation_0-rmse:0.65855\n",
      "[12]\tvalidation_0-rmse:0.66174\n",
      "[13]\tvalidation_0-rmse:0.66301\n",
      "[14]\tvalidation_0-rmse:0.66271\n",
      "[15]\tvalidation_0-rmse:0.66460\n",
      "[16]\tvalidation_0-rmse:0.64946\n",
      "[17]\tvalidation_0-rmse:0.65432\n",
      "[18]\tvalidation_0-rmse:0.66058\n",
      "[19]\tvalidation_0-rmse:0.62869\n",
      "[20]\tvalidation_0-rmse:0.62800\n",
      "[21]\tvalidation_0-rmse:0.62701\n",
      "[22]\tvalidation_0-rmse:0.62704\n",
      "[23]\tvalidation_0-rmse:0.62742\n",
      "[24]\tvalidation_0-rmse:0.62885\n",
      "[25]\tvalidation_0-rmse:0.63015\n",
      "[26]\tvalidation_0-rmse:0.62877\n",
      "[27]\tvalidation_0-rmse:0.62909\n",
      "[28]\tvalidation_0-rmse:0.62885\n",
      "[29]\tvalidation_0-rmse:0.62933\n",
      "[30]\tvalidation_0-rmse:0.63036\n",
      "[31]\tvalidation_0-rmse:0.62974\n",
      "Stopping. Best iteration:\n",
      "[21]\tvalidation_0-rmse:0.62701\n",
      "\n"
     ]
    }
   ],
   "source": [
    "model_params = {\n",
    "    \"n_estimators\": 100,\n",
    "    \"max_depth\": 6,\n",
    "    \"booster\": \"gbtree\",\n",
    "    \"learning_rate\": 0.15,\n",
    "    \"tree_method\": \"gpu_hist\", # Utilizing GPU results much faster calculation\n",
    "    \"min_child_weight\": 0.35,\n",
    "    \"colsample_bytree\": 0.27,\n",
    "    \"subsample\": 0.93,\n",
    "    \"reg_alpha\": 0.83,\n",
    "    \"reg_lambda\": 0.56,\n",
    "}\n",
    "\n",
    "\n",
    "model = XGBRegressor(**model_params)\n",
    "model.fit(\n",
    "    X_train,\n",
    "    y_train,\n",
    "    eval_metric=\"rmse\",\n",
    "    eval_set=[(X_val, y_val)],\n",
    "    early_stopping_rounds=10,\n",
    ")\n",
    "\n",
    "# Clipping the target values once more before submission\n",
    "pred = model.predict(X_test).clip(0, 20)\n",
    "\n",
    "# Retrieving the submission IDs\n",
    "sub_ID = pd.read_csv(\"../input/competitive-data-science-predict-future-sales/test.csv\")[\n",
    "    \"ID\"\n",
    "].values\n",
    "\n",
    "submissionfile = pd.DataFrame(list(zip(sub_ID, pred)), columns=[\"ID\", \"item_cnt_month\"])"
   ]
  },
  {
   "cell_type": "markdown",
   "metadata": {
    "papermill": {
     "duration": 0.103169,
     "end_time": "2020-10-12T08:47:56.597857",
     "exception": false,
     "start_time": "2020-10-12T08:47:56.494688",
     "status": "completed"
    },
    "tags": []
   },
   "source": [
    "Visualizing feature importances."
   ]
  },
  {
   "cell_type": "code",
   "execution_count": 48,
   "metadata": {
    "execution": {
     "iopub.execute_input": "2020-10-12T08:47:56.810318Z",
     "iopub.status.busy": "2020-10-12T08:47:56.809430Z",
     "iopub.status.idle": "2020-10-12T08:47:57.207697Z",
     "shell.execute_reply": "2020-10-12T08:47:57.208264Z"
    },
    "papermill": {
     "duration": 0.507702,
     "end_time": "2020-10-12T08:47:57.208409",
     "exception": false,
     "start_time": "2020-10-12T08:47:56.700707",
     "status": "completed"
    },
    "tags": []
   },
   "outputs": [
    {
     "data": {
      "text/plain": [
       "<matplotlib.axes._subplots.AxesSubplot at 0x7fe3aad14f50>"
      ]
     },
     "execution_count": 48,
     "metadata": {},
     "output_type": "execute_result"
    },
    {
     "data": {
      "image/png": "[encoded data removed]",
      "text/plain": [
       "<Figure size 720x864 with 1 Axes>"
      ]
     },
     "metadata": {},
     "output_type": "display_data"
    }
   ],
   "source": [
    "params = {\n",
    "    \"axes.labelsize\": 20,\n",
    "    \"ytick.labelsize\": 16,\n",
    "    \"axes.titlesize\": 22,\n",
    "    \"axes.edgecolor\": \"#333F4B\",\n",
    "}\n",
    "plt.rcParams.update(params)\n",
    "\n",
    "fig, ax = plt.subplots(1, 1, figsize=(10, 12))\n",
    "\n",
    "plot_importance(model, height=0.8, ax=ax)\n"
   ]
  },
  {
   "cell_type": "markdown",
   "metadata": {
    "papermill": {
     "duration": 0.105762,
     "end_time": "2020-10-12T08:47:57.421496",
     "exception": false,
     "start_time": "2020-10-12T08:47:57.315734",
     "status": "completed"
    },
    "tags": []
   },
   "source": [
    "Submitting the results..."
   ]
  },
  {
   "cell_type": "code",
   "execution_count": 49,
   "metadata": {
    "execution": {
     "iopub.execute_input": "2020-10-12T08:47:57.639110Z",
     "iopub.status.busy": "2020-10-12T08:47:57.638485Z",
     "iopub.status.idle": "2020-10-12T08:47:58.636926Z",
     "shell.execute_reply": "2020-10-12T08:47:58.635681Z"
    },
    "papermill": {
     "duration": 1.109636,
     "end_time": "2020-10-12T08:47:58.637099",
     "exception": false,
     "start_time": "2020-10-12T08:47:57.527463",
     "status": "completed"
    },
    "tags": []
   },
   "outputs": [],
   "source": [
    "submissionfile.to_csv('submission.csv', index=False)"
   ]
  }
 ],
 "metadata": {
  "kernelspec": {
   "display_name": "Python 3",
   "language": "python",
   "name": "python3"
  },
  "language_info": {
   "codemirror_mode": {
    "name": "ipython",
    "version": 3
   },
   "file_extension": ".py",
   "mimetype": "text/x-python",
   "name": "python",
   "nbconvert_exporter": "python",
   "pygments_lexer": "ipython3",
   "version": "3.7.6"
  },
  "papermill": {
   "duration": 776.749033,
   "end_time": "2020-10-12T08:48:00.063754",
   "environment_variables": {},
   "exception": null,
   "input_path": "__notebook__.ipynb",
   "output_path": "__notebook__.ipynb",
   "parameters": {},
   "start_time": "2020-10-12T08:35:03.314721",
   "version": "2.1.0"
  }
 },
 "nbformat": 4,
 "nbformat_minor": 4
}
